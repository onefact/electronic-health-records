{
 "cells": [
  {
   "cell_type": "markdown",
   "metadata": {},
   "source": [
    "# Loading MIMIC data for downstream tasks and analysis in biomedical informatics, clinical research, and health AI\n",
    "\n",
    "Steps:\n",
    "\n",
    "1. Download https://physionet.org/content/mimiciii/1.4/ and https://physionet.org/content/mimiciv/2.2/ by creating a Physionet account, completing the training, and signing the data use agremeent (which includes provisions such as `The LICENSEE agrees to contribute code associated with publications arising from this data to a repository that is open to the research community.`)\n",
    "\n",
    "2. Parse the header of each file and use the header information as context for a large language model to write the SQL scripts in DuckDB dialect. \n",
    "3. Make another LLM call and use the SQL query prototyped in this notebook as the basis for a dbt model, one per file.  "
   ]
  },
  {
   "cell_type": "markdown",
   "metadata": {},
   "source": [
    "## Extract downloaded archives"
   ]
  },
  {
   "cell_type": "code",
   "execution_count": 2,
   "metadata": {},
   "outputs": [
    {
     "name": "stdout",
     "output_type": "stream",
     "text": [
      "mimic-iii-clinical-database-1.4.zip\n",
      "mimic-iv-2.2.zip\n",
      "mimic-iv-note-deidentified-free-text-clinical-notes-2.2.zip\n"
     ]
    }
   ],
   "source": [
    "!ls ~/data/mimic"
   ]
  },
  {
   "cell_type": "code",
   "execution_count": 3,
   "metadata": {},
   "outputs": [
    {
     "name": "stdout",
     "output_type": "stream",
     "text": [
      "Archive:  /Users/me/data/mimic/mimic-iii-clinical-database-1.4.zip\n",
      " extracting: /Users/me/data/mimic/mimic-iii-clinical-database-1.4/ADMISSIONS.csv.gz  \n",
      " extracting: /Users/me/data/mimic/mimic-iii-clinical-database-1.4/CALLOUT.csv.gz  \n",
      " extracting: /Users/me/data/mimic/mimic-iii-clinical-database-1.4/CAREGIVERS.csv.gz  \n",
      " extracting: /Users/me/data/mimic/mimic-iii-clinical-database-1.4/CHARTEVENTS.csv.gz  \n",
      " extracting: /Users/me/data/mimic/mimic-iii-clinical-database-1.4/CPTEVENTS.csv.gz  \n",
      " extracting: /Users/me/data/mimic/mimic-iii-clinical-database-1.4/DATETIMEEVENTS.csv.gz  \n",
      " extracting: /Users/me/data/mimic/mimic-iii-clinical-database-1.4/DIAGNOSES_ICD.csv.gz  \n",
      " extracting: /Users/me/data/mimic/mimic-iii-clinical-database-1.4/DRGCODES.csv.gz  \n",
      " extracting: /Users/me/data/mimic/mimic-iii-clinical-database-1.4/D_CPT.csv.gz  \n",
      " extracting: /Users/me/data/mimic/mimic-iii-clinical-database-1.4/D_ICD_DIAGNOSES.csv.gz  \n",
      " extracting: /Users/me/data/mimic/mimic-iii-clinical-database-1.4/D_ICD_PROCEDURES.csv.gz  \n",
      " extracting: /Users/me/data/mimic/mimic-iii-clinical-database-1.4/D_ITEMS.csv.gz  \n",
      " extracting: /Users/me/data/mimic/mimic-iii-clinical-database-1.4/D_LABITEMS.csv.gz  \n",
      " extracting: /Users/me/data/mimic/mimic-iii-clinical-database-1.4/ICUSTAYS.csv.gz  \n",
      " extracting: /Users/me/data/mimic/mimic-iii-clinical-database-1.4/INPUTEVENTS_CV.csv.gz  \n",
      " extracting: /Users/me/data/mimic/mimic-iii-clinical-database-1.4/INPUTEVENTS_MV.csv.gz  \n",
      " extracting: /Users/me/data/mimic/mimic-iii-clinical-database-1.4/LABEVENTS.csv.gz  \n",
      " extracting: /Users/me/data/mimic/mimic-iii-clinical-database-1.4/LICENSE.txt  \n",
      " extracting: /Users/me/data/mimic/mimic-iii-clinical-database-1.4/MICROBIOLOGYEVENTS.csv.gz  \n",
      " extracting: /Users/me/data/mimic/mimic-iii-clinical-database-1.4/NOTEEVENTS.csv.gz  \n",
      " extracting: /Users/me/data/mimic/mimic-iii-clinical-database-1.4/OUTPUTEVENTS.csv.gz  \n",
      " extracting: /Users/me/data/mimic/mimic-iii-clinical-database-1.4/PATIENTS.csv.gz  \n",
      " extracting: /Users/me/data/mimic/mimic-iii-clinical-database-1.4/PRESCRIPTIONS.csv.gz  \n",
      " extracting: /Users/me/data/mimic/mimic-iii-clinical-database-1.4/PROCEDUREEVENTS_MV.csv.gz  \n",
      " extracting: /Users/me/data/mimic/mimic-iii-clinical-database-1.4/PROCEDURES_ICD.csv.gz  \n",
      " extracting: /Users/me/data/mimic/mimic-iii-clinical-database-1.4/README.md  \n",
      " extracting: /Users/me/data/mimic/mimic-iii-clinical-database-1.4/SERVICES.csv.gz  \n",
      " extracting: /Users/me/data/mimic/mimic-iii-clinical-database-1.4/SHA256SUMS.txt  \n",
      " extracting: /Users/me/data/mimic/mimic-iii-clinical-database-1.4/TRANSFERS.csv.gz  \n",
      " extracting: /Users/me/data/mimic/mimic-iii-clinical-database-1.4/checksum_md5_unzipped.txt  \n",
      " extracting: /Users/me/data/mimic/mimic-iii-clinical-database-1.4/checksum_md5_zipped.txt  \n"
     ]
    }
   ],
   "source": [
    "!unzip ~/data/mimic/mimic-iii-clinical-database-1.4.zip -d ~/data/mimic"
   ]
  },
  {
   "cell_type": "code",
   "execution_count": 5,
   "metadata": {},
   "outputs": [
    {
     "name": "stdout",
     "output_type": "stream",
     "text": [
      "Archive:  /Users/me/data/mimic/mimic-iv-2.2.zip\n",
      "  inflating: /Users/me/data/mimic/mimic-iv-2.2/CHANGELOG.txt  \n",
      "  inflating: /Users/me/data/mimic/mimic-iv-2.2/LICENSE.txt  \n",
      "  inflating: /Users/me/data/mimic/mimic-iv-2.2/SHA256SUMS.txt  \n",
      "  inflating: /Users/me/data/mimic/mimic-iv-2.2/hosp/admissions.csv.gz  \n",
      "  inflating: /Users/me/data/mimic/mimic-iv-2.2/hosp/d_hcpcs.csv.gz  \n",
      "  inflating: /Users/me/data/mimic/mimic-iv-2.2/hosp/d_icd_diagnoses.csv.gz  \n",
      "  inflating: /Users/me/data/mimic/mimic-iv-2.2/hosp/d_icd_procedures.csv.gz  \n",
      " extracting: /Users/me/data/mimic/mimic-iv-2.2/hosp/d_labitems.csv.gz  \n",
      "  inflating: /Users/me/data/mimic/mimic-iv-2.2/hosp/diagnoses_icd.csv.gz  \n",
      "  inflating: /Users/me/data/mimic/mimic-iv-2.2/hosp/drgcodes.csv.gz  \n",
      "  inflating: /Users/me/data/mimic/mimic-iv-2.2/hosp/emar.csv.gz  \n",
      "  inflating: /Users/me/data/mimic/mimic-iv-2.2/hosp/emar_detail.csv.gz  \n",
      "  inflating: /Users/me/data/mimic/mimic-iv-2.2/hosp/hcpcsevents.csv.gz  \n",
      "  inflating: /Users/me/data/mimic/mimic-iv-2.2/hosp/labevents.csv.gz  \n",
      "  inflating: /Users/me/data/mimic/mimic-iv-2.2/hosp/microbiologyevents.csv.gz  \n",
      "  inflating: /Users/me/data/mimic/mimic-iv-2.2/hosp/omr.csv.gz  \n",
      "  inflating: /Users/me/data/mimic/mimic-iv-2.2/hosp/patients.csv.gz  \n",
      "  inflating: /Users/me/data/mimic/mimic-iv-2.2/hosp/pharmacy.csv.gz  \n",
      "  inflating: /Users/me/data/mimic/mimic-iv-2.2/hosp/poe.csv.gz  \n",
      "  inflating: /Users/me/data/mimic/mimic-iv-2.2/hosp/poe_detail.csv.gz  \n",
      "  inflating: /Users/me/data/mimic/mimic-iv-2.2/hosp/prescriptions.csv.gz  \n",
      "  inflating: /Users/me/data/mimic/mimic-iv-2.2/hosp/procedures_icd.csv.gz  \n",
      "  inflating: /Users/me/data/mimic/mimic-iv-2.2/hosp/provider.csv.gz  \n",
      "  inflating: /Users/me/data/mimic/mimic-iv-2.2/hosp/services.csv.gz  \n",
      "  inflating: /Users/me/data/mimic/mimic-iv-2.2/hosp/transfers.csv.gz  \n",
      "  inflating: /Users/me/data/mimic/mimic-iv-2.2/icu/caregiver.csv.gz  \n",
      "  inflating: /Users/me/data/mimic/mimic-iv-2.2/icu/chartevents.csv.gz  \n",
      "  inflating: /Users/me/data/mimic/mimic-iv-2.2/icu/d_items.csv.gz  \n",
      "  inflating: /Users/me/data/mimic/mimic-iv-2.2/icu/datetimeevents.csv.gz  \n",
      "  inflating: /Users/me/data/mimic/mimic-iv-2.2/icu/icustays.csv.gz  \n",
      "  inflating: /Users/me/data/mimic/mimic-iv-2.2/icu/ingredientevents.csv.gz  \n",
      "  inflating: /Users/me/data/mimic/mimic-iv-2.2/icu/inputevents.csv.gz  \n",
      "  inflating: /Users/me/data/mimic/mimic-iv-2.2/icu/outputevents.csv.gz  \n",
      "  inflating: /Users/me/data/mimic/mimic-iv-2.2/icu/procedureevents.csv.gz  \n"
     ]
    }
   ],
   "source": [
    "!unzip ~/data/mimic/mimic-iv-2.2.zip -d ~/data/mimic"
   ]
  },
  {
   "cell_type": "code",
   "execution_count": 1,
   "metadata": {},
   "outputs": [
    {
     "name": "stdout",
     "output_type": "stream",
     "text": [
      "Archive:  /Users/me/data/mimic/mimic-iv-note-deidentified-free-text-clinical-notes-2.2.zip\n",
      "replace /Users/me/data/mimic/mimic-iv-note-deidentified-free-text-clinical-notes-2.2/LICENSE.txt? [y]es, [n]o, [A]ll, [N]one, [r]ename: ^C\n"
     ]
    }
   ],
   "source": [
    "!unzip ~/data/mimic/mimic-iv-note-deidentified-free-text-clinical-notes-2.2.zip -d ~/data/mimic"
   ]
  },
  {
   "cell_type": "code",
   "execution_count": 7,
   "metadata": {},
   "outputs": [],
   "source": [
    "%%capture folder_structure\n",
    "!tree ~/data/mimic"
   ]
  },
  {
   "cell_type": "markdown",
   "metadata": {},
   "source": [
    "# First load MIMIC-III data"
   ]
  },
  {
   "cell_type": "code",
   "execution_count": 1,
   "metadata": {},
   "outputs": [],
   "source": [
    "%%capture mimic_iii_structure\n",
    "import seedir as sd\n",
    "mimic_iii_path = '~/data/mimic/mimic-iii-clinical-database-1.4'\n",
    "sd.seedir(mimic_iii_path, style='lines', depthlimit=2, exclude_folders=['.git', '.ipynb_checkpoints'])"
   ]
  },
  {
   "cell_type": "code",
   "execution_count": 2,
   "metadata": {},
   "outputs": [
    {
     "name": "stdout",
     "output_type": "stream",
     "text": [
      "mimic-iii-clinical-database-1.4/\n",
      "├─DATETIMEEVENTS.csv.gz\n",
      "├─CPTEVENTS.csv.gz\n",
      "├─PATIENTS.csv.gz\n",
      "├─DIAGNOSES_ICD.csv.gz\n",
      "├─CAREGIVERS.csv.gz\n",
      "├─PRESCRIPTIONS.csv.gz\n",
      "├─INPUTEVENTS_MV.csv.gz\n",
      "├─DRGCODES.csv.gz\n",
      "├─D_ICD_DIAGNOSES.csv.gz\n",
      "├─D_LABITEMS.csv.gz\n",
      "├─TRANSFERS.csv.gz\n",
      "├─ADMISSIONS.csv.gz\n",
      "├─README.md\n",
      "├─D_ITEMS.csv.gz\n",
      "├─checksum_md5_zipped.txt\n",
      "├─CALLOUT.csv.gz\n",
      "├─D_CPT.csv.gz\n",
      "├─LABEVENTS.csv.gz\n",
      "├─PROCEDURES_ICD.csv.gz\n",
      "├─CHARTEVENTS.csv.gz\n",
      "├─SERVICES.csv.gz\n",
      "├─LICENSE.txt\n",
      "├─D_ICD_PROCEDURES.csv.gz\n",
      "├─SHA256SUMS.txt\n",
      "├─ICUSTAYS.csv.gz\n",
      "├─INPUTEVENTS_CV.csv.gz\n",
      "├─PROCEDUREEVENTS_MV.csv.gz\n",
      "├─NOTEEVENTS.csv.gz\n",
      "├─OUTPUTEVENTS.csv.gz\n",
      "├─checksum_md5_unzipped.txt\n",
      "└─MICROBIOLOGYEVENTS.csv.gz\n",
      "\n"
     ]
    }
   ],
   "source": [
    "print(mimic_iii_structure.stdout)"
   ]
  },
  {
   "cell_type": "code",
   "execution_count": 3,
   "metadata": {},
   "outputs": [],
   "source": [
    "%%capture code_folder_structure\n",
    "sd.seedir('~/projects/electronic-health-records-analysis', style='lines', itemlimit=10, depthlimit=2, exclude_folders=['.git', '.ipynb_checkpoints'])"
   ]
  },
  {
   "cell_type": "code",
   "execution_count": 4,
   "metadata": {},
   "outputs": [
    {
     "name": "stdout",
     "output_type": "stream",
     "text": [
      "electronic-health-records-analysis/\n",
      "├─LICENSE\n",
      "├─requirements.txt\n",
      "├─data_processing/\n",
      "│ ├─snapshots/\n",
      "│ ├─tests/\n",
      "│ ├─models/\n",
      "│ ├─README.md\n",
      "│ ├─macros/\n",
      "│ ├─.gitignore\n",
      "│ ├─seeds/\n",
      "│ ├─analyses/\n",
      "│ └─dbt_project.yml\n",
      "├─README.md\n",
      "├─logs/\n",
      "│ └─dbt.log\n",
      "├─.gitignore\n",
      "├─.venv/\n",
      "│ ├─bin/\n",
      "│ ├─include/\n",
      "│ ├─etc/\n",
      "│ ├─pyvenv.cfg\n",
      "│ ├─lib/\n",
      "│ └─share/\n",
      "├─notebooks/\n",
      "│ └─loading_physionet_mimic_data.ipynb\n",
      "└─requirements.in\n",
      "\n"
     ]
    }
   ],
   "source": [
    "print(code_folder_structure.stdout)"
   ]
  },
  {
   "cell_type": "markdown",
   "metadata": {},
   "source": [
    "## Get header of each file and use it as context for a large language model to write the SQL scripts in DuckDB dialect to load the MIMIC data into a database that can be saved to a parquet file\n",
    "\n",
    "You may need to follow this readme first: https://colab.research.google.com/github/jaanli/language-model-notebooks/blob/main/notebooks/getting-started.ipynb"
   ]
  },
  {
   "cell_type": "code",
   "execution_count": 5,
   "metadata": {},
   "outputs": [
    {
     "name": "stderr",
     "output_type": "stream",
     "text": [
      "/Users/me/projects/electronic-health-records-analysis/.venv/lib/python3.9/site-packages/sql/traits.py:20: FutureWarning: named_parameters: boolean values are now deprecated. Value True will be treated as \"enabled\". \n",
      "Please use a valid option: \"warn\", \"enabled\", or \"disabled\". \n",
      "For more information, see the docs: https://jupysql.ploomber.io/en/latest/api/configuration.html#named-parameters\n",
      "  warnings.warn(\n"
     ]
    }
   ],
   "source": [
    "# Load duckdb, which lets us efficiently load large files\n",
    "import duckdb\n",
    "\n",
    "# Load pandas, which lets us manipulate dataframes\n",
    "import pandas as pd\n",
    "\n",
    "# Import jupysql Jupyter extension to create SQL cells\n",
    "%load_ext sql\n",
    "\n",
    "# Set configrations on jupysql to directly output data to Pandas and to simplify the output that is printed to the notebook.\n",
    "%config SqlMagic.autopandas = True\n",
    "\n",
    "%config SqlMagic.feedback = False\n",
    "%config SqlMagic.displaycon = False\n",
    "\n",
    "# Allow named parameters (python variables) in SQL cells\n",
    "%config SqlMagic.named_parameters=True\n",
    "\n",
    "# Connect jupysql to DuckDB using a SQLAlchemy-style connection string. Either connect to an in memory DuckDB, or a file backed db.\n",
    "%sql duckdb:///:memory:"
   ]
  },
  {
   "cell_type": "code",
   "execution_count": 6,
   "metadata": {},
   "outputs": [],
   "source": [
    "%load_ext jupyter_ai"
   ]
  },
  {
   "cell_type": "code",
   "execution_count": 7,
   "metadata": {},
   "outputs": [],
   "source": [
    "%load_ext dotenv"
   ]
  },
  {
   "cell_type": "code",
   "execution_count": 8,
   "metadata": {},
   "outputs": [],
   "source": [
    "%dotenv"
   ]
  },
  {
   "cell_type": "code",
   "execution_count": 9,
   "metadata": {},
   "outputs": [],
   "source": [
    "url = \"https://raw.githubusercontent.com/MIT-LCP/mimic-code/main/mimic-iv/buildmimic/mysql/load.sql\""
   ]
  },
  {
   "cell_type": "code",
   "execution_count": 10,
   "metadata": {},
   "outputs": [],
   "source": [
    "%%capture path_to_mimic\n",
    "\n",
    "!readlink -f ~/data/mimic"
   ]
  },
  {
   "cell_type": "code",
   "execution_count": 11,
   "metadata": {},
   "outputs": [
    {
     "data": {
      "text/plain": [
       "'/Users/me/data/mimic\\r\\n'"
      ]
     },
     "execution_count": 11,
     "metadata": {},
     "output_type": "execute_result"
    }
   ],
   "source": [
    "path_to_mimic.stdout"
   ]
  },
  {
   "cell_type": "code",
   "execution_count": 12,
   "metadata": {},
   "outputs": [],
   "source": [
    "%%capture example_contents\n",
    "\n",
    "!curl {url}"
   ]
  },
  {
   "cell_type": "code",
   "execution_count": 13,
   "metadata": {},
   "outputs": [],
   "source": [
    "%%capture example_name\n",
    "\n",
    "!basename {url}"
   ]
  },
  {
   "cell_type": "code",
   "execution_count": 14,
   "metadata": {},
   "outputs": [
    {
     "name": "stdout",
     "output_type": "stream",
     "text": [
      "load.sql\n",
      "\n",
      "-- csv2mysql with arguments:\n",
      "--   -o\n",
      "--   1-load-no-keys.sql\n",
      "--   -e\n",
      "--   \n",
      "--   -u\n",
      "--   -z\n",
      "--\n"
     ]
    }
   ],
   "source": [
    "print(example_name)\n",
    "print(example_contents.stdout[:100])"
   ]
  },
  {
   "cell_type": "code",
   "execution_count": 15,
   "metadata": {},
   "outputs": [
    {
     "name": "stdout",
     "output_type": "stream",
     "text": [
      "/Users/me/projects/electronic-health-records-analysis/notebooks\n"
     ]
    }
   ],
   "source": [
    "!pwd"
   ]
  },
  {
   "cell_type": "code",
   "execution_count": 16,
   "metadata": {},
   "outputs": [],
   "source": [
    "!cd {mimic_iii_path}"
   ]
  },
  {
   "cell_type": "code",
   "execution_count": 17,
   "metadata": {},
   "outputs": [],
   "source": [
    "import os\n",
    "os.chdir(os.path.expanduser(mimic_iii_path))"
   ]
  },
  {
   "cell_type": "code",
   "execution_count": 18,
   "metadata": {},
   "outputs": [
    {
     "name": "stdout",
     "output_type": "stream",
     "text": [
      "/Users/me/data/mimic/mimic-iii-clinical-database-1.4\n"
     ]
    }
   ],
   "source": [
    "!pwd"
   ]
  },
  {
   "cell_type": "code",
   "execution_count": 19,
   "metadata": {},
   "outputs": [],
   "source": [
    "%%capture row_level_protected_health_information\n",
    "!for file in *.csv.gz; do echo \"$file\"; echo \"----------\"; duckdb -markdown -c \"SELECT * FROM read_csv_auto('$file') LIMIT 10;\"; echo \"==========\"; done"
   ]
  },
  {
   "cell_type": "code",
   "execution_count": 20,
   "metadata": {},
   "outputs": [
    {
     "name": "stdout",
     "output_type": "stream",
     "text": [
      "ADMISSIONS.csv.gz\n",
      "| ROW_ID | SUBJECT_ID | HADM_ID |      ADMITTIME      |      DISCHTIME      |      DEATHTIME      | ADMISSION_TYPE |    ADMISSION_LOCATION     |    DISCHARGE_LOCATION     | INSURANCE | LANGUAGE |     RELIGION      | MARITAL_STATUS |       ETHNICITY       |      EDREGTIME      |      EDOUTTIME      |                        DIAGNOSIS                         | HOSPITAL_EXPIRE_FLAG | HAS_CHARTEVENTS_DATA |\n",
      "CALLOUT.csv.gz\n",
      "| ROW_ID | SUBJECT_ID | HADM_ID | SUBMIT_WARDID | SUBMIT_CAREUNIT | CURR_WARDID | CURR_CAREUNIT | CALLOUT_WARDID | CALLOUT_SERVICE | REQUEST_TELE | REQUEST_RESP | REQUEST_CDIFF | REQUEST_MRSA | REQUEST_VRE | CALLOUT_STATUS | CALLOUT_OUTCOME | DISCHARGE_WARDID | ACKNOWLEDGE_STATUS |     CREATETIME      |     UPDATETIME      |   ACKNOWLEDGETIME   |     OUTCOMETIME     | FIRSTRESERVATIONTIME | CURRENTRESERVATIONTIME |\n",
      "CAREGIVERS.csv.gz\n",
      "| ROW_ID | CGID  | LABEL |      DESCRIPTION      |\n",
      "CHARTEVENTS.csv.gz\n",
      "| ROW_ID | SUBJECT_ID | HADM_ID | ICUSTAY_ID | ITEMID |      CHARTTIME      |      STORETIME      | CGID  | VALUE | VALUENUM | VALUEUOM | WARNING | ERROR | RESULTSTATUS | STOPPED |\n",
      "CPTEVENTS.csv.gz\n",
      "| ROW_ID | SUBJECT_ID | HADM_ID | COSTCENTER | CHARTDATE | CPT_CD | CPT_NUMBER | CPT_SUFFIX | TICKET_ID_SEQ |       SECTIONHEADER       |      SUBSECTIONHEADER       | DESCRIPTION |\n",
      "DATETIMEEVENTS.csv.gz\n",
      "| ROW_ID | SUBJECT_ID | HADM_ID | ICUSTAY_ID | ITEMID |      CHARTTIME      |      STORETIME      | CGID  | VALUE | VALUEUOM | WARNING | ERROR | RESULTSTATUS | STOPPED  |\n",
      "DIAGNOSES_ICD.csv.gz\n",
      "| ROW_ID | SUBJECT_ID | HADM_ID | SEQ_NUM | ICD9_CODE |\n",
      "DRGCODES.csv.gz\n",
      "| ROW_ID | SUBJECT_ID | HADM_ID | DRG_TYPE | DRG_CODE |                                  DESCRIPTION                                  | DRG_SEVERITY | DRG_MORTALITY |\n",
      "D_CPT.csv.gz\n",
      "| ROW_ID | CATEGORY | SECTIONRANGE |       SECTIONHEADER       | SUBSECTIONRANGE |                              SUBSECTIONHEADER                              | CODESUFFIX | MINCODEINSUBSECTION | MAXCODEINSUBSECTION |\n",
      "D_ICD_DIAGNOSES.csv.gz\n",
      "| ROW_ID | ICD9_CODE |       SHORT_TITLE        |                                                                                    LONG_TITLE                                                                                     |\n",
      "D_ICD_PROCEDURES.csv.gz\n",
      "| ROW_ID | ICD9_CODE |       SHORT_TITLE        |                            LONG_TITLE                            |\n",
      "D_ITEMS.csv.gz\n",
      "| ROW_ID | ITEMID |                    LABEL                    | ABBREVIATION | DBSOURCE |   LINKSTO   | CATEGORY | UNITNAME | PARAM_TYPE | CONCEPTID |\n",
      "D_LABITEMS.csv.gz\n",
      "| ROW_ID | ITEMID |           LABEL            |           FLUID           |  CATEGORY  | LOINC_CODE |\n",
      "ICUSTAYS.csv.gz\n",
      "| ROW_ID | SUBJECT_ID | HADM_ID | ICUSTAY_ID | DBSOURCE | FIRST_CAREUNIT | LAST_CAREUNIT | FIRST_WARDID | LAST_WARDID |       INTIME        |       OUTTIME       |  LOS   |\n",
      "INPUTEVENTS_CV.csv.gz\n",
      "| ROW_ID | SUBJECT_ID | HADM_ID | ICUSTAY_ID |      CHARTTIME      | ITEMID | AMOUNT | AMOUNTUOM | RATE | RATEUOM |      STORETIME      | CGID  | ORDERID  | LINKORDERID | STOPPED | NEWBOTTLE | ORIGINALAMOUNT | ORIGINALAMOUNTUOM | ORIGINALROUTE | ORIGINALRATE | ORIGINALRATEUOM | ORIGINALSITE |\n",
      "INPUTEVENTS_MV.csv.gz\n",
      "| ROW_ID | SUBJECT_ID | HADM_ID | ICUSTAY_ID |      STARTTIME      |       ENDTIME       | ITEMID |   AMOUNT    | AMOUNTUOM |    RATE    | RATEUOM |      STORETIME      | CGID  | ORDERID | LINKORDERID |    ORDERCATEGORYNAME     | SECONDARYORDERCATEGORYNAME |                                    ORDERCOMPONENTTYPEDESCRIPTION                                     | ORDERCATEGORYDESCRIPTION | PATIENTWEIGHT | TOTALAMOUNT | TOTALAMOUNTUOM | ISOPENBAG | CONTINUEINNEXTDEPT | CANCELREASON | STATUSDESCRIPTION | COMMENTS_EDITEDBY | COMMENTS_CANCELEDBY |    COMMENTS_DATE    | ORIGINALAMOUNT | ORIGINALRATE |\n",
      "LABEVENTS.csv.gz\n",
      "| ROW_ID | SUBJECT_ID | HADM_ID | ITEMID |      CHARTTIME      |     VALUE     | VALUENUM | VALUEUOM |   FLAG   |\n",
      "MICROBIOLOGYEVENTS.csv.gz\n",
      "| ROW_ID | SUBJECT_ID | HADM_ID |      CHARTDATE      |      CHARTTIME      | SPEC_ITEMID |     SPEC_TYPE_DESC     | ORG_ITEMID |        ORG_NAME        | ISOLATE_NUM | AB_ITEMID | AB_NAME | DILUTION_TEXT | DILUTION_COMPARISON | DILUTION_VALUE | INTERPRETATION |\n",
      "NOTEEVENTS.csv.gz\n",
      "| ROW_ID | SUBJECT_ID | HADM_ID | CHARTDATE  | CHARTTIME | STORETIME |     CATEGORY      | DESCRIPTION | CGID | ISERROR |                                                                                                                                                                                                                                                                                                                                                                                                                                                                                                                                                                                                                                                                                                                                                                                                                                                                                                                                                                                                                                                                                                                                                                                                                                                                                                                                                                                                                                                                                                                                                                                                                                                                                                                                                                                                                                                                                                                                                                                                                                                                                                                                                                                                                                                                                                                                                                                                                                                                                                                                                                                                                                                                                                                                                                                                                                                                                                                                                                                                                                                                                                                                                                                                                                                                                                                                                                                                                                                                                                                                                                                                                                                                                                                                                                                                                                                                                                                                                                                                                                                                                                                                                                                                                                                                                                                                                                                                                                                                                                                                                                                                                                                                                                                                                                                                                                                                                                                                                                                                                                                                                                                                                                                                                                                                                                                                                                                                                                                                                                                                                                                                                                                                                                                                                                                                                                                                                                                                                                                                                                                                                                                                                                                                                                                                                                                                                                                                                                                                                                                                                                                                                                                                                                                                                                                                                                                                                                                                                                                                                                                                                                                                                                                                                                                                                                                                                                                                                                                                                                                                                                                                                                                                                                                                                                                                                                                                                                                                                                                                                                                                                                                                                                                                                                                                                                                                                                                                                                                                                                                                                                                                                                                                                                               TEXT                                                                                                                                                                                                                                                                                                                                                                                                                                                                                                                                                                                                                                                                                                                                                                                                                                                                                                                                                                                                                                                                                                                                                                                                                                                                                                                                                                                                                                                                                                                                                                                                                                                                                                                                                                                                                                                                                                                                                                                                                                                                                                                                                                                                                                                                                                                                                                                                                                                                                                                                                                                                                                                                                                                                                                                                                                                                                                                                                                                                                                                                                                                                                                                                                                                                                                                                                                                                                                                                                                                                                                                                                                                                                                                                                                                                                                                                                                                                                                                                                                                                                                                                                                                                                                                                                                                                                                                                                                                                                                                                                                                                                                                                                                                                                                                                                                                                                                                                                                                                                                                                                                                                                                                                                                                                                                                                                                                                                                                                                                                                                                                                                                                                                                                                                                                                                                                                                                                                                                                                                                                                                                                                                                                                                                                                                                                                                                                                                                                                                                                                                                                                                                                                                                                                                                                                                                                                                                                                                                                                                                                                                                                                                                                                                                                                                                                                                                                                                                                                                                                                                                                                                                                                                                                                                                                                                                                                                                                                                                                                                                                                                                                                                                                                                                                                                                                                                                                                                                                                                                                                                                                                                                                                                                                |\n",
      "OUTPUTEVENTS.csv.gz\n",
      "| ROW_ID | SUBJECT_ID | HADM_ID | ICUSTAY_ID |      CHARTTIME      | ITEMID | VALUE | VALUEUOM |      STORETIME      | CGID  | STOPPED | NEWBOTTLE | ISERROR |\n",
      "PATIENTS.csv.gz\n",
      "| ROW_ID | SUBJECT_ID | GENDER |         DOB         |         DOD         |      DOD_HOSP       |       DOD_SSN       | EXPIRE_FLAG |\n",
      "PRESCRIPTIONS.csv.gz\n",
      "| ROW_ID  | SUBJECT_ID | HADM_ID | ICUSTAY_ID |      STARTDATE      |       ENDDATE       | DRUG_TYPE |      DRUG      | DRUG_NAME_POE | DRUG_NAME_GENERIC | FORMULARY_DRUG_CD |  GSN   |     NDC     |     PROD_STRENGTH      | DOSE_VAL_RX | DOSE_UNIT_RX | FORM_VAL_DISP | FORM_UNIT_DISP | ROUTE |\n",
      "PROCEDUREEVENTS_MV.csv.gz\n",
      "| ROW_ID | SUBJECT_ID | HADM_ID | ICUSTAY_ID |      STARTTIME      |       ENDTIME       | ITEMID | VALUE  | VALUEUOM | LOCATION | LOCATIONCATEGORY |      STORETIME      | CGID  | ORDERID | LINKORDERID | ORDERCATEGORYNAME | SECONDARYORDERCATEGORYNAME | ORDERCATEGORYDESCRIPTION | ISOPENBAG | CONTINUEINNEXTDEPT | CANCELREASON | STATUSDESCRIPTION | COMMENTS_EDITEDBY | COMMENTS_CANCELEDBY |    COMMENTS_DATE    |\n",
      "PROCEDURES_ICD.csv.gz\n",
      "| ROW_ID | SUBJECT_ID | HADM_ID | SEQ_NUM | ICD9_CODE |\n",
      "SERVICES.csv.gz\n",
      "| ROW_ID | SUBJECT_ID | HADM_ID |    TRANSFERTIME     | PREV_SERVICE | CURR_SERVICE |\n",
      "TRANSFERS.csv.gz\n",
      "| ROW_ID | SUBJECT_ID | HADM_ID | ICUSTAY_ID |  DBSOURCE  | EVENTTYPE | PREV_CAREUNIT | CURR_CAREUNIT | PREV_WARDID | CURR_WARDID |       INTIME        |       OUTTIME       |  LOS   |\n"
     ]
    }
   ],
   "source": [
    "headers = row_level_protected_health_information.stdout.split('\\n')\n",
    "for i, row in enumerate(headers):\n",
    "    if i > 0 and '.csv.gz' in headers[i - 1]:\n",
    "        print(headers[i-1])\n",
    "        print(headers[i+1])"
   ]
  },
  {
   "cell_type": "code",
   "execution_count": 70,
   "metadata": {},
   "outputs": [],
   "source": [
    "%%capture duckdb_docs_raw\n",
    "\n",
    "!curl -s \"https://duckdb.org/docs/data/csv/overview.html\" | sed -e 's/<[^>]*>//g; /^$/d' | tr -s '\\n'\n",
    "!curl -s \"https://duckdb.org/docs/sql/functions/dateformat.html\" | sed -e 's/<[^>]*>//g; /^$/d' | tr -s '\\n'"
   ]
  },
  {
   "cell_type": "code",
   "execution_count": 71,
   "metadata": {},
   "outputs": [],
   "source": [
    "import re\n",
    "duckdb_docs = re.escape(duckdb_docs_raw.stdout.replace('\\t', '').replace('\\n', '').replace(':', '').replace('{', '').replace('}', ''))"
   ]
  },
  {
   "cell_type": "code",
   "execution_count": 87,
   "metadata": {},
   "outputs": [],
   "source": [
    "parent_prompt = f\"\"\"\n",
    "Please find the context for this task here: \n",
    "\n",
    "```\n",
    "{mimic_iii_structure.stdout}\n",
    "```\n",
    "\n",
    "This lists the directory contents using the seedir python package, of the directory at this path: `{mimic_iii_path}`.\n",
    "\n",
    "Here are the headers of every file, derived from the command `for file in *.csv.gz; do echo \"$file\"; echo \"----------\"; duckdb -markdown -c \"SELECT * FROM read_csv_auto('$file') LIMIT 10;\"; echo \"==========\"; done`: \n",
    "\n",
    "```\n",
    "{row_level_protected_health_information.stdout}\n",
    "```\n",
    "\n",
    "Additionally, here is an example file, {example_name} - in MYSQL, not DuckDB dialect - which contains a SQL transform to load the raw data from the files above into a database, using the following script:\n",
    "\n",
    "```\n",
    "{example_contents.stdout}\n",
    "```\n",
    "\n",
    "Remember:\n",
    "\n",
    "We are running this notebook from the same directory as that shown above, from within the `notebooks` directory in Jupyter Lab. All of your code should be prefixed with the `%%sql` magic (the duckdb and jupysql libraries are already loaded!) so that it can be run after this first execution and code writing stage :) \n",
    "\n",
    "Also remember that this is the code folder structure: \n",
    "\n",
    "{code_folder_structure.stdout}\n",
    "\n",
    "Also remember that these are the latest DuckDB documentation for the read_csv function that you must use: \n",
    "\n",
    "```\n",
    "{duckdb_docs}\n",
    "```\n",
    "\n",
    "For each set of MIMIC files (and versions), get header of each file and use it as context for a large language model to write the SQL scripts in DuckDB dialect to load the MIMIC data into a database that can be saved to a parquet file.\n",
    "\n",
    "Proceed step-by-step, focused on not changing the underlying names and original data dictionary at all. Make sure to cross-link data appropriately using the previously given file as reference.\n",
    "\n",
    "Remember to always use the `read_csv` functions wrapped around the file name, like so: `SELECT * FROM read_csv('filename.csv.gz')` as but one example. \n",
    "\n",
    "Copy the resulting database into a parquet file compressed with ZSTD compression.\n",
    "\n",
    "Please always remember to prefix the output with `%%sql` for the JupySQL cell magic :)\n",
    "\"\"\""
   ]
  },
  {
   "cell_type": "code",
   "execution_count": 88,
   "metadata": {},
   "outputs": [
    {
     "name": "stdout",
     "output_type": "stream",
     "text": [
      "\n",
      "Please find the context for this task here: \n",
      "\n",
      "```\n",
      "mimic-iii-clinical-database-1.4/\n",
      "├─DATETIMEEVENTS.csv.gz\n",
      "├─CPTEVENTS.csv.gz\n",
      "├─PATIENTS.csv.gz\n",
      "├─DIAGNOSES_ICD.csv.gz\n",
      "├─CAREGIVERS.csv.gz\n",
      "├─PRESCRIPTIONS.csv.gz\n",
      "├─INPUTEVENTS_MV.csv.gz\n",
      "├─DRGCODES.csv.gz\n",
      "├─D_ICD_DIAGNOSES.csv.gz\n",
      "├─D_LABITEMS.csv.gz\n",
      "├─TRANSFERS.csv.gz\n",
      "├─ADMISSIONS.csv.gz\n",
      "├─README.md\n",
      "├─D_ITEMS.csv.gz\n",
      "├─checksum_md5_zipped.txt\n",
      "├─CALLOUT.csv.gz\n",
      "├─D_CPT.csv.gz\n",
      "├─LABEVENTS.csv.gz\n",
      "├─PROCEDURES_ICD.csv.gz\n",
      "├─CHARTEVENTS.csv.gz\n",
      "├─SERVICES.csv.gz\n",
      "├─LICENSE.txt\n",
      "├─D_ICD_PROCEDURES.csv.gz\n",
      "├─SHA256SUMS.txt\n",
      "├─ICUSTAYS.csv.gz\n",
      "├─INPUTEVENTS_CV.csv.gz\n",
      "├─PROCEDUREEVENTS_MV.csv.gz\n",
      "├─NOTEEVENTS.csv.gz\n",
      "├─OUTPUTEVENTS.csv.gz\n",
      "├─checksum_md5_unzipped.txt\n",
      "└─MICROBIOLOGYEVENTS.csv.gz\n",
      "\n",
      "```\n",
      "\n",
      "This lists the directory contents using the seedir python package, of the directory at this path: `~/data/mimic/mimic-iii-clinical-database-1.4`.\n",
      "\n",
      "Here are the headers of every file, derived from the command `for file in *.csv.gz; do echo \"$file\"; echo \"---------\n"
     ]
    }
   ],
   "source": [
    "print(parent_prompt[:1000])"
   ]
  },
  {
   "cell_type": "code",
   "execution_count": 89,
   "metadata": {},
   "outputs": [],
   "source": [
    "%%capture directory\n",
    "!ls  -lh"
   ]
  },
  {
   "cell_type": "code",
   "execution_count": 90,
   "metadata": {},
   "outputs": [
    {
     "name": "stdout",
     "output_type": "stream",
     "text": [
      "total 12957144\n",
      "-rw-r--r--@ 1 me  staff   2.4M Mar 19  2019 ADMISSIONS.csv.gz\n",
      "-rw-r--r--@ 1 me  staff   1.1M Mar 19  2019 CALLOUT.csv.gz\n",
      "-rw-r--r--@ 1 me  staff    48K Mar 19  2019 CAREGIVERS.csv.gz\n",
      "-rw-r--r--@ 1 me  staff   4.0G Mar 19  2019 CHARTEVENTS.csv.gz\n",
      "-rw-r--r--@ 1 me  staff   4.7M Mar 19  2019 CPTEVENTS.csv.gz\n",
      "-rw-r--r--@ 1 me  staff    52M Mar 19  2019 DATETIMEEVENTS.csv.gz\n",
      "-rw-r--r--@ 1 me  staff   4.5M Mar 19  2019 DIAGNOSES_ICD.csv.gz\n",
      "-rw-r--r--@ 1 me  staff   1.7M Mar 19  2019 DRGCODES.csv.gz\n",
      "-rw-r--r--@ 1 me  staff   3.9K Mar 19  2019 D_CPT.csv.gz\n",
      "-rw-r--r--@ 1 me  staff   278K Mar 19  2019 D_ICD_DIAGNOSES.csv.gz\n",
      "-rw-r--r--@ 1 me  staff    74K Mar 19  2019 D_ICD_PROCEDURES.csv.gz\n",
      "-rw-r--r--@ 1 me  staff   184K Mar 19  2019 D_ITEMS.csv.gz\n",
      "-rw-r--r--@ 1 me  staff    11K Mar 19  2019 D_LABITEMS.csv.gz\n",
      "-rw-r--r--@ 1 me  staff   1.9M Mar 19  2019 ICUSTAYS.csv.gz\n",
      "-rw-r--r--@ 1 me  staff   403M Mar 19  2019 INPUTEVENTS_CV.csv.gz\n",
      "-rw-r--r--@ 1 me  staff   144M Mar 19  2019 INPUTEVENTS_MV.csv.gz\n",
      "-rw-r--r--@ 1 me  staff   320M Mar 19  2019 LABEVENTS.csv.gz\n",
      "-rw-r--r--@ 1 me  staff   2.5K Apr  9  2019 LICENSE.txt\n",
      "-rw-r--r--@ 1 me  staff   7.3M Mar 19  2019 MICROBIOLOGYEVENTS.csv.gz\n",
      "-rw-r--r--@ 1 me  staff   1.1G Mar 19  2019 NOTEEVENTS.csv.gz\n",
      "-rw-r--r--@ 1 me  staff    56M Mar 19  2019 OUTPUTEVENTS.csv.gz\n",
      "-rw-r--r--@ 1 me  staff   558K Mar 19  2019 PATIENTS.csv.gz\n",
      "-rw-r--r--@ 1 me  staff    99M Mar 19  2019 PRESCRIPTIONS.csv.gz\n",
      "-rw-r--r--@ 1 me  staff   7.5M Mar 19  2019 PROCEDUREEVENTS_MV.csv.gz\n",
      "-rw-r--r--@ 1 me  staff   1.7M Mar 19  2019 PROCEDURES_ICD.csv.gz\n",
      "-rw-r--r--@ 1 me  staff    64B Mar 19  2019 README.md\n",
      "-rw-r--r--@ 1 me  staff   1.1M Mar 19  2019 SERVICES.csv.gz\n",
      "-rw-r--r--@ 1 me  staff   2.5K Apr  9  2019 SHA256SUMS.txt\n",
      "-rw-r--r--@ 1 me  staff   5.2M Mar 19  2019 TRANSFERS.csv.gz\n",
      "-rw-r--r--@ 1 me  staff   1.3K Mar 19  2019 checksum_md5_unzipped.txt\n",
      "-rw-r--r--@ 1 me  staff   1.3K Mar 19  2019 checksum_md5_zipped.txt\n",
      "\n"
     ]
    }
   ],
   "source": [
    "print(directory)"
   ]
  },
  {
   "cell_type": "markdown",
   "metadata": {},
   "source": [
    "## Blocker: need to copy and paste file names into the `%%ai` cell magic enabled by the `jupyter-ai` python package in order to execute the prompt separately for every file in the current working directory"
   ]
  },
  {
   "cell_type": "code",
   "execution_count": 91,
   "metadata": {},
   "outputs": [
    {
     "data": {
      "text/html": [
       "AI generated code inserted below &#11015;&#65039;"
      ],
      "text/plain": [
       "<IPython.core.display.HTML object>"
      ]
     },
     "execution_count": 91,
     "metadata": {
      "text/html": {
       "jupyter_ai": {
        "model_id": "claude-3-opus-20240229",
        "provider_id": "anthropic-chat"
       }
      }
     },
     "output_type": "execute_result"
    }
   ],
   "source": [
    "%%ai anthropic-chat:claude-3-opus-20240229 --format code\n",
    "\n",
    "{parent_prompt}\n",
    "\n",
    "Only do this for this file:\n",
    "\n",
    "```\n",
    "-rw-r--r--@ 1 me  staff   2.4M Mar 19  2019 ADMISSIONS.csv.gz\n",
    "```"
   ]
  },
  {
   "cell_type": "code",
   "execution_count": 94,
   "metadata": {},
   "outputs": [
    {
     "data": {
      "text/html": [
       "<div>\n",
       "<style scoped>\n",
       "    .dataframe tbody tr th:only-of-type {\n",
       "        vertical-align: middle;\n",
       "    }\n",
       "\n",
       "    .dataframe tbody tr th {\n",
       "        vertical-align: top;\n",
       "    }\n",
       "\n",
       "    .dataframe thead th {\n",
       "        text-align: right;\n",
       "    }\n",
       "</style>\n",
       "<table border=\"1\" class=\"dataframe\">\n",
       "  <thead>\n",
       "    <tr style=\"text-align: right;\">\n",
       "      <th></th>\n",
       "      <th>Success</th>\n",
       "    </tr>\n",
       "  </thead>\n",
       "  <tbody>\n",
       "  </tbody>\n",
       "</table>\n",
       "</div>"
      ],
      "text/plain": [
       "Empty DataFrame\n",
       "Columns: [Success]\n",
       "Index: []"
      ]
     },
     "execution_count": 94,
     "metadata": {},
     "output_type": "execute_result"
    }
   ],
   "source": [
    "%%sql\n",
    "\n",
    "CREATE TABLE admissions AS\n",
    "SELECT * FROM read_csv('ADMISSIONS.csv.gz', compression='gzip');\n",
    "\n",
    "COPY admissions TO 'admissions.parquet' (FORMAT PARQUET, CODEC ZSTD);"
   ]
  },
  {
   "cell_type": "code",
   "execution_count": 95,
   "metadata": {},
   "outputs": [
    {
     "data": {
      "text/html": [
       "AI generated code inserted below &#11015;&#65039;"
      ],
      "text/plain": [
       "<IPython.core.display.HTML object>"
      ]
     },
     "execution_count": 95,
     "metadata": {
      "text/html": {
       "jupyter_ai": {
        "model_id": "claude-3-opus-20240229",
        "provider_id": "anthropic-chat"
       }
      }
     },
     "output_type": "execute_result"
    }
   ],
   "source": [
    "%%ai anthropic-chat:claude-3-opus-20240229 --format code\n",
    "\n",
    "{parent_prompt}\n",
    "\n",
    "Only do this for this file:\n",
    "\n",
    "```\n",
    "-rw-r--r--@ 1 me  staff   1.1M Mar 19  2019 CALLOUT.csv.gz\n",
    "```"
   ]
  },
  {
   "cell_type": "code",
   "execution_count": 96,
   "metadata": {},
   "outputs": [
    {
     "data": {
      "text/html": [
       "<div>\n",
       "<style scoped>\n",
       "    .dataframe tbody tr th:only-of-type {\n",
       "        vertical-align: middle;\n",
       "    }\n",
       "\n",
       "    .dataframe tbody tr th {\n",
       "        vertical-align: top;\n",
       "    }\n",
       "\n",
       "    .dataframe thead th {\n",
       "        text-align: right;\n",
       "    }\n",
       "</style>\n",
       "<table border=\"1\" class=\"dataframe\">\n",
       "  <thead>\n",
       "    <tr style=\"text-align: right;\">\n",
       "      <th></th>\n",
       "      <th>Success</th>\n",
       "    </tr>\n",
       "  </thead>\n",
       "  <tbody>\n",
       "  </tbody>\n",
       "</table>\n",
       "</div>"
      ],
      "text/plain": [
       "Empty DataFrame\n",
       "Columns: [Success]\n",
       "Index: []"
      ]
     },
     "execution_count": 96,
     "metadata": {},
     "output_type": "execute_result"
    }
   ],
   "source": [
    "%%sql\n",
    "\n",
    "CREATE TABLE callout AS\n",
    "SELECT *\n",
    "FROM read_csv_auto('CALLOUT.csv.gz',\n",
    "  delim=',',\n",
    "  header=True,\n",
    "  quote='\"',\n",
    "  escape='\\',\n",
    "  columns={\n",
    "    row_id: 'INT',\n",
    "    subject_id: 'INT',\n",
    "    hadm_id: 'INT',\n",
    "    submit_wardid: 'INT',\n",
    "    submit_careunit: 'VARCHAR',\n",
    "    curr_wardid: 'INT',\n",
    "    curr_careunit: 'VARCHAR',\n",
    "    callout_wardid: 'INT',\n",
    "    callout_service: 'VARCHAR', \n",
    "    request_tele: 'INT',\n",
    "    request_resp: 'INT',\n",
    "    request_cdiff: 'INT',\n",
    "    request_mrsa: 'INT',\n",
    "    request_vre: 'INT',\n",
    "    callout_status: 'VARCHAR',\n",
    "    callout_outcome: 'VARCHAR',\n",
    "    discharge_wardid: 'INT',\n",
    "    acknowledge_status: 'VARCHAR',\n",
    "    createtime: 'TIMESTAMP',\n",
    "    updatetime: 'TIMESTAMP',\n",
    "    acknowledgetime: 'TIMESTAMP',\n",
    "    outcometime: 'TIMESTAMP',\n",
    "    firstreservationtime: 'TIMESTAMP',\n",
    "    currentreservationtime: 'TIMESTAMP'\n",
    "  },\n",
    "  dateformat='%Y-%m-%d %H:%M:%S',\n",
    "  compression='gzip'\n",
    ");\n",
    "\n",
    "COPY callout TO 'callout.parquet' (FORMAT PARQUET, CODEC ZSTD);"
   ]
  },
  {
   "cell_type": "code",
   "execution_count": 97,
   "metadata": {},
   "outputs": [
    {
     "data": {
      "text/html": [
       "AI generated code inserted below &#11015;&#65039;"
      ],
      "text/plain": [
       "<IPython.core.display.HTML object>"
      ]
     },
     "execution_count": 97,
     "metadata": {
      "text/html": {
       "jupyter_ai": {
        "model_id": "claude-3-opus-20240229",
        "provider_id": "anthropic-chat"
       }
      }
     },
     "output_type": "execute_result"
    }
   ],
   "source": [
    "%%ai anthropic-chat:claude-3-opus-20240229 --format code\n",
    "\n",
    "{parent_prompt}\n",
    "\n",
    "Only do this for this file:\n",
    "\n",
    "```\n",
    "-rw-r--r--@ 1 me  staff    48K Mar 19  2019 CAREGIVERS.csv.gz\n",
    "```"
   ]
  },
  {
   "cell_type": "code",
   "execution_count": 98,
   "metadata": {},
   "outputs": [
    {
     "data": {
      "text/html": [
       "<div>\n",
       "<style scoped>\n",
       "    .dataframe tbody tr th:only-of-type {\n",
       "        vertical-align: middle;\n",
       "    }\n",
       "\n",
       "    .dataframe tbody tr th {\n",
       "        vertical-align: top;\n",
       "    }\n",
       "\n",
       "    .dataframe thead th {\n",
       "        text-align: right;\n",
       "    }\n",
       "</style>\n",
       "<table border=\"1\" class=\"dataframe\">\n",
       "  <thead>\n",
       "    <tr style=\"text-align: right;\">\n",
       "      <th></th>\n",
       "      <th>Success</th>\n",
       "    </tr>\n",
       "  </thead>\n",
       "  <tbody>\n",
       "  </tbody>\n",
       "</table>\n",
       "</div>"
      ],
      "text/plain": [
       "Empty DataFrame\n",
       "Columns: [Success]\n",
       "Index: []"
      ]
     },
     "execution_count": 98,
     "metadata": {},
     "output_type": "execute_result"
    }
   ],
   "source": [
    "%%sql\n",
    "\n",
    "CREATE TABLE CAREGIVERS AS \n",
    "SELECT * \n",
    "FROM read_csv('CAREGIVERS.csv.gz', header=True, compression='gzip');\n",
    "\n",
    "COPY CAREGIVERS TO 'CAREGIVERS.parquet' (FORMAT 'parquet', CODEC 'ZSTD');"
   ]
  },
  {
   "cell_type": "code",
   "execution_count": 99,
   "metadata": {},
   "outputs": [
    {
     "data": {
      "text/html": [
       "AI generated code inserted below &#11015;&#65039;"
      ],
      "text/plain": [
       "<IPython.core.display.HTML object>"
      ]
     },
     "execution_count": 99,
     "metadata": {
      "text/html": {
       "jupyter_ai": {
        "model_id": "claude-3-opus-20240229",
        "provider_id": "anthropic-chat"
       }
      }
     },
     "output_type": "execute_result"
    }
   ],
   "source": [
    "%%ai anthropic-chat:claude-3-opus-20240229 --format code\n",
    "\n",
    "{parent_prompt}\n",
    "\n",
    "Only do this for this file:\n",
    "\n",
    "```\n",
    "-rw-r--r--@ 1 me  staff   4.0G Mar 19  2019 CHARTEVENTS.csv.gz\n",
    "```"
   ]
  },
  {
   "cell_type": "code",
   "execution_count": 100,
   "metadata": {},
   "outputs": [
    {
     "data": {
      "application/vnd.jupyter.widget-view+json": {
       "model_id": "2a2ac47042474074a78873cfd0a2e6d0",
       "version_major": 2,
       "version_minor": 0
      },
      "text/plain": [
       "FloatProgress(value=0.0, layout=Layout(width='auto'), style=ProgressStyle(bar_color='black'))"
      ]
     },
     "metadata": {},
     "output_type": "display_data"
    },
    {
     "data": {
      "application/vnd.jupyter.widget-view+json": {
       "model_id": "1ee27aa4d1074f558786b47303f79d99",
       "version_major": 2,
       "version_minor": 0
      },
      "text/plain": [
       "FloatProgress(value=0.0, layout=Layout(width='auto'), style=ProgressStyle(bar_color='black'))"
      ]
     },
     "metadata": {},
     "output_type": "display_data"
    },
    {
     "data": {
      "text/html": [
       "<div>\n",
       "<style scoped>\n",
       "    .dataframe tbody tr th:only-of-type {\n",
       "        vertical-align: middle;\n",
       "    }\n",
       "\n",
       "    .dataframe tbody tr th {\n",
       "        vertical-align: top;\n",
       "    }\n",
       "\n",
       "    .dataframe thead th {\n",
       "        text-align: right;\n",
       "    }\n",
       "</style>\n",
       "<table border=\"1\" class=\"dataframe\">\n",
       "  <thead>\n",
       "    <tr style=\"text-align: right;\">\n",
       "      <th></th>\n",
       "      <th>Success</th>\n",
       "    </tr>\n",
       "  </thead>\n",
       "  <tbody>\n",
       "  </tbody>\n",
       "</table>\n",
       "</div>"
      ],
      "text/plain": [
       "Empty DataFrame\n",
       "Columns: [Success]\n",
       "Index: []"
      ]
     },
     "execution_count": 100,
     "metadata": {},
     "output_type": "execute_result"
    }
   ],
   "source": [
    "%%sql\n",
    "\n",
    "CREATE TABLE chartevents AS\n",
    "SELECT *\n",
    "FROM read_csv('CHARTEVENTS.csv.gz', header=True, columns={\n",
    "    'ROW_ID': 'INT',\n",
    "    'SUBJECT_ID': 'INT',\n",
    "    'HADM_ID': 'INT',\n",
    "    'ICUSTAY_ID': 'INT',\n",
    "    'ITEMID': 'INT',\n",
    "    'CHARTTIME': 'TIMESTAMP',\n",
    "    'STORETIME': 'TIMESTAMP',\n",
    "    'CGID': 'INT',\n",
    "    'VALUE': 'VARCHAR',\n",
    "    'VALUENUM': 'DOUBLE',\n",
    "    'VALUEUOM': 'VARCHAR',\n",
    "    'WARNING': 'BOOLEAN',\n",
    "    'ERROR': 'BOOLEAN',\n",
    "    'RESULTSTATUS': 'VARCHAR',\n",
    "    'STOPPED': 'VARCHAR'\n",
    "});\n",
    "\n",
    "COPY chartevents TO 'CHARTEVENTS.parquet' (FORMAT PARQUET, CODEC ZSTD);"
   ]
  },
  {
   "cell_type": "code",
   "execution_count": 101,
   "metadata": {},
   "outputs": [
    {
     "data": {
      "text/html": [
       "AI generated code inserted below &#11015;&#65039;"
      ],
      "text/plain": [
       "<IPython.core.display.HTML object>"
      ]
     },
     "execution_count": 101,
     "metadata": {
      "text/html": {
       "jupyter_ai": {
        "model_id": "claude-3-opus-20240229",
        "provider_id": "anthropic-chat"
       }
      }
     },
     "output_type": "execute_result"
    }
   ],
   "source": [
    "%%ai anthropic-chat:claude-3-opus-20240229 --format code\n",
    "\n",
    "{parent_prompt}\n",
    "\n",
    "Only do this for this file:\n",
    "\n",
    "```\n",
    "-rw-r--r--@ 1 me  staff   4.7M Mar 19  2019 CPTEVENTS.csv.gz\n",
    "```"
   ]
  },
  {
   "cell_type": "code",
   "execution_count": 102,
   "metadata": {},
   "outputs": [
    {
     "data": {
      "text/html": [
       "<div>\n",
       "<style scoped>\n",
       "    .dataframe tbody tr th:only-of-type {\n",
       "        vertical-align: middle;\n",
       "    }\n",
       "\n",
       "    .dataframe tbody tr th {\n",
       "        vertical-align: top;\n",
       "    }\n",
       "\n",
       "    .dataframe thead th {\n",
       "        text-align: right;\n",
       "    }\n",
       "</style>\n",
       "<table border=\"1\" class=\"dataframe\">\n",
       "  <thead>\n",
       "    <tr style=\"text-align: right;\">\n",
       "      <th></th>\n",
       "      <th>Success</th>\n",
       "    </tr>\n",
       "  </thead>\n",
       "  <tbody>\n",
       "  </tbody>\n",
       "</table>\n",
       "</div>"
      ],
      "text/plain": [
       "Empty DataFrame\n",
       "Columns: [Success]\n",
       "Index: []"
      ]
     },
     "execution_count": 102,
     "metadata": {},
     "output_type": "execute_result"
    }
   ],
   "source": [
    "%%sql\n",
    "\n",
    "CREATE TABLE CPTEVENTS AS \n",
    "SELECT * FROM read_csv(\n",
    "  'CPTEVENTS.csv.gz',\n",
    "  delim=',',\n",
    "  header=True,\n",
    "  columns={\n",
    "    'ROW_ID': 'INT',\n",
    "    'SUBJECT_ID': 'INT',\n",
    "    'HADM_ID': 'INT',\n",
    "    'COSTCENTER': 'VARCHAR',\n",
    "    'CHARTDATE': 'DATE',\n",
    "    'CPT_CD': 'VARCHAR',\n",
    "    'CPT_NUMBER': 'INT',\n",
    "    'CPT_SUFFIX': 'VARCHAR', \n",
    "    'TICKET_ID_SEQ': 'INT',\n",
    "    'SECTIONHEADER': 'VARCHAR',\n",
    "    'SUBSECTIONHEADER': 'VARCHAR',\n",
    "    'DESCRIPTION': 'VARCHAR'\n",
    "  }\n",
    ");\n",
    "\n",
    "COPY (\n",
    "  SELECT *\n",
    "  FROM CPTEVENTS\n",
    ") TO 'CPTEVENTS.parquet' (FORMAT PARQUET, CODEC ZSTD);"
   ]
  },
  {
   "cell_type": "code",
   "execution_count": 103,
   "metadata": {},
   "outputs": [
    {
     "data": {
      "text/html": [
       "AI generated code inserted below &#11015;&#65039;"
      ],
      "text/plain": [
       "<IPython.core.display.HTML object>"
      ]
     },
     "execution_count": 103,
     "metadata": {
      "text/html": {
       "jupyter_ai": {
        "model_id": "claude-3-opus-20240229",
        "provider_id": "anthropic-chat"
       }
      }
     },
     "output_type": "execute_result"
    }
   ],
   "source": [
    "%%ai anthropic-chat:claude-3-opus-20240229 --format code\n",
    "\n",
    "{parent_prompt}\n",
    "\n",
    "Only do this for this file:\n",
    "\n",
    "```\n",
    "-rw-r--r--@ 1 me  staff    52M Mar 19  2019 DATETIMEEVENTS.csv.gz\n",
    "```"
   ]
  },
  {
   "cell_type": "code",
   "execution_count": 105,
   "metadata": {},
   "outputs": [
    {
     "data": {
      "text/html": [
       "<div>\n",
       "<style scoped>\n",
       "    .dataframe tbody tr th:only-of-type {\n",
       "        vertical-align: middle;\n",
       "    }\n",
       "\n",
       "    .dataframe tbody tr th {\n",
       "        vertical-align: top;\n",
       "    }\n",
       "\n",
       "    .dataframe thead th {\n",
       "        text-align: right;\n",
       "    }\n",
       "</style>\n",
       "<table border=\"1\" class=\"dataframe\">\n",
       "  <thead>\n",
       "    <tr style=\"text-align: right;\">\n",
       "      <th></th>\n",
       "      <th>Success</th>\n",
       "    </tr>\n",
       "  </thead>\n",
       "  <tbody>\n",
       "  </tbody>\n",
       "</table>\n",
       "</div>"
      ],
      "text/plain": [
       "Empty DataFrame\n",
       "Columns: [Success]\n",
       "Index: []"
      ]
     },
     "execution_count": 105,
     "metadata": {},
     "output_type": "execute_result"
    }
   ],
   "source": [
    "%%sql\n",
    "\n",
    "CREATE TABLE DATETIMEEVENTS AS\n",
    "SELECT *\n",
    "FROM read_csv('DATETIMEEVENTS.csv.gz',\n",
    "              compression='gzip');\n",
    "\n",
    "COPY DATETIMEEVENTS TO 'DATETIMEEVENTS.parquet' (FORMAT PARQUET, CODEC ZSTD);"
   ]
  },
  {
   "cell_type": "code",
   "execution_count": 106,
   "metadata": {},
   "outputs": [
    {
     "data": {
      "text/html": [
       "AI generated code inserted below &#11015;&#65039;"
      ],
      "text/plain": [
       "<IPython.core.display.HTML object>"
      ]
     },
     "execution_count": 106,
     "metadata": {
      "text/html": {
       "jupyter_ai": {
        "model_id": "claude-3-opus-20240229",
        "provider_id": "anthropic-chat"
       }
      }
     },
     "output_type": "execute_result"
    }
   ],
   "source": [
    "%%ai anthropic-chat:claude-3-opus-20240229 --format code\n",
    "\n",
    "{parent_prompt}\n",
    "\n",
    "Only do this for this file:\n",
    "\n",
    "```\n",
    "-rw-r--r--@ 1 me  staff   4.5M Mar 19  2019 DIAGNOSES_ICD.csv.gz\n",
    "```"
   ]
  },
  {
   "cell_type": "code",
   "execution_count": 107,
   "metadata": {},
   "outputs": [
    {
     "data": {
      "text/html": [
       "<div>\n",
       "<style scoped>\n",
       "    .dataframe tbody tr th:only-of-type {\n",
       "        vertical-align: middle;\n",
       "    }\n",
       "\n",
       "    .dataframe tbody tr th {\n",
       "        vertical-align: top;\n",
       "    }\n",
       "\n",
       "    .dataframe thead th {\n",
       "        text-align: right;\n",
       "    }\n",
       "</style>\n",
       "<table border=\"1\" class=\"dataframe\">\n",
       "  <thead>\n",
       "    <tr style=\"text-align: right;\">\n",
       "      <th></th>\n",
       "      <th>Success</th>\n",
       "    </tr>\n",
       "  </thead>\n",
       "  <tbody>\n",
       "  </tbody>\n",
       "</table>\n",
       "</div>"
      ],
      "text/plain": [
       "Empty DataFrame\n",
       "Columns: [Success]\n",
       "Index: []"
      ]
     },
     "execution_count": 107,
     "metadata": {},
     "output_type": "execute_result"
    }
   ],
   "source": [
    "%%sql\n",
    "\n",
    "CREATE TABLE diagnoses_icd AS\n",
    "SELECT * FROM read_csv('DIAGNOSES_ICD.csv.gz', header=True, columns={\n",
    "    'ROW_ID': 'INT',\n",
    "    'SUBJECT_ID': 'INT',\n",
    "    'HADM_ID': 'INT',\n",
    "    'SEQ_NUM': 'INT',\n",
    "    'ICD9_CODE': 'VARCHAR'\n",
    "});\n",
    "\n",
    "COPY (SELECT * FROM diagnoses_icd) TO 'diagnoses_icd.parquet' (FORMAT 'parquet', CODEC 'ZSTD');"
   ]
  },
  {
   "cell_type": "code",
   "execution_count": 108,
   "metadata": {},
   "outputs": [
    {
     "data": {
      "text/html": [
       "AI generated code inserted below &#11015;&#65039;"
      ],
      "text/plain": [
       "<IPython.core.display.HTML object>"
      ]
     },
     "execution_count": 108,
     "metadata": {
      "text/html": {
       "jupyter_ai": {
        "model_id": "claude-3-opus-20240229",
        "provider_id": "anthropic-chat"
       }
      }
     },
     "output_type": "execute_result"
    }
   ],
   "source": [
    "%%ai anthropic-chat:claude-3-opus-20240229 --format code\n",
    "\n",
    "{parent_prompt}\n",
    "\n",
    "Only do this for this file:\n",
    "\n",
    "```\n",
    "-rw-r--r--@ 1 me  staff   1.7M Mar 19  2019 DRGCODES.csv.gz\n",
    "```"
   ]
  },
  {
   "cell_type": "code",
   "execution_count": 109,
   "metadata": {},
   "outputs": [
    {
     "data": {
      "text/html": [
       "<div>\n",
       "<style scoped>\n",
       "    .dataframe tbody tr th:only-of-type {\n",
       "        vertical-align: middle;\n",
       "    }\n",
       "\n",
       "    .dataframe tbody tr th {\n",
       "        vertical-align: top;\n",
       "    }\n",
       "\n",
       "    .dataframe thead th {\n",
       "        text-align: right;\n",
       "    }\n",
       "</style>\n",
       "<table border=\"1\" class=\"dataframe\">\n",
       "  <thead>\n",
       "    <tr style=\"text-align: right;\">\n",
       "      <th></th>\n",
       "      <th>Success</th>\n",
       "    </tr>\n",
       "  </thead>\n",
       "  <tbody>\n",
       "  </tbody>\n",
       "</table>\n",
       "</div>"
      ],
      "text/plain": [
       "Empty DataFrame\n",
       "Columns: [Success]\n",
       "Index: []"
      ]
     },
     "execution_count": 109,
     "metadata": {},
     "output_type": "execute_result"
    }
   ],
   "source": [
    "%%sql\n",
    "\n",
    "CREATE TABLE drgcodes AS\n",
    "SELECT \n",
    "   CAST(subject_id AS INTEGER) AS subject_id,\n",
    "   CAST(hadm_id AS INTEGER) AS hadm_id,\n",
    "   CAST(drg_type AS VARCHAR) AS drg_type,\n",
    "   CAST(drg_code AS VARCHAR) AS drg_code,\n",
    "   CAST(description AS VARCHAR) AS description,\n",
    "   CAST(drg_severity AS INTEGER) AS drg_severity,\n",
    "   CAST(drg_mortality AS INTEGER) AS drg_mortality\n",
    "FROM read_csv_auto('DRGCODES.csv.gz');\n",
    "\n",
    "COPY drgcodes TO 'drgcodes.parquet' (FORMAT PARQUET, CODEC 'ZSTD');"
   ]
  },
  {
   "cell_type": "code",
   "execution_count": 110,
   "metadata": {},
   "outputs": [
    {
     "data": {
      "text/html": [
       "AI generated code inserted below &#11015;&#65039;"
      ],
      "text/plain": [
       "<IPython.core.display.HTML object>"
      ]
     },
     "execution_count": 110,
     "metadata": {
      "text/html": {
       "jupyter_ai": {
        "model_id": "claude-3-opus-20240229",
        "provider_id": "anthropic-chat"
       }
      }
     },
     "output_type": "execute_result"
    }
   ],
   "source": [
    "%%ai anthropic-chat:claude-3-opus-20240229 --format code\n",
    "\n",
    "{parent_prompt}\n",
    "\n",
    "Only do this for this file:\n",
    "\n",
    "```\n",
    "-rw-r--r--@ 1 me  staff   3.9K Mar 19  2019 D_CPT.csv.gz\n",
    "```"
   ]
  },
  {
   "cell_type": "code",
   "execution_count": 111,
   "metadata": {},
   "outputs": [
    {
     "data": {
      "text/html": [
       "<div>\n",
       "<style scoped>\n",
       "    .dataframe tbody tr th:only-of-type {\n",
       "        vertical-align: middle;\n",
       "    }\n",
       "\n",
       "    .dataframe tbody tr th {\n",
       "        vertical-align: top;\n",
       "    }\n",
       "\n",
       "    .dataframe thead th {\n",
       "        text-align: right;\n",
       "    }\n",
       "</style>\n",
       "<table border=\"1\" class=\"dataframe\">\n",
       "  <thead>\n",
       "    <tr style=\"text-align: right;\">\n",
       "      <th></th>\n",
       "      <th>Success</th>\n",
       "    </tr>\n",
       "  </thead>\n",
       "  <tbody>\n",
       "  </tbody>\n",
       "</table>\n",
       "</div>"
      ],
      "text/plain": [
       "Empty DataFrame\n",
       "Columns: [Success]\n",
       "Index: []"
      ]
     },
     "execution_count": 111,
     "metadata": {},
     "output_type": "execute_result"
    }
   ],
   "source": [
    "%%sql\n",
    "\n",
    "CREATE TABLE D_CPT AS \n",
    "SELECT * FROM read_csv('D_CPT.csv.gz', header=True, compression='gzip');\n",
    "\n",
    "COPY D_CPT TO 'D_CPT.parquet' (FORMAT PARQUET, CODEC ZSTD);"
   ]
  },
  {
   "cell_type": "code",
   "execution_count": 113,
   "metadata": {},
   "outputs": [
    {
     "data": {
      "text/html": [
       "AI generated code inserted below &#11015;&#65039;"
      ],
      "text/plain": [
       "<IPython.core.display.HTML object>"
      ]
     },
     "execution_count": 113,
     "metadata": {
      "text/html": {
       "jupyter_ai": {
        "model_id": "claude-3-opus-20240229",
        "provider_id": "anthropic-chat"
       }
      }
     },
     "output_type": "execute_result"
    }
   ],
   "source": [
    "%%ai anthropic-chat:claude-3-opus-20240229 --format code\n",
    "\n",
    "{parent_prompt}\n",
    "\n",
    "Only do this for this file:\n",
    "\n",
    "```\n",
    "-rw-r--r--@ 1 me  staff   278K Mar 19  2019 D_ICD_DIAGNOSES.csv.gz\n",
    "```"
   ]
  },
  {
   "cell_type": "code",
   "execution_count": 114,
   "metadata": {},
   "outputs": [
    {
     "data": {
      "text/html": [
       "<div>\n",
       "<style scoped>\n",
       "    .dataframe tbody tr th:only-of-type {\n",
       "        vertical-align: middle;\n",
       "    }\n",
       "\n",
       "    .dataframe tbody tr th {\n",
       "        vertical-align: top;\n",
       "    }\n",
       "\n",
       "    .dataframe thead th {\n",
       "        text-align: right;\n",
       "    }\n",
       "</style>\n",
       "<table border=\"1\" class=\"dataframe\">\n",
       "  <thead>\n",
       "    <tr style=\"text-align: right;\">\n",
       "      <th></th>\n",
       "      <th>Success</th>\n",
       "    </tr>\n",
       "  </thead>\n",
       "  <tbody>\n",
       "  </tbody>\n",
       "</table>\n",
       "</div>"
      ],
      "text/plain": [
       "Empty DataFrame\n",
       "Columns: [Success]\n",
       "Index: []"
      ]
     },
     "execution_count": 114,
     "metadata": {},
     "output_type": "execute_result"
    }
   ],
   "source": [
    "%%sql\n",
    "\n",
    "CREATE TABLE D_ICD_DIAGNOSES AS\n",
    "SELECT * FROM read_csv('D_ICD_DIAGNOSES.csv.gz', header=True, compression='gzip');\n",
    "\n",
    "COPY D_ICD_DIAGNOSES TO 'D_ICD_DIAGNOSES.parquet' (FORMAT 'parquet', CODEC 'ZSTD');"
   ]
  },
  {
   "cell_type": "code",
   "execution_count": null,
   "metadata": {},
   "outputs": [],
   "source": [
    "%%sql\n",
    "\n",
    "CREATE TABLE d_icd_diagnoses AS \n",
    "SELECT *\n",
    "FROM read_csv('D_ICD_DIAGNOSES.csv.gz', header=True, compression='gzip', delim=',', columns={\n",
    "    'ROW_ID': 'INT',\n",
    "    'ICD9_CODE': 'VARCHAR',\n",
    "    'SHORT_TITLE': 'VARCHAR', \n",
    "    'LONG_TITLE': 'VARCHAR'\n",
    "});\n",
    "\n",
    "COPY d_icd_diagnoses TO 'D_ICD_DIAGNOSES.parquet' (FORMAT 'parquet', CODEC 'ZSTD');"
   ]
  },
  {
   "cell_type": "code",
   "execution_count": 115,
   "metadata": {},
   "outputs": [
    {
     "data": {
      "text/html": [
       "AI generated code inserted below &#11015;&#65039;"
      ],
      "text/plain": [
       "<IPython.core.display.HTML object>"
      ]
     },
     "execution_count": 115,
     "metadata": {
      "text/html": {
       "jupyter_ai": {
        "model_id": "claude-3-opus-20240229",
        "provider_id": "anthropic-chat"
       }
      }
     },
     "output_type": "execute_result"
    }
   ],
   "source": [
    "%%ai anthropic-chat:claude-3-opus-20240229 --format code\n",
    "\n",
    "{parent_prompt}\n",
    "\n",
    "Only do this for this file:\n",
    "\n",
    "```\n",
    "-rw-r--r--@ 1 me  staff    74K Mar 19  2019 D_ICD_PROCEDURES.csv.gz\n",
    "```"
   ]
  },
  {
   "cell_type": "code",
   "execution_count": 116,
   "metadata": {},
   "outputs": [
    {
     "data": {
      "text/html": [
       "<div>\n",
       "<style scoped>\n",
       "    .dataframe tbody tr th:only-of-type {\n",
       "        vertical-align: middle;\n",
       "    }\n",
       "\n",
       "    .dataframe tbody tr th {\n",
       "        vertical-align: top;\n",
       "    }\n",
       "\n",
       "    .dataframe thead th {\n",
       "        text-align: right;\n",
       "    }\n",
       "</style>\n",
       "<table border=\"1\" class=\"dataframe\">\n",
       "  <thead>\n",
       "    <tr style=\"text-align: right;\">\n",
       "      <th></th>\n",
       "      <th>Success</th>\n",
       "    </tr>\n",
       "  </thead>\n",
       "  <tbody>\n",
       "  </tbody>\n",
       "</table>\n",
       "</div>"
      ],
      "text/plain": [
       "Empty DataFrame\n",
       "Columns: [Success]\n",
       "Index: []"
      ]
     },
     "execution_count": 116,
     "metadata": {},
     "output_type": "execute_result"
    }
   ],
   "source": [
    "%%sql\n",
    "\n",
    "CREATE TABLE D_ICD_PROCEDURES AS\n",
    "SELECT\n",
    "    CAST(ROW_ID AS INTEGER) AS ROW_ID,\n",
    "    CAST(ICD9_CODE AS VARCHAR) AS ICD9_CODE,\n",
    "    CAST(SHORT_TITLE AS VARCHAR) AS SHORT_TITLE,\n",
    "    CAST(LONG_TITLE AS VARCHAR) AS LONG_TITLE\n",
    "FROM read_csv_auto('D_ICD_PROCEDURES.csv.gz');\n",
    "\n",
    "COPY (SELECT * FROM D_ICD_PROCEDURES) TO 'D_ICD_PROCEDURES.parquet' (FORMAT 'parquet', CODEC 'ZSTD');"
   ]
  },
  {
   "cell_type": "code",
   "execution_count": 117,
   "metadata": {},
   "outputs": [
    {
     "data": {
      "text/html": [
       "AI generated code inserted below &#11015;&#65039;"
      ],
      "text/plain": [
       "<IPython.core.display.HTML object>"
      ]
     },
     "execution_count": 117,
     "metadata": {
      "text/html": {
       "jupyter_ai": {
        "model_id": "claude-3-opus-20240229",
        "provider_id": "anthropic-chat"
       }
      }
     },
     "output_type": "execute_result"
    }
   ],
   "source": [
    "%%ai anthropic-chat:claude-3-opus-20240229 --format code\n",
    "\n",
    "{parent_prompt}\n",
    "\n",
    "Only do this for this file:\n",
    "\n",
    "```\n",
    "-rw-r--r--@ 1 me  staff   184K Mar 19  2019 D_ITEMS.csv.gz\n",
    "```"
   ]
  },
  {
   "cell_type": "code",
   "execution_count": 120,
   "metadata": {},
   "outputs": [
    {
     "data": {
      "text/html": [
       "<div>\n",
       "<style scoped>\n",
       "    .dataframe tbody tr th:only-of-type {\n",
       "        vertical-align: middle;\n",
       "    }\n",
       "\n",
       "    .dataframe tbody tr th {\n",
       "        vertical-align: top;\n",
       "    }\n",
       "\n",
       "    .dataframe thead th {\n",
       "        text-align: right;\n",
       "    }\n",
       "</style>\n",
       "<table border=\"1\" class=\"dataframe\">\n",
       "  <thead>\n",
       "    <tr style=\"text-align: right;\">\n",
       "      <th></th>\n",
       "      <th>Success</th>\n",
       "    </tr>\n",
       "  </thead>\n",
       "  <tbody>\n",
       "  </tbody>\n",
       "</table>\n",
       "</div>"
      ],
      "text/plain": [
       "Empty DataFrame\n",
       "Columns: [Success]\n",
       "Index: []"
      ]
     },
     "execution_count": 120,
     "metadata": {},
     "output_type": "execute_result"
    }
   ],
   "source": [
    "%%sql\n",
    "CREATE TABLE D_ITEMS AS \n",
    "SELECT *\n",
    "FROM read_csv('D_ITEMS.csv.gz', header=True, delim=',', quote='\"', \n",
    "  columns={\n",
    "    'row_id': 'INT',\n",
    "    'itemid': 'INT',\n",
    "    'label': 'VARCHAR',\n",
    "    'abbreviation': 'VARCHAR',\n",
    "    'dbsource': 'VARCHAR',\n",
    "    'linksto': 'VARCHAR',\n",
    "    'category': 'VARCHAR',\n",
    "    'unitname': 'VARCHAR',\n",
    "    'param_type': 'VARCHAR',\n",
    "    'conceptid': 'INT'\n",
    "});\n",
    "\n",
    "COPY D_ITEMS TO 'D_ITEMS.parquet' (FORMAT PARQUET, CODEC ZSTD);"
   ]
  },
  {
   "cell_type": "code",
   "execution_count": 118,
   "metadata": {},
   "outputs": [
    {
     "data": {
      "text/html": [
       "AI generated code inserted below &#11015;&#65039;"
      ],
      "text/plain": [
       "<IPython.core.display.HTML object>"
      ]
     },
     "execution_count": 118,
     "metadata": {
      "text/html": {
       "jupyter_ai": {
        "model_id": "claude-3-opus-20240229",
        "provider_id": "anthropic-chat"
       }
      }
     },
     "output_type": "execute_result"
    }
   ],
   "source": [
    "%%ai anthropic-chat:claude-3-opus-20240229 --format code\n",
    "\n",
    "{parent_prompt}\n",
    "\n",
    "Only do this for this file:\n",
    "\n",
    "```\n",
    "-rw-r--r--@ 1 me  staff    11K Mar 19  2019 D_LABITEMS.csv.gz\n",
    "```"
   ]
  },
  {
   "cell_type": "code",
   "execution_count": 121,
   "metadata": {},
   "outputs": [
    {
     "data": {
      "text/html": [
       "<div>\n",
       "<style scoped>\n",
       "    .dataframe tbody tr th:only-of-type {\n",
       "        vertical-align: middle;\n",
       "    }\n",
       "\n",
       "    .dataframe tbody tr th {\n",
       "        vertical-align: top;\n",
       "    }\n",
       "\n",
       "    .dataframe thead th {\n",
       "        text-align: right;\n",
       "    }\n",
       "</style>\n",
       "<table border=\"1\" class=\"dataframe\">\n",
       "  <thead>\n",
       "    <tr style=\"text-align: right;\">\n",
       "      <th></th>\n",
       "      <th>Success</th>\n",
       "    </tr>\n",
       "  </thead>\n",
       "  <tbody>\n",
       "  </tbody>\n",
       "</table>\n",
       "</div>"
      ],
      "text/plain": [
       "Empty DataFrame\n",
       "Columns: [Success]\n",
       "Index: []"
      ]
     },
     "execution_count": 121,
     "metadata": {},
     "output_type": "execute_result"
    }
   ],
   "source": [
    "%%sql\n",
    "\n",
    "CREATE TABLE D_LABITEMS AS \n",
    "SELECT * \n",
    "FROM read_csv('D_LABITEMS.csv.gz', header=True, compression='gzip');\n",
    "\n",
    "COPY D_LABITEMS TO 'D_LABITEMS.parquet' (FORMAT PARQUET, CODEC ZSTD);"
   ]
  },
  {
   "cell_type": "code",
   "execution_count": 119,
   "metadata": {},
   "outputs": [
    {
     "data": {
      "text/html": [
       "AI generated code inserted below &#11015;&#65039;"
      ],
      "text/plain": [
       "<IPython.core.display.HTML object>"
      ]
     },
     "execution_count": 119,
     "metadata": {
      "text/html": {
       "jupyter_ai": {
        "model_id": "claude-3-opus-20240229",
        "provider_id": "anthropic-chat"
       }
      }
     },
     "output_type": "execute_result"
    }
   ],
   "source": [
    "%%ai anthropic-chat:claude-3-opus-20240229 --format code\n",
    "\n",
    "{parent_prompt}\n",
    "\n",
    "Only do this for this file:\n",
    "\n",
    "```\n",
    "-rw-r--r--@ 1 me  staff   1.9M Mar 19  2019 ICUSTAYS.csv.gz\n",
    "```"
   ]
  },
  {
   "cell_type": "code",
   "execution_count": 122,
   "metadata": {},
   "outputs": [
    {
     "data": {
      "text/html": [
       "<div>\n",
       "<style scoped>\n",
       "    .dataframe tbody tr th:only-of-type {\n",
       "        vertical-align: middle;\n",
       "    }\n",
       "\n",
       "    .dataframe tbody tr th {\n",
       "        vertical-align: top;\n",
       "    }\n",
       "\n",
       "    .dataframe thead th {\n",
       "        text-align: right;\n",
       "    }\n",
       "</style>\n",
       "<table border=\"1\" class=\"dataframe\">\n",
       "  <thead>\n",
       "    <tr style=\"text-align: right;\">\n",
       "      <th></th>\n",
       "      <th>Success</th>\n",
       "    </tr>\n",
       "  </thead>\n",
       "  <tbody>\n",
       "  </tbody>\n",
       "</table>\n",
       "</div>"
      ],
      "text/plain": [
       "Empty DataFrame\n",
       "Columns: [Success]\n",
       "Index: []"
      ]
     },
     "execution_count": 122,
     "metadata": {},
     "output_type": "execute_result"
    }
   ],
   "source": [
    "%%sql\n",
    "\n",
    "CREATE TABLE icustays AS\n",
    "SELECT * FROM read_csv('ICUSTAYS.csv.gz', \n",
    "    header=True,\n",
    "    columns={\n",
    "        'ROW_ID': 'INT',\n",
    "        'SUBJECT_ID': 'INT',\n",
    "        'HADM_ID': 'INT',\n",
    "        'ICUSTAY_ID': 'INT',\n",
    "        'DBSOURCE': 'VARCHAR',\n",
    "        'FIRST_CAREUNIT': 'VARCHAR',\n",
    "        'LAST_CAREUNIT': 'VARCHAR',\n",
    "        'FIRST_WARDID': 'INT',\n",
    "        'LAST_WARDID': 'INT',\n",
    "        'INTIME': 'TIMESTAMP',\n",
    "        'OUTTIME': 'TIMESTAMP',\n",
    "        'LOS': 'DOUBLE'\n",
    "    },\n",
    "    compression='gzip'\n",
    ");\n",
    "\n",
    "COPY icustays TO 'icustays.parquet' (FORMAT 'parquet', CODEC 'ZSTD');"
   ]
  },
  {
   "cell_type": "code",
   "execution_count": 123,
   "metadata": {},
   "outputs": [
    {
     "data": {
      "text/html": [
       "AI generated code inserted below &#11015;&#65039;"
      ],
      "text/plain": [
       "<IPython.core.display.HTML object>"
      ]
     },
     "execution_count": 123,
     "metadata": {
      "text/html": {
       "jupyter_ai": {
        "model_id": "claude-3-opus-20240229",
        "provider_id": "anthropic-chat"
       }
      }
     },
     "output_type": "execute_result"
    }
   ],
   "source": [
    "%%ai anthropic-chat:claude-3-opus-20240229 --format code\n",
    "\n",
    "{parent_prompt}\n",
    "\n",
    "Only do this for this file:\n",
    "\n",
    "```\n",
    "-rw-r--r--@ 1 me  staff   403M Mar 19  2019 INPUTEVENTS_CV.csv.gz\n",
    "```"
   ]
  },
  {
   "cell_type": "code",
   "execution_count": 135,
   "metadata": {},
   "outputs": [
    {
     "data": {
      "application/vnd.jupyter.widget-view+json": {
       "model_id": "4cdaa319a9e347b597553e367dd3720a",
       "version_major": 2,
       "version_minor": 0
      },
      "text/plain": [
       "FloatProgress(value=0.0, layout=Layout(width='auto'), style=ProgressStyle(bar_color='black'))"
      ]
     },
     "metadata": {},
     "output_type": "display_data"
    },
    {
     "data": {
      "application/vnd.jupyter.widget-view+json": {
       "model_id": "5f12ed169af8455cab6a675f3a4bbeae",
       "version_major": 2,
       "version_minor": 0
      },
      "text/plain": [
       "FloatProgress(value=0.0, layout=Layout(width='auto'), style=ProgressStyle(bar_color='black'))"
      ]
     },
     "metadata": {},
     "output_type": "display_data"
    },
    {
     "data": {
      "text/html": [
       "<div>\n",
       "<style scoped>\n",
       "    .dataframe tbody tr th:only-of-type {\n",
       "        vertical-align: middle;\n",
       "    }\n",
       "\n",
       "    .dataframe tbody tr th {\n",
       "        vertical-align: top;\n",
       "    }\n",
       "\n",
       "    .dataframe thead th {\n",
       "        text-align: right;\n",
       "    }\n",
       "</style>\n",
       "<table border=\"1\" class=\"dataframe\">\n",
       "  <thead>\n",
       "    <tr style=\"text-align: right;\">\n",
       "      <th></th>\n",
       "      <th>Success</th>\n",
       "    </tr>\n",
       "  </thead>\n",
       "  <tbody>\n",
       "  </tbody>\n",
       "</table>\n",
       "</div>"
      ],
      "text/plain": [
       "Empty DataFrame\n",
       "Columns: [Success]\n",
       "Index: []"
      ]
     },
     "execution_count": 135,
     "metadata": {},
     "output_type": "execute_result"
    }
   ],
   "source": [
    "%%sql\n",
    "\n",
    "CREATE TABLE inputevents_cv AS\n",
    "SELECT *\n",
    "FROM read_csv('INPUTEVENTS_CV.csv.gz', header=True, compression='gzip',\n",
    "    columns={'ROW_ID': 'INT',\n",
    "             'SUBJECT_ID': 'INT',\n",
    "             'HADM_ID': 'INT',\n",
    "             'ICUSTAY_ID': 'INT',\n",
    "             'CHARTTIME': 'TIMESTAMP',\n",
    "             'ITEMID': 'INT',\n",
    "             'AMOUNT': 'DOUBLE',\n",
    "             'AMOUNTUOM': 'VARCHAR',\n",
    "             'RATE': 'DOUBLE',\n",
    "             'RATEUOM': 'VARCHAR',\n",
    "             'STORETIME': 'TIMESTAMP',\n",
    "             'CGID': 'INT',\n",
    "             'ORDERID': 'INT',\n",
    "             'LINKORDERID': 'INT',\n",
    "             'STOPPED': 'VARCHAR',\n",
    "             'NEWBOTTLE': 'INT',\n",
    "             'ORIGINALAMOUNT': 'DOUBLE',\n",
    "             'ORIGINALAMOUNTUOM': 'VARCHAR',\n",
    "             'ORIGINALROUTE': 'VARCHAR',\n",
    "             'ORIGINALRATE': 'DOUBLE',\n",
    "             'ORIGINALRATEUOM': 'VARCHAR',\n",
    "             'ORIGINALSITE': 'VARCHAR'\n",
    "            });\n",
    "\n",
    "COPY inputevents_cv TO 'inputevents_cv.parquet' (FORMAT 'parquet', CODEC 'ZSTD');"
   ]
  },
  {
   "cell_type": "code",
   "execution_count": 124,
   "metadata": {},
   "outputs": [
    {
     "data": {
      "text/html": [
       "AI generated code inserted below &#11015;&#65039;"
      ],
      "text/plain": [
       "<IPython.core.display.HTML object>"
      ]
     },
     "execution_count": 124,
     "metadata": {
      "text/html": {
       "jupyter_ai": {
        "model_id": "claude-3-opus-20240229",
        "provider_id": "anthropic-chat"
       }
      }
     },
     "output_type": "execute_result"
    }
   ],
   "source": [
    "%%ai anthropic-chat:claude-3-opus-20240229 --format code\n",
    "\n",
    "{parent_prompt}\n",
    "\n",
    "Only do this for this file:\n",
    "\n",
    "```\n",
    "-rw-r--r--@ 1 me  staff   144M Mar 19  2019 INPUTEVENTS_MV.csv.gz\n",
    "```"
   ]
  },
  {
   "cell_type": "code",
   "execution_count": 138,
   "metadata": {},
   "outputs": [
    {
     "data": {
      "application/vnd.jupyter.widget-view+json": {
       "model_id": "d7ada86644ec48cea89fe0b72fa34f79",
       "version_major": 2,
       "version_minor": 0
      },
      "text/plain": [
       "FloatProgress(value=0.0, layout=Layout(width='auto'), style=ProgressStyle(bar_color='black'))"
      ]
     },
     "metadata": {},
     "output_type": "display_data"
    },
    {
     "data": {
      "text/html": [
       "<div>\n",
       "<style scoped>\n",
       "    .dataframe tbody tr th:only-of-type {\n",
       "        vertical-align: middle;\n",
       "    }\n",
       "\n",
       "    .dataframe tbody tr th {\n",
       "        vertical-align: top;\n",
       "    }\n",
       "\n",
       "    .dataframe thead th {\n",
       "        text-align: right;\n",
       "    }\n",
       "</style>\n",
       "<table border=\"1\" class=\"dataframe\">\n",
       "  <thead>\n",
       "    <tr style=\"text-align: right;\">\n",
       "      <th></th>\n",
       "      <th>Success</th>\n",
       "    </tr>\n",
       "  </thead>\n",
       "  <tbody>\n",
       "  </tbody>\n",
       "</table>\n",
       "</div>"
      ],
      "text/plain": [
       "Empty DataFrame\n",
       "Columns: [Success]\n",
       "Index: []"
      ]
     },
     "execution_count": 138,
     "metadata": {},
     "output_type": "execute_result"
    }
   ],
   "source": [
    "%%sql\n",
    "\n",
    "CREATE TABLE inputevents AS \n",
    "SELECT \n",
    "    *\n",
    "FROM read_csv('INPUTEVENTS_MV.csv.gz');\n",
    "\n",
    "COPY (SELECT * FROM inputevents) TO 'inputevents.parquet' (FORMAT PARQUET, CODEC ZSTD);"
   ]
  },
  {
   "cell_type": "code",
   "execution_count": 125,
   "metadata": {},
   "outputs": [
    {
     "data": {
      "text/html": [
       "AI generated code inserted below &#11015;&#65039;"
      ],
      "text/plain": [
       "<IPython.core.display.HTML object>"
      ]
     },
     "execution_count": 125,
     "metadata": {
      "text/html": {
       "jupyter_ai": {
        "model_id": "claude-3-opus-20240229",
        "provider_id": "anthropic-chat"
       }
      }
     },
     "output_type": "execute_result"
    }
   ],
   "source": [
    "%%ai anthropic-chat:claude-3-opus-20240229 --format code\n",
    "\n",
    "{parent_prompt}\n",
    "\n",
    "Only do this for this file:\n",
    "\n",
    "```\n",
    "-rw-r--r--@ 1 me  staff   320M Mar 19  2019 LABEVENTS.csv.gz\n",
    "```"
   ]
  },
  {
   "cell_type": "code",
   "execution_count": 141,
   "metadata": {},
   "outputs": [
    {
     "data": {
      "application/vnd.jupyter.widget-view+json": {
       "model_id": "841221cf6f384c2b84e36660bb7e243a",
       "version_major": 2,
       "version_minor": 0
      },
      "text/plain": [
       "FloatProgress(value=0.0, layout=Layout(width='auto'), style=ProgressStyle(bar_color='black'))"
      ]
     },
     "metadata": {},
     "output_type": "display_data"
    },
    {
     "data": {
      "application/vnd.jupyter.widget-view+json": {
       "model_id": "fdea5d45d7144cd494ae617ab8be69a9",
       "version_major": 2,
       "version_minor": 0
      },
      "text/plain": [
       "FloatProgress(value=0.0, layout=Layout(width='auto'), style=ProgressStyle(bar_color='black'))"
      ]
     },
     "metadata": {},
     "output_type": "display_data"
    },
    {
     "data": {
      "text/html": [
       "<div>\n",
       "<style scoped>\n",
       "    .dataframe tbody tr th:only-of-type {\n",
       "        vertical-align: middle;\n",
       "    }\n",
       "\n",
       "    .dataframe tbody tr th {\n",
       "        vertical-align: top;\n",
       "    }\n",
       "\n",
       "    .dataframe thead th {\n",
       "        text-align: right;\n",
       "    }\n",
       "</style>\n",
       "<table border=\"1\" class=\"dataframe\">\n",
       "  <thead>\n",
       "    <tr style=\"text-align: right;\">\n",
       "      <th></th>\n",
       "      <th>Success</th>\n",
       "    </tr>\n",
       "  </thead>\n",
       "  <tbody>\n",
       "  </tbody>\n",
       "</table>\n",
       "</div>"
      ],
      "text/plain": [
       "Empty DataFrame\n",
       "Columns: [Success]\n",
       "Index: []"
      ]
     },
     "execution_count": 141,
     "metadata": {},
     "output_type": "execute_result"
    }
   ],
   "source": [
    "%%sql\n",
    "\n",
    "CREATE TABLE labevents AS\n",
    "SELECT\n",
    "    *\n",
    "FROM read_csv('LABEVENTS.csv.gz', delim=',', header=True, quote='\"');\n",
    "\n",
    "COPY labevents TO 'labevents.parquet' (FORMAT PARQUET, CODEC ZSTD);"
   ]
  },
  {
   "cell_type": "code",
   "execution_count": 126,
   "metadata": {},
   "outputs": [
    {
     "data": {
      "text/html": [
       "AI generated code inserted below &#11015;&#65039;"
      ],
      "text/plain": [
       "<IPython.core.display.HTML object>"
      ]
     },
     "execution_count": 126,
     "metadata": {
      "text/html": {
       "jupyter_ai": {
        "model_id": "claude-3-opus-20240229",
        "provider_id": "anthropic-chat"
       }
      }
     },
     "output_type": "execute_result"
    }
   ],
   "source": [
    "%%ai anthropic-chat:claude-3-opus-20240229 --format code\n",
    "\n",
    "{parent_prompt}\n",
    "\n",
    "Only do this for this file:\n",
    "\n",
    "```\n",
    "-rw-r--r--@ 1 me  staff   7.3M Mar 19  2019 MICROBIOLOGYEVENTS.csv.gz\n",
    "```"
   ]
  },
  {
   "cell_type": "code",
   "execution_count": 145,
   "metadata": {},
   "outputs": [
    {
     "data": {
      "text/html": [
       "<div>\n",
       "<style scoped>\n",
       "    .dataframe tbody tr th:only-of-type {\n",
       "        vertical-align: middle;\n",
       "    }\n",
       "\n",
       "    .dataframe tbody tr th {\n",
       "        vertical-align: top;\n",
       "    }\n",
       "\n",
       "    .dataframe thead th {\n",
       "        text-align: right;\n",
       "    }\n",
       "</style>\n",
       "<table border=\"1\" class=\"dataframe\">\n",
       "  <thead>\n",
       "    <tr style=\"text-align: right;\">\n",
       "      <th></th>\n",
       "      <th>Success</th>\n",
       "    </tr>\n",
       "  </thead>\n",
       "  <tbody>\n",
       "  </tbody>\n",
       "</table>\n",
       "</div>"
      ],
      "text/plain": [
       "Empty DataFrame\n",
       "Columns: [Success]\n",
       "Index: []"
      ]
     },
     "execution_count": 145,
     "metadata": {},
     "output_type": "execute_result"
    }
   ],
   "source": [
    "%%sql\n",
    "\n",
    "CREATE TABLE microbiologyevents AS\n",
    "SELECT * FROM read_csv('MICROBIOLOGYEVENTS.csv.gz');\n",
    "\n",
    "COPY (SELECT * FROM microbiologyevents) TO 'microbiologyevents.parquet' (FORMAT PARQUET, CODEC ZSTD);"
   ]
  },
  {
   "cell_type": "code",
   "execution_count": 158,
   "metadata": {},
   "outputs": [
    {
     "data": {
      "text/html": [
       "AI generated code inserted below &#11015;&#65039;"
      ],
      "text/plain": [
       "<IPython.core.display.HTML object>"
      ]
     },
     "execution_count": 158,
     "metadata": {
      "text/html": {
       "jupyter_ai": {
        "model_id": "claude-3-opus-20240229",
        "provider_id": "anthropic-chat"
       }
      }
     },
     "output_type": "execute_result"
    }
   ],
   "source": [
    "%%ai anthropic-chat:claude-3-opus-20240229 --format code\n",
    "\n",
    "{parent_prompt}\n",
    "\n",
    "Only do this for this file:\n",
    "\n",
    "```\n",
    "-rw-r--r--@ 1 me  staff   1.1G Mar 19  2019 NOTEEVENTS.csv.gz\n",
    "```"
   ]
  },
  {
   "cell_type": "code",
   "execution_count": 161,
   "metadata": {},
   "outputs": [
    {
     "data": {
      "application/vnd.jupyter.widget-view+json": {
       "model_id": "f3166612a41741b685c2250e32242c4f",
       "version_major": 2,
       "version_minor": 0
      },
      "text/plain": [
       "FloatProgress(value=0.0, layout=Layout(width='auto'), style=ProgressStyle(bar_color='black'))"
      ]
     },
     "metadata": {},
     "output_type": "display_data"
    },
    {
     "data": {
      "application/vnd.jupyter.widget-view+json": {
       "model_id": "c5dbb6dc01474ee28b7e8622af30050e",
       "version_major": 2,
       "version_minor": 0
      },
      "text/plain": [
       "FloatProgress(value=0.0, layout=Layout(width='auto'), style=ProgressStyle(bar_color='black'))"
      ]
     },
     "metadata": {},
     "output_type": "display_data"
    },
    {
     "data": {
      "text/html": [
       "<div>\n",
       "<style scoped>\n",
       "    .dataframe tbody tr th:only-of-type {\n",
       "        vertical-align: middle;\n",
       "    }\n",
       "\n",
       "    .dataframe tbody tr th {\n",
       "        vertical-align: top;\n",
       "    }\n",
       "\n",
       "    .dataframe thead th {\n",
       "        text-align: right;\n",
       "    }\n",
       "</style>\n",
       "<table border=\"1\" class=\"dataframe\">\n",
       "  <thead>\n",
       "    <tr style=\"text-align: right;\">\n",
       "      <th></th>\n",
       "      <th>Success</th>\n",
       "    </tr>\n",
       "  </thead>\n",
       "  <tbody>\n",
       "  </tbody>\n",
       "</table>\n",
       "</div>"
      ],
      "text/plain": [
       "Empty DataFrame\n",
       "Columns: [Success]\n",
       "Index: []"
      ]
     },
     "execution_count": 161,
     "metadata": {},
     "output_type": "execute_result"
    }
   ],
   "source": [
    "%%sql\n",
    "CREATE OR REPLACE TABLE noteevents AS \n",
    "SELECT \n",
    "   CAST(row_id AS INT) AS row_id,\n",
    "   CAST(subject_id AS INT) AS subject_id,\n",
    "   CAST(hadm_id AS INT) AS hadm_id,\n",
    "   CAST(chartdate AS DATE) AS chartdate,\n",
    "   CAST(charttime AS TIME) AS charttime,\n",
    "   CAST(storetime AS TIMESTAMP) AS storetime,\n",
    "   CAST(category AS VARCHAR) AS category,\n",
    "   CAST(description AS VARCHAR) AS description,\n",
    "   CAST(cgid AS INT) AS cgid,\n",
    "   CAST(iserror AS BOOLEAN) AS iserror,\n",
    "   CAST(text AS VARCHAR) AS text\n",
    "FROM read_csv('NOTEEVENTS.csv.gz', header=True, nullstr='', ignore_errors=true);\n",
    "\n",
    "COPY noteevents TO 'noteevents.parquet' (FORMAT 'parquet', CODEC 'ZSTD');"
   ]
  },
  {
   "cell_type": "code",
   "execution_count": 128,
   "metadata": {},
   "outputs": [
    {
     "data": {
      "text/html": [
       "AI generated code inserted below &#11015;&#65039;"
      ],
      "text/plain": [
       "<IPython.core.display.HTML object>"
      ]
     },
     "execution_count": 128,
     "metadata": {
      "text/html": {
       "jupyter_ai": {
        "model_id": "claude-3-opus-20240229",
        "provider_id": "anthropic-chat"
       }
      }
     },
     "output_type": "execute_result"
    }
   ],
   "source": [
    "%%ai anthropic-chat:claude-3-opus-20240229 --format code\n",
    "\n",
    "{parent_prompt}\n",
    "\n",
    "Only do this for this file:\n",
    "\n",
    "```\n",
    "-rw-r--r--@ 1 me  staff    56M Mar 19  2019 OUTPUTEVENTS.csv.gz\n",
    "```"
   ]
  },
  {
   "cell_type": "code",
   "execution_count": 150,
   "metadata": {},
   "outputs": [
    {
     "data": {
      "text/html": [
       "<div>\n",
       "<style scoped>\n",
       "    .dataframe tbody tr th:only-of-type {\n",
       "        vertical-align: middle;\n",
       "    }\n",
       "\n",
       "    .dataframe tbody tr th {\n",
       "        vertical-align: top;\n",
       "    }\n",
       "\n",
       "    .dataframe thead th {\n",
       "        text-align: right;\n",
       "    }\n",
       "</style>\n",
       "<table border=\"1\" class=\"dataframe\">\n",
       "  <thead>\n",
       "    <tr style=\"text-align: right;\">\n",
       "      <th></th>\n",
       "      <th>Success</th>\n",
       "    </tr>\n",
       "  </thead>\n",
       "  <tbody>\n",
       "  </tbody>\n",
       "</table>\n",
       "</div>"
      ],
      "text/plain": [
       "Empty DataFrame\n",
       "Columns: [Success]\n",
       "Index: []"
      ]
     },
     "execution_count": 150,
     "metadata": {},
     "output_type": "execute_result"
    }
   ],
   "source": [
    "%%sql\n",
    "\n",
    "CREATE TABLE OUTPUTEVENTS AS (\n",
    "  SELECT \n",
    "    CAST(subject_id AS INT) AS subject_id,\n",
    "    CAST(hadm_id AS INT) AS hadm_id,\n",
    "    CAST(icustay_id AS INT) AS icustay_id,\n",
    "    CAST(cgid AS INT) AS cgid,\n",
    "    CAST(charttime AS TIMESTAMP) AS charttime,\n",
    "    CAST(storetime AS TIMESTAMP) AS storetime,\n",
    "    CAST(itemid AS INT) AS itemid,\n",
    "    CAST(value AS DOUBLE) AS value,\n",
    "    CAST(valueuom AS VARCHAR) AS valueuom\n",
    "  FROM read_csv_auto('OUTPUTEVENTS.csv.gz')\n",
    ");\n",
    "\n",
    "COPY OUTPUTEVENTS TO 'OUTPUTEVENTS.parquet' (FORMAT PARQUET, CODEC 'ZSTD');"
   ]
  },
  {
   "cell_type": "code",
   "execution_count": 129,
   "metadata": {},
   "outputs": [
    {
     "data": {
      "text/html": [
       "AI generated code inserted below &#11015;&#65039;"
      ],
      "text/plain": [
       "<IPython.core.display.HTML object>"
      ]
     },
     "execution_count": 129,
     "metadata": {
      "text/html": {
       "jupyter_ai": {
        "model_id": "claude-3-opus-20240229",
        "provider_id": "anthropic-chat"
       }
      }
     },
     "output_type": "execute_result"
    }
   ],
   "source": [
    "%%ai anthropic-chat:claude-3-opus-20240229 --format code\n",
    "\n",
    "{parent_prompt}\n",
    "\n",
    "Only do this for this file:\n",
    "\n",
    "```\n",
    "-rw-r--r--@ 1 me  staff   558K Mar 19  2019 PATIENTS.csv.gz\n",
    "```"
   ]
  },
  {
   "cell_type": "code",
   "execution_count": 151,
   "metadata": {},
   "outputs": [
    {
     "data": {
      "text/html": [
       "<div>\n",
       "<style scoped>\n",
       "    .dataframe tbody tr th:only-of-type {\n",
       "        vertical-align: middle;\n",
       "    }\n",
       "\n",
       "    .dataframe tbody tr th {\n",
       "        vertical-align: top;\n",
       "    }\n",
       "\n",
       "    .dataframe thead th {\n",
       "        text-align: right;\n",
       "    }\n",
       "</style>\n",
       "<table border=\"1\" class=\"dataframe\">\n",
       "  <thead>\n",
       "    <tr style=\"text-align: right;\">\n",
       "      <th></th>\n",
       "      <th>Success</th>\n",
       "    </tr>\n",
       "  </thead>\n",
       "  <tbody>\n",
       "  </tbody>\n",
       "</table>\n",
       "</div>"
      ],
      "text/plain": [
       "Empty DataFrame\n",
       "Columns: [Success]\n",
       "Index: []"
      ]
     },
     "execution_count": 151,
     "metadata": {},
     "output_type": "execute_result"
    }
   ],
   "source": [
    "%%sql\n",
    "\n",
    "CREATE TABLE patients AS\n",
    "SELECT *\n",
    "FROM read_csv('PATIENTS.csv.gz', columns={\n",
    "    'ROW_ID': 'INT',\n",
    "    'SUBJECT_ID': 'INT',\n",
    "    'GENDER': 'VARCHAR',\n",
    "    'DOB': 'DATE',\n",
    "    'DOD': 'DATE',\n",
    "    'DOD_HOSP': 'DATE',\n",
    "    'DOD_SSN': 'DATE',\n",
    "    'EXPIRE_FLAG': 'INT'\n",
    "}, ALL_VARCHAR=False, header=True);\n",
    "\n",
    "COPY (SELECT * FROM patients) TO 'patients.parquet' (FORMAT PARQUET, CODEC ZSTD);"
   ]
  },
  {
   "cell_type": "code",
   "execution_count": 130,
   "metadata": {},
   "outputs": [
    {
     "data": {
      "text/html": [
       "AI generated code inserted below &#11015;&#65039;"
      ],
      "text/plain": [
       "<IPython.core.display.HTML object>"
      ]
     },
     "execution_count": 130,
     "metadata": {
      "text/html": {
       "jupyter_ai": {
        "model_id": "claude-3-opus-20240229",
        "provider_id": "anthropic-chat"
       }
      }
     },
     "output_type": "execute_result"
    }
   ],
   "source": [
    "%%ai anthropic-chat:claude-3-opus-20240229 --format code\n",
    "\n",
    "{parent_prompt}\n",
    "\n",
    "Only do this for this file:\n",
    "\n",
    "```\n",
    "-rw-r--r--@ 1 me  staff    99M Mar 19  2019 PRESCRIPTIONS.csv.gz\n",
    "```"
   ]
  },
  {
   "cell_type": "code",
   "execution_count": 152,
   "metadata": {},
   "outputs": [
    {
     "data": {
      "application/vnd.jupyter.widget-view+json": {
       "model_id": "fdffaed86f6143b0aa453e1d987ed88a",
       "version_major": 2,
       "version_minor": 0
      },
      "text/plain": [
       "FloatProgress(value=0.0, layout=Layout(width='auto'), style=ProgressStyle(bar_color='black'))"
      ]
     },
     "metadata": {},
     "output_type": "display_data"
    },
    {
     "data": {
      "text/html": [
       "<div>\n",
       "<style scoped>\n",
       "    .dataframe tbody tr th:only-of-type {\n",
       "        vertical-align: middle;\n",
       "    }\n",
       "\n",
       "    .dataframe tbody tr th {\n",
       "        vertical-align: top;\n",
       "    }\n",
       "\n",
       "    .dataframe thead th {\n",
       "        text-align: right;\n",
       "    }\n",
       "</style>\n",
       "<table border=\"1\" class=\"dataframe\">\n",
       "  <thead>\n",
       "    <tr style=\"text-align: right;\">\n",
       "      <th></th>\n",
       "      <th>Success</th>\n",
       "    </tr>\n",
       "  </thead>\n",
       "  <tbody>\n",
       "  </tbody>\n",
       "</table>\n",
       "</div>"
      ],
      "text/plain": [
       "Empty DataFrame\n",
       "Columns: [Success]\n",
       "Index: []"
      ]
     },
     "execution_count": 152,
     "metadata": {},
     "output_type": "execute_result"
    }
   ],
   "source": [
    "%%sql\n",
    "\n",
    "CREATE TABLE PRESCRIPTIONS AS \n",
    "SELECT * FROM read_csv('PRESCRIPTIONS.csv.gz', \n",
    "    header=True,\n",
    "    quote='\"',\n",
    "    escape='\"',\n",
    "    auto_detect=True\n",
    ");\n",
    "\n",
    "COPY PRESCRIPTIONS TO 'prescriptions.parquet' (FORMAT PARQUET, CODEC ZSTD);"
   ]
  },
  {
   "cell_type": "code",
   "execution_count": 131,
   "metadata": {},
   "outputs": [
    {
     "data": {
      "text/html": [
       "AI generated code inserted below &#11015;&#65039;"
      ],
      "text/plain": [
       "<IPython.core.display.HTML object>"
      ]
     },
     "execution_count": 131,
     "metadata": {
      "text/html": {
       "jupyter_ai": {
        "model_id": "claude-3-opus-20240229",
        "provider_id": "anthropic-chat"
       }
      }
     },
     "output_type": "execute_result"
    }
   ],
   "source": [
    "%%ai anthropic-chat:claude-3-opus-20240229 --format code\n",
    "\n",
    "{parent_prompt}\n",
    "\n",
    "Only do this for this file:\n",
    "\n",
    "```\n",
    "-rw-r--r--@ 1 me  staff   7.5M Mar 19  2019 PROCEDUREEVENTS_MV.csv.gz\n",
    "```"
   ]
  },
  {
   "cell_type": "code",
   "execution_count": 154,
   "metadata": {},
   "outputs": [
    {
     "data": {
      "text/html": [
       "<div>\n",
       "<style scoped>\n",
       "    .dataframe tbody tr th:only-of-type {\n",
       "        vertical-align: middle;\n",
       "    }\n",
       "\n",
       "    .dataframe tbody tr th {\n",
       "        vertical-align: top;\n",
       "    }\n",
       "\n",
       "    .dataframe thead th {\n",
       "        text-align: right;\n",
       "    }\n",
       "</style>\n",
       "<table border=\"1\" class=\"dataframe\">\n",
       "  <thead>\n",
       "    <tr style=\"text-align: right;\">\n",
       "      <th></th>\n",
       "      <th>Success</th>\n",
       "    </tr>\n",
       "  </thead>\n",
       "  <tbody>\n",
       "  </tbody>\n",
       "</table>\n",
       "</div>"
      ],
      "text/plain": [
       "Empty DataFrame\n",
       "Columns: [Success]\n",
       "Index: []"
      ]
     },
     "execution_count": 154,
     "metadata": {},
     "output_type": "execute_result"
    }
   ],
   "source": [
    "%%sql\n",
    "\n",
    "CREATE TABLE procedureevents_mv AS\n",
    "SELECT \n",
    "    *\n",
    "FROM read_csv('PROCEDUREEVENTS_MV.csv.gz');\n",
    "\n",
    "COPY procedureevents_mv TO 'procedureevents_mv.parquet' (FORMAT PARQUET, CODEC ZSTD);"
   ]
  },
  {
   "cell_type": "code",
   "execution_count": 132,
   "metadata": {},
   "outputs": [
    {
     "data": {
      "text/html": [
       "AI generated code inserted below &#11015;&#65039;"
      ],
      "text/plain": [
       "<IPython.core.display.HTML object>"
      ]
     },
     "execution_count": 132,
     "metadata": {
      "text/html": {
       "jupyter_ai": {
        "model_id": "claude-3-opus-20240229",
        "provider_id": "anthropic-chat"
       }
      }
     },
     "output_type": "execute_result"
    }
   ],
   "source": [
    "%%ai anthropic-chat:claude-3-opus-20240229 --format code\n",
    "\n",
    "{parent_prompt}\n",
    "\n",
    "Only do this for this file:\n",
    "\n",
    "```\n",
    "-rw-r--r--@ 1 me  staff   1.7M Mar 19  2019 PROCEDURES_ICD.csv.gz\n",
    "```"
   ]
  },
  {
   "cell_type": "code",
   "execution_count": 155,
   "metadata": {},
   "outputs": [
    {
     "data": {
      "text/html": [
       "<div>\n",
       "<style scoped>\n",
       "    .dataframe tbody tr th:only-of-type {\n",
       "        vertical-align: middle;\n",
       "    }\n",
       "\n",
       "    .dataframe tbody tr th {\n",
       "        vertical-align: top;\n",
       "    }\n",
       "\n",
       "    .dataframe thead th {\n",
       "        text-align: right;\n",
       "    }\n",
       "</style>\n",
       "<table border=\"1\" class=\"dataframe\">\n",
       "  <thead>\n",
       "    <tr style=\"text-align: right;\">\n",
       "      <th></th>\n",
       "      <th>Success</th>\n",
       "    </tr>\n",
       "  </thead>\n",
       "  <tbody>\n",
       "  </tbody>\n",
       "</table>\n",
       "</div>"
      ],
      "text/plain": [
       "Empty DataFrame\n",
       "Columns: [Success]\n",
       "Index: []"
      ]
     },
     "execution_count": 155,
     "metadata": {},
     "output_type": "execute_result"
    }
   ],
   "source": [
    "%%sql\n",
    "\n",
    "CREATE TABLE PROCEDURES_ICD AS \n",
    "SELECT * \n",
    "FROM read_csv('PROCEDURES_ICD.csv.gz', header=True, compression='gzip');\n",
    "\n",
    "COPY PROCEDURES_ICD TO 'PROCEDURES_ICD.parquet' (FORMAT PARQUET, CODEC 'ZSTD');"
   ]
  },
  {
   "cell_type": "code",
   "execution_count": 133,
   "metadata": {},
   "outputs": [
    {
     "data": {
      "text/html": [
       "AI generated code inserted below &#11015;&#65039;"
      ],
      "text/plain": [
       "<IPython.core.display.HTML object>"
      ]
     },
     "execution_count": 133,
     "metadata": {
      "text/html": {
       "jupyter_ai": {
        "model_id": "claude-3-opus-20240229",
        "provider_id": "anthropic-chat"
       }
      }
     },
     "output_type": "execute_result"
    }
   ],
   "source": [
    "%%ai anthropic-chat:claude-3-opus-20240229 --format code\n",
    "\n",
    "{parent_prompt}\n",
    "\n",
    "Only do this for this file:\n",
    "\n",
    "```\n",
    "-rw-r--r--@ 1 me  staff   1.1M Mar 19  2019 SERVICES.csv.gz\n",
    "```"
   ]
  },
  {
   "cell_type": "code",
   "execution_count": 156,
   "metadata": {},
   "outputs": [
    {
     "data": {
      "text/html": [
       "<div>\n",
       "<style scoped>\n",
       "    .dataframe tbody tr th:only-of-type {\n",
       "        vertical-align: middle;\n",
       "    }\n",
       "\n",
       "    .dataframe tbody tr th {\n",
       "        vertical-align: top;\n",
       "    }\n",
       "\n",
       "    .dataframe thead th {\n",
       "        text-align: right;\n",
       "    }\n",
       "</style>\n",
       "<table border=\"1\" class=\"dataframe\">\n",
       "  <thead>\n",
       "    <tr style=\"text-align: right;\">\n",
       "      <th></th>\n",
       "      <th>Success</th>\n",
       "    </tr>\n",
       "  </thead>\n",
       "  <tbody>\n",
       "  </tbody>\n",
       "</table>\n",
       "</div>"
      ],
      "text/plain": [
       "Empty DataFrame\n",
       "Columns: [Success]\n",
       "Index: []"
      ]
     },
     "execution_count": 156,
     "metadata": {},
     "output_type": "execute_result"
    }
   ],
   "source": [
    "%%sql\n",
    "\n",
    "CREATE TABLE SERVICES AS\n",
    "SELECT *\n",
    "FROM read_csv('SERVICES.csv.gz', compression='gzip', header=True, \n",
    "    columns={\n",
    "        'ROW_ID': 'INT',\n",
    "        'SUBJECT_ID': 'INT',\n",
    "        'HADM_ID': 'INT',\n",
    "        'TRANSFERTIME': 'TIMESTAMP',\n",
    "        'PREV_SERVICE': 'VARCHAR',\n",
    "        'CURR_SERVICE': 'VARCHAR'\n",
    "    });\n",
    "\n",
    "COPY (\n",
    "    SELECT *\n",
    "    FROM SERVICES\n",
    ") TO 'SERVICES.parquet' (FORMAT 'parquet', CODEC 'ZSTD');"
   ]
  },
  {
   "cell_type": "code",
   "execution_count": 134,
   "metadata": {},
   "outputs": [
    {
     "data": {
      "text/html": [
       "AI generated code inserted below &#11015;&#65039;"
      ],
      "text/plain": [
       "<IPython.core.display.HTML object>"
      ]
     },
     "execution_count": 134,
     "metadata": {
      "text/html": {
       "jupyter_ai": {
        "model_id": "claude-3-opus-20240229",
        "provider_id": "anthropic-chat"
       }
      }
     },
     "output_type": "execute_result"
    }
   ],
   "source": [
    "%%ai anthropic-chat:claude-3-opus-20240229 --format code\n",
    "\n",
    "{parent_prompt}\n",
    "\n",
    "Only do this for this file:\n",
    "\n",
    "```\n",
    "-rw-r--r--@ 1 me  staff   5.2M Mar 19  2019 TRANSFERS.csv.gz\n",
    "```"
   ]
  },
  {
   "cell_type": "code",
   "execution_count": 157,
   "metadata": {},
   "outputs": [
    {
     "data": {
      "text/html": [
       "<div>\n",
       "<style scoped>\n",
       "    .dataframe tbody tr th:only-of-type {\n",
       "        vertical-align: middle;\n",
       "    }\n",
       "\n",
       "    .dataframe tbody tr th {\n",
       "        vertical-align: top;\n",
       "    }\n",
       "\n",
       "    .dataframe thead th {\n",
       "        text-align: right;\n",
       "    }\n",
       "</style>\n",
       "<table border=\"1\" class=\"dataframe\">\n",
       "  <thead>\n",
       "    <tr style=\"text-align: right;\">\n",
       "      <th></th>\n",
       "      <th>Success</th>\n",
       "    </tr>\n",
       "  </thead>\n",
       "  <tbody>\n",
       "  </tbody>\n",
       "</table>\n",
       "</div>"
      ],
      "text/plain": [
       "Empty DataFrame\n",
       "Columns: [Success]\n",
       "Index: []"
      ]
     },
     "execution_count": 157,
     "metadata": {},
     "output_type": "execute_result"
    }
   ],
   "source": [
    "%%sql\n",
    "\n",
    "CREATE TABLE transfers AS\n",
    "SELECT * FROM read_csv_auto('TRANSFERS.csv.gz');\n",
    "\n",
    "COPY transfers TO 'transfers.parquet' (FORMAT PARQUET, CODEC 'ZSTD');"
   ]
  },
  {
   "cell_type": "markdown",
   "metadata": {},
   "source": [
    "## Generate the schema based on the DuckDB database files"
   ]
  },
  {
   "cell_type": "code",
   "execution_count": 165,
   "metadata": {},
   "outputs": [],
   "source": [
    "%%capture filenames\n",
    "!ls -lh *.parquet"
   ]
  },
  {
   "cell_type": "code",
   "execution_count": 169,
   "metadata": {},
   "outputs": [
    {
     "data": {
      "text/html": [
       "AI generated code inserted below &#11015;&#65039;"
      ],
      "text/plain": [
       "<IPython.core.display.HTML object>"
      ]
     },
     "execution_count": 169,
     "metadata": {
      "text/html": {
       "jupyter_ai": {
        "model_id": "claude-3-opus-20240229",
        "provider_id": "anthropic-chat"
       }
      }
     },
     "output_type": "execute_result"
    }
   ],
   "source": [
    "%%ai anthropic-chat:claude-3-opus-20240229 --format code\n",
    "\n",
    "{parent_prompt}\n",
    "\n",
    "Generate the schema using bash one liners in duckdb for every file here:\n",
    "```\n",
    "{filenames}                                                   \n",
    "```\n",
    "\n",
    "Next we will figure out how to link these files with join statements.\n",
    "\n",
    "Update: Instead of `%%sql`, the prefix for this one cell containing the bash one liner will simply be `!` to indicate shell command."
   ]
  },
  {
   "cell_type": "code",
   "execution_count": 171,
   "metadata": {},
   "outputs": [],
   "source": [
    "%%capture mimic_iii_schema\n",
    "!for file in *.parquet; do echo \"$file\"; echo \"----------\"; duckdb -c \"DESCRIBE SELECT * FROM parquet_scan('$file')\"; echo \"==========\"; done"
   ]
  },
  {
   "cell_type": "code",
   "execution_count": 172,
   "metadata": {},
   "outputs": [
    {
     "name": "stdout",
     "output_type": "stream",
     "text": [
      "CAREGIVERS.parquet\n",
      "----------\n",
      "┌─────────────┬─────────────┬─────────┬─────────┬─────────┬─────────┐\n",
      "│ column_name │ column_type │  null   │   key   │ default │  extra  │\n",
      "│   varchar   │   varchar   │ varchar │ varchar │ varchar │ varchar │\n",
      "├─────────────┼─────────────┼─────────┼─────────┼─────────┼─────────┤\n",
      "│ ROW_ID      │ BIGINT      │ YES     │         │         │         │\n",
      "│ CGID        │ BIGINT      │ YES     │         │         │         │\n",
      "│ LABEL       │ VARCHAR     │ YES     │         │         │         │\n",
      "│ DESCRIPTION │ VARCHAR     │ YES     │         │         │         │\n",
      "└─────────────┴─────────────┴─────────┴─────────┴─────────┴─────────┘\n",
      "==========\n",
      "CHARTEVENTS.parquet\n",
      "----------\n",
      "┌──────────────┬─────────────┬─────────┬─────────┬─────────┬─────────┐\n",
      "│ column_name  │ column_type │  null   │   key   │ default │  extra  │\n",
      "│   varchar    │   varchar   │ varchar │ varchar │ varchar │ varchar │\n",
      "├──────────────┼─────────────┼─────────┼─────────┼─────────┼─────────┤\n",
      "│ ROW_ID       │ INTEGER     │ YES     │         │         │         │\n",
      "│ SUBJECT_ID   │ INTEGER     │ YES     │         │         │         │\n",
      "│ HADM_ID      │ INTEGER     │ YES     │         │         │         │\n",
      "│ ICUSTAY_ID   │ INTEGER     │ YES     │         │         │         │\n",
      "│ ITEMID       │ INTEGER     │ YES     │         │         │         │\n",
      "│ CHARTTIME    │ TIMESTAMP   │ YES     │         │         │         │\n",
      "│ STORETIME    │ TIMESTAMP   │ YES     │         │         │         │\n",
      "│ CGID         │ INTEGER     │ YES     │         │         │         │\n",
      "│ VALUE        │ VARCHAR     │ YES     │         │         │         │\n",
      "│ VALUENUM     │ DOUBLE      │ YES     │         │         │         │\n",
      "│ VALUEUOM     │ VARCHAR     │ YES     │         │         │         │\n",
      "│ WARNING      │ BOOLEAN     │ YES     │         │         │         │\n",
      "│ ERROR        │ BOOLEAN     │ YES     │         │         │         │\n",
      "│ RESULTSTATUS │ VARCHAR     │ YES     │         │         │         │\n",
      "│ STOPPED      │ VARCHAR     │ YES     │         │         │         │\n",
      "├──────────────┴─────────────┴─────────┴─────────┴─────────┴─────────┤\n",
      "│ 15 rows                                                  6 columns │\n",
      "└────────────────────────────────────────────────────────────────────┘\n",
      "==========\n",
      "CPTEVENTS.parquet\n",
      "----------\n",
      "┌──────────────────┬─────────────┬─────────┬─────────┬─────────┬─────────┐\n",
      "│   column_name    │ column_type │  null   │   key   │ default │  extra  │\n",
      "│     varchar      │   varchar   │ varchar │ varchar │ varchar │ varchar │\n",
      "├──────────────────┼─────────────┼─────────┼─────────┼─────────┼─────────┤\n",
      "│ ROW_ID           │ INTEGER     │ YES     │         │         │         │\n",
      "│ SUBJECT_ID       │ INTEGER     │ YES     │         │         │         │\n",
      "│ HADM_ID          │ INTEGER     │ YES     │         │         │         │\n",
      "│ COSTCENTER       │ VARCHAR     │ YES     │         │         │         │\n",
      "│ CHARTDATE        │ DATE        │ YES     │         │         │         │\n",
      "│ CPT_CD           │ VARCHAR     │ YES     │         │         │         │\n",
      "│ CPT_NUMBER       │ INTEGER     │ YES     │         │         │         │\n",
      "│ CPT_SUFFIX       │ VARCHAR     │ YES     │         │         │         │\n",
      "│ TICKET_ID_SEQ    │ INTEGER     │ YES     │         │         │         │\n",
      "│ SECTIONHEADER    │ VARCHAR     │ YES     │         │         │         │\n",
      "│ SUBSECTIONHEADER │ VARCHAR     │ YES     │         │         │         │\n",
      "│ DESCRIPTION      │ VARCHAR     │ YES     │         │         │         │\n",
      "├──────────────────┴─────────────┴─────────┴─────────┴─────────┴─────────┤\n",
      "│ 12 rows                                                      6 columns │\n",
      "└────────────────────────────────────────────────────────────────────────┘\n",
      "==========\n",
      "DATETIMEEVENTS.parquet\n",
      "----------\n",
      "┌──────────────┬─────────────┬─────────┬─────────┬─────────┬─────────┐\n",
      "│ column_name  │ column_type │  null   │   key   │ default │  extra  │\n",
      "│   varchar    │   varchar   │ varchar │ varchar │ varchar │ varchar │\n",
      "├──────────────┼─────────────┼─────────┼─────────┼─────────┼─────────┤\n",
      "│ ROW_ID       │ BIGINT      │ YES     │         │         │         │\n",
      "│ SUBJECT_ID   │ BIGINT      │ YES     │         │         │         │\n",
      "│ HADM_ID      │ BIGINT      │ YES     │         │         │         │\n",
      "│ ICUSTAY_ID   │ BIGINT      │ YES     │         │         │         │\n",
      "│ ITEMID       │ BIGINT      │ YES     │         │         │         │\n",
      "│ CHARTTIME    │ TIMESTAMP   │ YES     │         │         │         │\n",
      "│ STORETIME    │ TIMESTAMP   │ YES     │         │         │         │\n",
      "│ CGID         │ BIGINT      │ YES     │         │         │         │\n",
      "│ VALUE        │ TIMESTAMP   │ YES     │         │         │         │\n",
      "│ VALUEUOM     │ VARCHAR     │ YES     │         │         │         │\n",
      "│ WARNING      │ VARCHAR     │ YES     │         │         │         │\n",
      "│ ERROR        │ VARCHAR     │ YES     │         │         │         │\n",
      "│ RESULTSTATUS │ VARCHAR     │ YES     │         │         │         │\n",
      "│ STOPPED      │ VARCHAR     │ YES     │         │         │         │\n",
      "├──────────────┴─────────────┴─────────┴─────────┴─────────┴─────────┤\n",
      "│ 14 rows                                                  6 columns │\n",
      "└────────────────────────────────────────────────────────────────────┘\n",
      "==========\n",
      "D_CPT.parquet\n",
      "----------\n",
      "┌─────────────────────┬─────────────┬─────────┬─────────┬─────────┬─────────┐\n",
      "│     column_name     │ column_type │  null   │   key   │ default │  extra  │\n",
      "│       varchar       │   varchar   │ varchar │ varchar │ varchar │ varchar │\n",
      "├─────────────────────┼─────────────┼─────────┼─────────┼─────────┼─────────┤\n",
      "│ ROW_ID              │ BIGINT      │ YES     │         │         │         │\n",
      "│ CATEGORY            │ BIGINT      │ YES     │         │         │         │\n",
      "│ SECTIONRANGE        │ VARCHAR     │ YES     │         │         │         │\n",
      "│ SECTIONHEADER       │ VARCHAR     │ YES     │         │         │         │\n",
      "│ SUBSECTIONRANGE     │ VARCHAR     │ YES     │         │         │         │\n",
      "│ SUBSECTIONHEADER    │ VARCHAR     │ YES     │         │         │         │\n",
      "│ CODESUFFIX          │ BOOLEAN     │ YES     │         │         │         │\n",
      "│ MINCODEINSUBSECTION │ BIGINT      │ YES     │         │         │         │\n",
      "│ MAXCODEINSUBSECTION │ BIGINT      │ YES     │         │         │         │\n",
      "└─────────────────────┴─────────────┴─────────┴─────────┴─────────┴─────────┘\n",
      "==========\n",
      "D_ICD_DIAGNOSES.parquet\n",
      "----------\n",
      "┌─────────────┬─────────────┬─────────┬─────────┬─────────┬─────────┐\n",
      "│ column_name │ column_type │  null   │   key   │ default │  extra  │\n",
      "│   varchar   │   varchar   │ varchar │ varchar │ varchar │ varchar │\n",
      "├─────────────┼─────────────┼─────────┼─────────┼─────────┼─────────┤\n",
      "│ ROW_ID      │ BIGINT      │ YES     │         │         │         │\n",
      "│ ICD9_CODE   │ VARCHAR     │ YES     │         │         │         │\n",
      "│ SHORT_TITLE │ VARCHAR     │ YES     │         │         │         │\n",
      "│ LONG_TITLE  │ VARCHAR     │ YES     │         │         │         │\n",
      "└─────────────┴─────────────┴─────────┴─────────┴─────────┴─────────┘\n",
      "==========\n",
      "D_ICD_PROCEDURES.parquet\n",
      "----------\n",
      "┌─────────────┬─────────────┬─────────┬─────────┬─────────┬─────────┐\n",
      "│ column_name │ column_type │  null   │   key   │ default │  extra  │\n",
      "│   varchar   │   varchar   │ varchar │ varchar │ varchar │ varchar │\n",
      "├─────────────┼─────────────┼─────────┼─────────┼─────────┼─────────┤\n",
      "│ ROW_ID      │ INTEGER     │ YES     │         │         │         │\n",
      "│ ICD9_CODE   │ VARCHAR     │ YES     │         │         │         │\n",
      "│ SHORT_TITLE │ VARCHAR     │ YES     │         │         │         │\n",
      "│ LONG_TITLE  │ VARCHAR     │ YES     │         │         │         │\n",
      "└─────────────┴─────────────┴─────────┴─────────┴─────────┴─────────┘\n",
      "==========\n",
      "D_ITEMS.parquet\n",
      "----------\n",
      "┌──────────────┬─────────────┬─────────┬─────────┬─────────┬─────────┐\n",
      "│ column_name  │ column_type │  null   │   key   │ default │  extra  │\n",
      "│   varchar    │   varchar   │ varchar │ varchar │ varchar │ varchar │\n",
      "├──────────────┼─────────────┼─────────┼─────────┼─────────┼─────────┤\n",
      "│ row_id       │ INTEGER     │ YES     │         │         │         │\n",
      "│ itemid       │ INTEGER     │ YES     │         │         │         │\n",
      "│ label        │ VARCHAR     │ YES     │         │         │         │\n",
      "│ abbreviation │ VARCHAR     │ YES     │         │         │         │\n",
      "│ dbsource     │ VARCHAR     │ YES     │         │         │         │\n",
      "│ linksto      │ VARCHAR     │ YES     │         │         │         │\n",
      "│ category     │ VARCHAR     │ YES     │         │         │         │\n",
      "│ unitname     │ VARCHAR     │ YES     │         │         │         │\n",
      "│ param_type   │ VARCHAR     │ YES     │         │         │         │\n",
      "│ conceptid    │ INTEGER     │ YES     │         │         │         │\n",
      "├──────────────┴─────────────┴─────────┴─────────┴─────────┴─────────┤\n",
      "│ 10 rows                                                  6 columns │\n",
      "└────────────────────────────────────────────────────────────────────┘\n",
      "==========\n",
      "D_LABITEMS.parquet\n",
      "----------\n",
      "┌─────────────┬─────────────┬─────────┬─────────┬─────────┬─────────┐\n",
      "│ column_name │ column_type │  null   │   key   │ default │  extra  │\n",
      "│   varchar   │   varchar   │ varchar │ varchar │ varchar │ varchar │\n",
      "├─────────────┼─────────────┼─────────┼─────────┼─────────┼─────────┤\n",
      "│ ROW_ID      │ BIGINT      │ YES     │         │         │         │\n",
      "│ ITEMID      │ BIGINT      │ YES     │         │         │         │\n",
      "│ LABEL       │ VARCHAR     │ YES     │         │         │         │\n",
      "│ FLUID       │ VARCHAR     │ YES     │         │         │         │\n",
      "│ CATEGORY    │ VARCHAR     │ YES     │         │         │         │\n",
      "│ LOINC_CODE  │ VARCHAR     │ YES     │         │         │         │\n",
      "└─────────────┴─────────────┴─────────┴─────────┴─────────┴─────────┘\n",
      "==========\n",
      "OUTPUTEVENTS.parquet\n",
      "----------\n",
      "┌─────────────┬─────────────┬─────────┬─────────┬─────────┬─────────┐\n",
      "│ column_name │ column_type │  null   │   key   │ default │  extra  │\n",
      "│   varchar   │   varchar   │ varchar │ varchar │ varchar │ varchar │\n",
      "├─────────────┼─────────────┼─────────┼─────────┼─────────┼─────────┤\n",
      "│ subject_id  │ INTEGER     │ YES     │         │         │         │\n",
      "│ hadm_id     │ INTEGER     │ YES     │         │         │         │\n",
      "│ icustay_id  │ INTEGER     │ YES     │         │         │         │\n",
      "│ cgid        │ INTEGER     │ YES     │         │         │         │\n",
      "│ charttime   │ TIMESTAMP   │ YES     │         │         │         │\n",
      "│ storetime   │ TIMESTAMP   │ YES     │         │         │         │\n",
      "│ itemid      │ INTEGER     │ YES     │         │         │         │\n",
      "│ value       │ DOUBLE      │ YES     │         │         │         │\n",
      "│ valueuom    │ VARCHAR     │ YES     │         │         │         │\n",
      "└─────────────┴─────────────┴─────────┴─────────┴─────────┴─────────┘\n",
      "==========\n",
      "PROCEDURES_ICD.parquet\n",
      "----------\n",
      "┌─────────────┬─────────────┬─────────┬─────────┬─────────┬─────────┐\n",
      "│ column_name │ column_type │  null   │   key   │ default │  extra  │\n",
      "│   varchar   │   varchar   │ varchar │ varchar │ varchar │ varchar │\n",
      "├─────────────┼─────────────┼─────────┼─────────┼─────────┼─────────┤\n",
      "│ ROW_ID      │ BIGINT      │ YES     │         │         │         │\n",
      "│ SUBJECT_ID  │ BIGINT      │ YES     │         │         │         │\n",
      "│ HADM_ID     │ BIGINT      │ YES     │         │         │         │\n",
      "│ SEQ_NUM     │ BIGINT      │ YES     │         │         │         │\n",
      "│ ICD9_CODE   │ VARCHAR     │ YES     │         │         │         │\n",
      "└─────────────┴─────────────┴─────────┴─────────┴─────────┴─────────┘\n",
      "==========\n",
      "SERVICES.parquet\n",
      "----------\n",
      "┌──────────────┬─────────────┬─────────┬─────────┬─────────┬─────────┐\n",
      "│ column_name  │ column_type │  null   │   key   │ default │  extra  │\n",
      "│   varchar    │   varchar   │ varchar │ varchar │ varchar │ varchar │\n",
      "├──────────────┼─────────────┼─────────┼─────────┼─────────┼─────────┤\n",
      "│ ROW_ID       │ INTEGER     │ YES     │         │         │         │\n",
      "│ SUBJECT_ID   │ INTEGER     │ YES     │         │         │         │\n",
      "│ HADM_ID      │ INTEGER     │ YES     │         │         │         │\n",
      "│ TRANSFERTIME │ TIMESTAMP   │ YES     │         │         │         │\n",
      "│ PREV_SERVICE │ VARCHAR     │ YES     │         │         │         │\n",
      "│ CURR_SERVICE │ VARCHAR     │ YES     │         │         │         │\n",
      "└──────────────┴─────────────┴─────────┴─────────┴─────────┴─────────┘\n",
      "==========\n",
      "admissions.parquet\n",
      "----------\n",
      "┌──────────────────────┬─────────────┬─────────┬─────────┬─────────┬─────────┐\n",
      "│     column_name      │ column_type │  null   │   key   │ default │  extra  │\n",
      "│       varchar        │   varchar   │ varchar │ varchar │ varchar │ varchar │\n",
      "├──────────────────────┼─────────────┼─────────┼─────────┼─────────┼─────────┤\n",
      "│ ROW_ID               │ BIGINT      │ YES     │         │         │         │\n",
      "│ SUBJECT_ID           │ BIGINT      │ YES     │         │         │         │\n",
      "│ HADM_ID              │ BIGINT      │ YES     │         │         │         │\n",
      "│ ADMITTIME            │ TIMESTAMP   │ YES     │         │         │         │\n",
      "│ DISCHTIME            │ TIMESTAMP   │ YES     │         │         │         │\n",
      "│ DEATHTIME            │ TIMESTAMP   │ YES     │         │         │         │\n",
      "│ ADMISSION_TYPE       │ VARCHAR     │ YES     │         │         │         │\n",
      "│ ADMISSION_LOCATION   │ VARCHAR     │ YES     │         │         │         │\n",
      "│ DISCHARGE_LOCATION   │ VARCHAR     │ YES     │         │         │         │\n",
      "│ INSURANCE            │ VARCHAR     │ YES     │         │         │         │\n",
      "│ LANGUAGE             │ VARCHAR     │ YES     │         │         │         │\n",
      "│ RELIGION             │ VARCHAR     │ YES     │         │         │         │\n",
      "│ MARITAL_STATUS       │ VARCHAR     │ YES     │         │         │         │\n",
      "│ ETHNICITY            │ VARCHAR     │ YES     │         │         │         │\n",
      "│ EDREGTIME            │ TIMESTAMP   │ YES     │         │         │         │\n",
      "│ EDOUTTIME            │ TIMESTAMP   │ YES     │         │         │         │\n",
      "│ DIAGNOSIS            │ VARCHAR     │ YES     │         │         │         │\n",
      "│ HOSPITAL_EXPIRE_FLAG │ BIGINT      │ YES     │         │         │         │\n",
      "│ HAS_CHARTEVENTS_DATA │ BIGINT      │ YES     │         │         │         │\n",
      "├──────────────────────┴─────────────┴─────────┴─────────┴─────────┴─────────┤\n",
      "│ 19 rows                                                          6 columns │\n",
      "└────────────────────────────────────────────────────────────────────────────┘\n",
      "==========\n",
      "callout.parquet\n",
      "----------\n",
      "┌────────────────────────┬─────────────┬─────────┬─────────┬─────────┬─────────┐\n",
      "│      column_name       │ column_type │  null   │   key   │ default │  extra  │\n",
      "│        varchar         │   varchar   │ varchar │ varchar │ varchar │ varchar │\n",
      "├────────────────────────┼─────────────┼─────────┼─────────┼─────────┼─────────┤\n",
      "│ row_id                 │ INTEGER     │ YES     │         │         │         │\n",
      "│ subject_id             │ INTEGER     │ YES     │         │         │         │\n",
      "│ hadm_id                │ INTEGER     │ YES     │         │         │         │\n",
      "│ submit_wardid          │ INTEGER     │ YES     │         │         │         │\n",
      "│ submit_careunit        │ VARCHAR     │ YES     │         │         │         │\n",
      "│ curr_wardid            │ INTEGER     │ YES     │         │         │         │\n",
      "│ curr_careunit          │ VARCHAR     │ YES     │         │         │         │\n",
      "│ callout_wardid         │ INTEGER     │ YES     │         │         │         │\n",
      "│ callout_service        │ VARCHAR     │ YES     │         │         │         │\n",
      "│ request_tele           │ INTEGER     │ YES     │         │         │         │\n",
      "│ request_resp           │ INTEGER     │ YES     │         │         │         │\n",
      "│ request_cdiff          │ INTEGER     │ YES     │         │         │         │\n",
      "│ request_mrsa           │ INTEGER     │ YES     │         │         │         │\n",
      "│ request_vre            │ INTEGER     │ YES     │         │         │         │\n",
      "│ callout_status         │ VARCHAR     │ YES     │         │         │         │\n",
      "│ callout_outcome        │ VARCHAR     │ YES     │         │         │         │\n",
      "│ discharge_wardid       │ INTEGER     │ YES     │         │         │         │\n",
      "│ acknowledge_status     │ VARCHAR     │ YES     │         │         │         │\n",
      "│ createtime             │ TIMESTAMP   │ YES     │         │         │         │\n",
      "│ updatetime             │ TIMESTAMP   │ YES     │         │         │         │\n",
      "│ acknowledgetime        │ TIMESTAMP   │ YES     │         │         │         │\n",
      "│ outcometime            │ TIMESTAMP   │ YES     │         │         │         │\n",
      "│ firstreservationtime   │ TIMESTAMP   │ YES     │         │         │         │\n",
      "│ currentreservationtime │ TIMESTAMP   │ YES     │         │         │         │\n",
      "├────────────────────────┴─────────────┴─────────┴─────────┴─────────┴─────────┤\n",
      "│ 24 rows                                                            6 columns │\n",
      "└──────────────────────────────────────────────────────────────────────────────┘\n",
      "==========\n",
      "diagnoses_icd.parquet\n",
      "----------\n",
      "┌─────────────┬─────────────┬─────────┬─────────┬─────────┬─────────┐\n",
      "│ column_name │ column_type │  null   │   key   │ default │  extra  │\n",
      "│   varchar   │   varchar   │ varchar │ varchar │ varchar │ varchar │\n",
      "├─────────────┼─────────────┼─────────┼─────────┼─────────┼─────────┤\n",
      "│ ROW_ID      │ INTEGER     │ YES     │         │         │         │\n",
      "│ SUBJECT_ID  │ INTEGER     │ YES     │         │         │         │\n",
      "│ HADM_ID     │ INTEGER     │ YES     │         │         │         │\n",
      "│ SEQ_NUM     │ INTEGER     │ YES     │         │         │         │\n",
      "│ ICD9_CODE   │ VARCHAR     │ YES     │         │         │         │\n",
      "└─────────────┴─────────────┴─────────┴─────────┴─────────┴─────────┘\n",
      "==========\n",
      "drgcodes.parquet\n",
      "----------\n",
      "┌───────────────┬─────────────┬─────────┬─────────┬─────────┬─────────┐\n",
      "│  column_name  │ column_type │  null   │   key   │ default │  extra  │\n",
      "│    varchar    │   varchar   │ varchar │ varchar │ varchar │ varchar │\n",
      "├───────────────┼─────────────┼─────────┼─────────┼─────────┼─────────┤\n",
      "│ subject_id    │ INTEGER     │ YES     │         │         │         │\n",
      "│ hadm_id       │ INTEGER     │ YES     │         │         │         │\n",
      "│ drg_type      │ VARCHAR     │ YES     │         │         │         │\n",
      "│ drg_code      │ VARCHAR     │ YES     │         │         │         │\n",
      "│ description   │ VARCHAR     │ YES     │         │         │         │\n",
      "│ drg_severity  │ INTEGER     │ YES     │         │         │         │\n",
      "│ drg_mortality │ INTEGER     │ YES     │         │         │         │\n",
      "└───────────────┴─────────────┴─────────┴─────────┴─────────┴─────────┘\n",
      "==========\n",
      "icustays.parquet\n",
      "----------\n",
      "┌────────────────┬─────────────┬─────────┬─────────┬─────────┬─────────┐\n",
      "│  column_name   │ column_type │  null   │   key   │ default │  extra  │\n",
      "│    varchar     │   varchar   │ varchar │ varchar │ varchar │ varchar │\n",
      "├────────────────┼─────────────┼─────────┼─────────┼─────────┼─────────┤\n",
      "│ ROW_ID         │ INTEGER     │ YES     │         │         │         │\n",
      "│ SUBJECT_ID     │ INTEGER     │ YES     │         │         │         │\n",
      "│ HADM_ID        │ INTEGER     │ YES     │         │         │         │\n",
      "│ ICUSTAY_ID     │ INTEGER     │ YES     │         │         │         │\n",
      "│ DBSOURCE       │ VARCHAR     │ YES     │         │         │         │\n",
      "│ FIRST_CAREUNIT │ VARCHAR     │ YES     │         │         │         │\n",
      "│ LAST_CAREUNIT  │ VARCHAR     │ YES     │         │         │         │\n",
      "│ FIRST_WARDID   │ INTEGER     │ YES     │         │         │         │\n",
      "│ LAST_WARDID    │ INTEGER     │ YES     │         │         │         │\n",
      "│ INTIME         │ TIMESTAMP   │ YES     │         │         │         │\n",
      "│ OUTTIME        │ TIMESTAMP   │ YES     │         │         │         │\n",
      "│ LOS            │ DOUBLE      │ YES     │         │         │         │\n",
      "├────────────────┴─────────────┴─────────┴─────────┴─────────┴─────────┤\n",
      "│ 12 rows                                                    6 columns │\n",
      "└──────────────────────────────────────────────────────────────────────┘\n",
      "==========\n",
      "inputevents.parquet\n",
      "----------\n",
      "┌────────────────────────┬─────────────┬─────────┬─────────┬─────────┬─────────┐\n",
      "│      column_name       │ column_type │  null   │   key   │ default │  extra  │\n",
      "│        varchar         │   varchar   │ varchar │ varchar │ varchar │ varchar │\n",
      "├────────────────────────┼─────────────┼─────────┼─────────┼─────────┼─────────┤\n",
      "│ ROW_ID                 │ BIGINT      │ YES     │         │         │         │\n",
      "│ SUBJECT_ID             │ BIGINT      │ YES     │         │         │         │\n",
      "│ HADM_ID                │ BIGINT      │ YES     │         │         │         │\n",
      "│ ICUSTAY_ID             │ BIGINT      │ YES     │         │         │         │\n",
      "│ STARTTIME              │ TIMESTAMP   │ YES     │         │         │         │\n",
      "│ ENDTIME                │ TIMESTAMP   │ YES     │         │         │         │\n",
      "│ ITEMID                 │ BIGINT      │ YES     │         │         │         │\n",
      "│ AMOUNT                 │ DOUBLE      │ YES     │         │         │         │\n",
      "│ AMOUNTUOM              │ VARCHAR     │ YES     │         │         │         │\n",
      "│ RATE                   │ DOUBLE      │ YES     │         │         │         │\n",
      "│ RATEUOM                │ VARCHAR     │ YES     │         │         │         │\n",
      "│ STORETIME              │ TIMESTAMP   │ YES     │         │         │         │\n",
      "│ CGID                   │ BIGINT      │ YES     │         │         │         │\n",
      "│ ORDERID                │ BIGINT      │ YES     │         │         │         │\n",
      "│ LINKORDERID            │ BIGINT      │ YES     │         │         │         │\n",
      "│ ORDERCATEGORYNAME      │ VARCHAR     │ YES     │         │         │         │\n",
      "│ SECONDARYORDERCATEGO…  │ VARCHAR     │ YES     │         │         │         │\n",
      "│ ORDERCOMPONENTTYPEDE…  │ VARCHAR     │ YES     │         │         │         │\n",
      "│ ORDERCATEGORYDESCRIP…  │ VARCHAR     │ YES     │         │         │         │\n",
      "│ PATIENTWEIGHT          │ DOUBLE      │ YES     │         │         │         │\n",
      "│ TOTALAMOUNT            │ DOUBLE      │ YES     │         │         │         │\n",
      "│ TOTALAMOUNTUOM         │ VARCHAR     │ YES     │         │         │         │\n",
      "│ ISOPENBAG              │ BIGINT      │ YES     │         │         │         │\n",
      "│ CONTINUEINNEXTDEPT     │ BIGINT      │ YES     │         │         │         │\n",
      "│ CANCELREASON           │ BIGINT      │ YES     │         │         │         │\n",
      "│ STATUSDESCRIPTION      │ VARCHAR     │ YES     │         │         │         │\n",
      "│ COMMENTS_EDITEDBY      │ VARCHAR     │ YES     │         │         │         │\n",
      "│ COMMENTS_CANCELEDBY    │ VARCHAR     │ YES     │         │         │         │\n",
      "│ COMMENTS_DATE          │ TIMESTAMP   │ YES     │         │         │         │\n",
      "│ ORIGINALAMOUNT         │ DOUBLE      │ YES     │         │         │         │\n",
      "│ ORIGINALRATE           │ DOUBLE      │ YES     │         │         │         │\n",
      "├────────────────────────┴─────────────┴─────────┴─────────┴─────────┴─────────┤\n",
      "│ 31 rows                                                            6 columns │\n",
      "└──────────────────────────────────────────────────────────────────────────────┘\n",
      "==========\n",
      "inputevents_cv.parquet\n",
      "----------\n",
      "┌───────────────────┬─────────────┬─────────┬─────────┬─────────┬─────────┐\n",
      "│    column_name    │ column_type │  null   │   key   │ default │  extra  │\n",
      "│      varchar      │   varchar   │ varchar │ varchar │ varchar │ varchar │\n",
      "├───────────────────┼─────────────┼─────────┼─────────┼─────────┼─────────┤\n",
      "│ ROW_ID            │ INTEGER     │ YES     │         │         │         │\n",
      "│ SUBJECT_ID        │ INTEGER     │ YES     │         │         │         │\n",
      "│ HADM_ID           │ INTEGER     │ YES     │         │         │         │\n",
      "│ ICUSTAY_ID        │ INTEGER     │ YES     │         │         │         │\n",
      "│ CHARTTIME         │ TIMESTAMP   │ YES     │         │         │         │\n",
      "│ ITEMID            │ INTEGER     │ YES     │         │         │         │\n",
      "│ AMOUNT            │ DOUBLE      │ YES     │         │         │         │\n",
      "│ AMOUNTUOM         │ VARCHAR     │ YES     │         │         │         │\n",
      "│ RATE              │ DOUBLE      │ YES     │         │         │         │\n",
      "│ RATEUOM           │ VARCHAR     │ YES     │         │         │         │\n",
      "│ STORETIME         │ TIMESTAMP   │ YES     │         │         │         │\n",
      "│ CGID              │ INTEGER     │ YES     │         │         │         │\n",
      "│ ORDERID           │ INTEGER     │ YES     │         │         │         │\n",
      "│ LINKORDERID       │ INTEGER     │ YES     │         │         │         │\n",
      "│ STOPPED           │ VARCHAR     │ YES     │         │         │         │\n",
      "│ NEWBOTTLE         │ INTEGER     │ YES     │         │         │         │\n",
      "│ ORIGINALAMOUNT    │ DOUBLE      │ YES     │         │         │         │\n",
      "│ ORIGINALAMOUNTUOM │ VARCHAR     │ YES     │         │         │         │\n",
      "│ ORIGINALROUTE     │ VARCHAR     │ YES     │         │         │         │\n",
      "│ ORIGINALRATE      │ DOUBLE      │ YES     │         │         │         │\n",
      "│ ORIGINALRATEUOM   │ VARCHAR     │ YES     │         │         │         │\n",
      "│ ORIGINALSITE      │ VARCHAR     │ YES     │         │         │         │\n",
      "├───────────────────┴─────────────┴─────────┴─────────┴─────────┴─────────┤\n",
      "│ 22 rows                                                       6 columns │\n",
      "└─────────────────────────────────────────────────────────────────────────┘\n",
      "==========\n",
      "labevents.parquet\n",
      "----------\n",
      "┌─────────────┬─────────────┬─────────┬─────────┬─────────┬─────────┐\n",
      "│ column_name │ column_type │  null   │   key   │ default │  extra  │\n",
      "│   varchar   │   varchar   │ varchar │ varchar │ varchar │ varchar │\n",
      "├─────────────┼─────────────┼─────────┼─────────┼─────────┼─────────┤\n",
      "│ ROW_ID      │ BIGINT      │ YES     │         │         │         │\n",
      "│ SUBJECT_ID  │ BIGINT      │ YES     │         │         │         │\n",
      "│ HADM_ID     │ BIGINT      │ YES     │         │         │         │\n",
      "│ ITEMID      │ BIGINT      │ YES     │         │         │         │\n",
      "│ CHARTTIME   │ TIMESTAMP   │ YES     │         │         │         │\n",
      "│ VALUE       │ VARCHAR     │ YES     │         │         │         │\n",
      "│ VALUENUM    │ DOUBLE      │ YES     │         │         │         │\n",
      "│ VALUEUOM    │ VARCHAR     │ YES     │         │         │         │\n",
      "│ FLAG        │ VARCHAR     │ YES     │         │         │         │\n",
      "└─────────────┴─────────────┴─────────┴─────────┴─────────┴─────────┘\n",
      "==========\n",
      "microbiologyevents.parquet\n",
      "----------\n",
      "┌─────────────────────┬─────────────┬─────────┬─────────┬─────────┬─────────┐\n",
      "│     column_name     │ column_type │  null   │   key   │ default │  extra  │\n",
      "│       varchar       │   varchar   │ varchar │ varchar │ varchar │ varchar │\n",
      "├─────────────────────┼─────────────┼─────────┼─────────┼─────────┼─────────┤\n",
      "│ ROW_ID              │ BIGINT      │ YES     │         │         │         │\n",
      "│ SUBJECT_ID          │ BIGINT      │ YES     │         │         │         │\n",
      "│ HADM_ID             │ BIGINT      │ YES     │         │         │         │\n",
      "│ CHARTDATE           │ TIMESTAMP   │ YES     │         │         │         │\n",
      "│ CHARTTIME           │ TIMESTAMP   │ YES     │         │         │         │\n",
      "│ SPEC_ITEMID         │ BIGINT      │ YES     │         │         │         │\n",
      "│ SPEC_TYPE_DESC      │ VARCHAR     │ YES     │         │         │         │\n",
      "│ ORG_ITEMID          │ BIGINT      │ YES     │         │         │         │\n",
      "│ ORG_NAME            │ VARCHAR     │ YES     │         │         │         │\n",
      "│ ISOLATE_NUM         │ BIGINT      │ YES     │         │         │         │\n",
      "│ AB_ITEMID           │ BIGINT      │ YES     │         │         │         │\n",
      "│ AB_NAME             │ VARCHAR     │ YES     │         │         │         │\n",
      "│ DILUTION_TEXT       │ VARCHAR     │ YES     │         │         │         │\n",
      "│ DILUTION_COMPARISON │ VARCHAR     │ YES     │         │         │         │\n",
      "│ DILUTION_VALUE      │ BIGINT      │ YES     │         │         │         │\n",
      "│ INTERPRETATION      │ VARCHAR     │ YES     │         │         │         │\n",
      "├─────────────────────┴─────────────┴─────────┴─────────┴─────────┴─────────┤\n",
      "│ 16 rows                                                         6 columns │\n",
      "└───────────────────────────────────────────────────────────────────────────┘\n",
      "==========\n",
      "noteevents.parquet\n",
      "----------\n",
      "┌─────────────┬─────────────┬─────────┬─────────┬─────────┬─────────┐\n",
      "│ column_name │ column_type │  null   │   key   │ default │  extra  │\n",
      "│   varchar   │   varchar   │ varchar │ varchar │ varchar │ varchar │\n",
      "├─────────────┼─────────────┼─────────┼─────────┼─────────┼─────────┤\n",
      "│ row_id      │ INTEGER     │ YES     │         │         │         │\n",
      "│ subject_id  │ INTEGER     │ YES     │         │         │         │\n",
      "│ hadm_id     │ INTEGER     │ YES     │         │         │         │\n",
      "│ chartdate   │ DATE        │ YES     │         │         │         │\n",
      "│ charttime   │ TIME        │ YES     │         │         │         │\n",
      "│ storetime   │ TIMESTAMP   │ YES     │         │         │         │\n",
      "│ category    │ VARCHAR     │ YES     │         │         │         │\n",
      "│ description │ VARCHAR     │ YES     │         │         │         │\n",
      "│ cgid        │ INTEGER     │ YES     │         │         │         │\n",
      "│ iserror     │ BOOLEAN     │ YES     │         │         │         │\n",
      "│ text        │ VARCHAR     │ YES     │         │         │         │\n",
      "├─────────────┴─────────────┴─────────┴─────────┴─────────┴─────────┤\n",
      "│ 11 rows                                                 6 columns │\n",
      "└───────────────────────────────────────────────────────────────────┘\n",
      "==========\n",
      "patients.parquet\n",
      "----------\n",
      "┌─────────────┬─────────────┬─────────┬─────────┬─────────┬─────────┐\n",
      "│ column_name │ column_type │  null   │   key   │ default │  extra  │\n",
      "│   varchar   │   varchar   │ varchar │ varchar │ varchar │ varchar │\n",
      "├─────────────┼─────────────┼─────────┼─────────┼─────────┼─────────┤\n",
      "│ ROW_ID      │ INTEGER     │ YES     │         │         │         │\n",
      "│ SUBJECT_ID  │ INTEGER     │ YES     │         │         │         │\n",
      "│ GENDER      │ VARCHAR     │ YES     │         │         │         │\n",
      "│ DOB         │ DATE        │ YES     │         │         │         │\n",
      "│ DOD         │ DATE        │ YES     │         │         │         │\n",
      "│ DOD_HOSP    │ DATE        │ YES     │         │         │         │\n",
      "│ DOD_SSN     │ DATE        │ YES     │         │         │         │\n",
      "│ EXPIRE_FLAG │ INTEGER     │ YES     │         │         │         │\n",
      "└─────────────┴─────────────┴─────────┴─────────┴─────────┴─────────┘\n",
      "==========\n",
      "prescriptions.parquet\n",
      "----------\n",
      "┌───────────────────┬─────────────┬─────────┬─────────┬─────────┬─────────┐\n",
      "│    column_name    │ column_type │  null   │   key   │ default │  extra  │\n",
      "│      varchar      │   varchar   │ varchar │ varchar │ varchar │ varchar │\n",
      "├───────────────────┼─────────────┼─────────┼─────────┼─────────┼─────────┤\n",
      "│ ROW_ID            │ BIGINT      │ YES     │         │         │         │\n",
      "│ SUBJECT_ID        │ BIGINT      │ YES     │         │         │         │\n",
      "│ HADM_ID           │ BIGINT      │ YES     │         │         │         │\n",
      "│ ICUSTAY_ID        │ BIGINT      │ YES     │         │         │         │\n",
      "│ STARTDATE         │ TIMESTAMP   │ YES     │         │         │         │\n",
      "│ ENDDATE           │ TIMESTAMP   │ YES     │         │         │         │\n",
      "│ DRUG_TYPE         │ VARCHAR     │ YES     │         │         │         │\n",
      "│ DRUG              │ VARCHAR     │ YES     │         │         │         │\n",
      "│ DRUG_NAME_POE     │ VARCHAR     │ YES     │         │         │         │\n",
      "│ DRUG_NAME_GENERIC │ VARCHAR     │ YES     │         │         │         │\n",
      "│ FORMULARY_DRUG_CD │ VARCHAR     │ YES     │         │         │         │\n",
      "│ GSN               │ VARCHAR     │ YES     │         │         │         │\n",
      "│ NDC               │ VARCHAR     │ YES     │         │         │         │\n",
      "│ PROD_STRENGTH     │ VARCHAR     │ YES     │         │         │         │\n",
      "│ DOSE_VAL_RX       │ VARCHAR     │ YES     │         │         │         │\n",
      "│ DOSE_UNIT_RX      │ VARCHAR     │ YES     │         │         │         │\n",
      "│ FORM_VAL_DISP     │ VARCHAR     │ YES     │         │         │         │\n",
      "│ FORM_UNIT_DISP    │ VARCHAR     │ YES     │         │         │         │\n",
      "│ ROUTE             │ VARCHAR     │ YES     │         │         │         │\n",
      "├───────────────────┴─────────────┴─────────┴─────────┴─────────┴─────────┤\n",
      "│ 19 rows                                                       6 columns │\n",
      "└─────────────────────────────────────────────────────────────────────────┘\n",
      "==========\n",
      "procedureevents_mv.parquet\n",
      "----------\n",
      "┌────────────────────────┬─────────────┬─────────┬─────────┬─────────┬─────────┐\n",
      "│      column_name       │ column_type │  null   │   key   │ default │  extra  │\n",
      "│        varchar         │   varchar   │ varchar │ varchar │ varchar │ varchar │\n",
      "├────────────────────────┼─────────────┼─────────┼─────────┼─────────┼─────────┤\n",
      "│ ROW_ID                 │ BIGINT      │ YES     │         │         │         │\n",
      "│ SUBJECT_ID             │ BIGINT      │ YES     │         │         │         │\n",
      "│ HADM_ID                │ BIGINT      │ YES     │         │         │         │\n",
      "│ ICUSTAY_ID             │ BIGINT      │ YES     │         │         │         │\n",
      "│ STARTTIME              │ TIMESTAMP   │ YES     │         │         │         │\n",
      "│ ENDTIME                │ TIMESTAMP   │ YES     │         │         │         │\n",
      "│ ITEMID                 │ BIGINT      │ YES     │         │         │         │\n",
      "│ VALUE                  │ DOUBLE      │ YES     │         │         │         │\n",
      "│ VALUEUOM               │ VARCHAR     │ YES     │         │         │         │\n",
      "│ LOCATION               │ VARCHAR     │ YES     │         │         │         │\n",
      "│ LOCATIONCATEGORY       │ VARCHAR     │ YES     │         │         │         │\n",
      "│ STORETIME              │ TIMESTAMP   │ YES     │         │         │         │\n",
      "│ CGID                   │ BIGINT      │ YES     │         │         │         │\n",
      "│ ORDERID                │ BIGINT      │ YES     │         │         │         │\n",
      "│ LINKORDERID            │ BIGINT      │ YES     │         │         │         │\n",
      "│ ORDERCATEGORYNAME      │ VARCHAR     │ YES     │         │         │         │\n",
      "│ SECONDARYORDERCATEGO…  │ VARCHAR     │ YES     │         │         │         │\n",
      "│ ORDERCATEGORYDESCRIP…  │ VARCHAR     │ YES     │         │         │         │\n",
      "│ ISOPENBAG              │ BIGINT      │ YES     │         │         │         │\n",
      "│ CONTINUEINNEXTDEPT     │ BIGINT      │ YES     │         │         │         │\n",
      "│ CANCELREASON           │ BIGINT      │ YES     │         │         │         │\n",
      "│ STATUSDESCRIPTION      │ VARCHAR     │ YES     │         │         │         │\n",
      "│ COMMENTS_EDITEDBY      │ VARCHAR     │ YES     │         │         │         │\n",
      "│ COMMENTS_CANCELEDBY    │ VARCHAR     │ YES     │         │         │         │\n",
      "│ COMMENTS_DATE          │ TIMESTAMP   │ YES     │         │         │         │\n",
      "├────────────────────────┴─────────────┴─────────┴─────────┴─────────┴─────────┤\n",
      "│ 25 rows                                                            6 columns │\n",
      "└──────────────────────────────────────────────────────────────────────────────┘\n",
      "==========\n",
      "transfers.parquet\n",
      "----------\n",
      "┌───────────────┬─────────────┬─────────┬─────────┬─────────┬─────────┐\n",
      "│  column_name  │ column_type │  null   │   key   │ default │  extra  │\n",
      "│    varchar    │   varchar   │ varchar │ varchar │ varchar │ varchar │\n",
      "├───────────────┼─────────────┼─────────┼─────────┼─────────┼─────────┤\n",
      "│ ROW_ID        │ BIGINT      │ YES     │         │         │         │\n",
      "│ SUBJECT_ID    │ BIGINT      │ YES     │         │         │         │\n",
      "│ HADM_ID       │ BIGINT      │ YES     │         │         │         │\n",
      "│ ICUSTAY_ID    │ BIGINT      │ YES     │         │         │         │\n",
      "│ DBSOURCE      │ VARCHAR     │ YES     │         │         │         │\n",
      "│ EVENTTYPE     │ VARCHAR     │ YES     │         │         │         │\n",
      "│ PREV_CAREUNIT │ VARCHAR     │ YES     │         │         │         │\n",
      "│ CURR_CAREUNIT │ VARCHAR     │ YES     │         │         │         │\n",
      "│ PREV_WARDID   │ BIGINT      │ YES     │         │         │         │\n",
      "│ CURR_WARDID   │ BIGINT      │ YES     │         │         │         │\n",
      "│ INTIME        │ TIMESTAMP   │ YES     │         │         │         │\n",
      "│ OUTTIME       │ TIMESTAMP   │ YES     │         │         │         │\n",
      "│ LOS           │ DOUBLE      │ YES     │         │         │         │\n",
      "├───────────────┴─────────────┴─────────┴─────────┴─────────┴─────────┤\n",
      "│ 13 rows                                                   6 columns │\n",
      "└─────────────────────────────────────────────────────────────────────┘\n",
      "==========\n",
      "\n"
     ]
    }
   ],
   "source": [
    "print(mimic_iii_schema.stdout)"
   ]
  },
  {
   "cell_type": "markdown",
   "metadata": {},
   "source": [
    "## Generate visualizations of the MIMIC III database / clinical data repository using python and altair"
   ]
  },
  {
   "cell_type": "code",
   "execution_count": 185,
   "metadata": {},
   "outputs": [
    {
     "data": {
      "text/html": [
       "AI generated code inserted below &#11015;&#65039;"
      ],
      "text/plain": [
       "<IPython.core.display.HTML object>"
      ]
     },
     "execution_count": 185,
     "metadata": {
      "text/html": {
       "jupyter_ai": {
        "model_id": "claude-3-opus-20240229",
        "provider_id": "anthropic-chat"
       }
      }
     },
     "output_type": "execute_result"
    }
   ],
   "source": [
    "%%ai anthropic-chat:claude-3-opus-20240229 --format code\n",
    "\n",
    "Given the schema in these files: \n",
    "\n",
    "```\n",
    "{mimic_iii_schema.stdout}\n",
    "```\n",
    "\n",
    "Proceed to create simple interactive figures using the vega-altair library in python. Use best practices for the visual display of information, such as those from Tufte.\n",
    "\n",
    "Don't forget to load the parquet file first to ensure the python variables are available for altair :) and proceed step-by-step.\n",
    "\n",
    "Your work output will be used for downstream analytics such as cohort selection and clinical trials paptient population matching and a *variety* of other use cases in biomedical informatics and life sciences.\n",
    "\n",
    "Also remember to avoid this error: \n",
    "\n",
    "```\n",
    "MaxRowsError: The number of rows in your dataset is greater than the maximum allowed (5000).\n",
    "\n",
    "Try enabling the VegaFusion data transformer which raises this limit by pre-evaluating data\n",
    "transformations in Python.\n",
    "    >> import altair as alt\n",
    "    >> alt.data_transformers.enable(\"vegafusion\")\n",
    "```\n",
    "\n",
    "Only use the following variables:\n",
    "\n",
    "```\n",
    "ADMISSION_TYPE\n",
    "GENDER\n",
    "LOS\n",
    "```\n",
    "\n",
    "Alongside their human readable descriptions in the axes labels.\n",
    "\n",
    "Bucket the length of stay into entire days; perhaps a histogram will suffice or some other standard way of showing such a business intelligence dashboard.\n",
    "\n",
    "Alongside any others you might need to link the data in MIMIC-III :)"
   ]
  },
  {
   "cell_type": "code",
   "execution_count": 186,
   "metadata": {},
   "outputs": [
    {
     "data": {
      "text/html": [
       "\n",
       "<style>\n",
       "  #altair-viz-b205935849cf4b43b8f0509d7e8683ae.vega-embed {\n",
       "    width: 100%;\n",
       "    display: flex;\n",
       "  }\n",
       "\n",
       "  #altair-viz-b205935849cf4b43b8f0509d7e8683ae.vega-embed details,\n",
       "  #altair-viz-b205935849cf4b43b8f0509d7e8683ae.vega-embed details summary {\n",
       "    position: relative;\n",
       "  }\n",
       "</style>\n",
       "<div id=\"altair-viz-b205935849cf4b43b8f0509d7e8683ae\"></div>\n",
       "<script type=\"text/javascript\">\n",
       "  var VEGA_DEBUG = (typeof VEGA_DEBUG == \"undefined\") ? {} : VEGA_DEBUG;\n",
       "  (function(spec, embedOpt){\n",
       "    let outputDiv = document.currentScript.previousElementSibling;\n",
       "    if (outputDiv.id !== \"altair-viz-b205935849cf4b43b8f0509d7e8683ae\") {\n",
       "      outputDiv = document.getElementById(\"altair-viz-b205935849cf4b43b8f0509d7e8683ae\");\n",
       "    }\n",
       "    const paths = {\n",
       "      \"vega\": \"https://cdn.jsdelivr.net/npm/vega@5?noext\",\n",
       "      \"vega-lib\": \"https://cdn.jsdelivr.net/npm/vega-lib?noext\",\n",
       "      \"vega-lite\": \"https://cdn.jsdelivr.net/npm/vega-lite@5.17.0?noext\",\n",
       "      \"vega-embed\": \"https://cdn.jsdelivr.net/npm/vega-embed@6?noext\",\n",
       "    };\n",
       "\n",
       "    function maybeLoadScript(lib, version) {\n",
       "      var key = `${lib.replace(\"-\", \"\")}_version`;\n",
       "      return (VEGA_DEBUG[key] == version) ?\n",
       "        Promise.resolve(paths[lib]) :\n",
       "        new Promise(function(resolve, reject) {\n",
       "          var s = document.createElement('script');\n",
       "          document.getElementsByTagName(\"head\")[0].appendChild(s);\n",
       "          s.async = true;\n",
       "          s.onload = () => {\n",
       "            VEGA_DEBUG[key] = version;\n",
       "            return resolve(paths[lib]);\n",
       "          };\n",
       "          s.onerror = () => reject(`Error loading script: ${paths[lib]}`);\n",
       "          s.src = paths[lib];\n",
       "        });\n",
       "    }\n",
       "\n",
       "    function showError(err) {\n",
       "      outputDiv.innerHTML = `<div class=\"error\" style=\"color:red;\">${err}</div>`;\n",
       "      throw err;\n",
       "    }\n",
       "\n",
       "    function displayChart(vegaEmbed) {\n",
       "      vegaEmbed(outputDiv, spec, embedOpt)\n",
       "        .catch(err => showError(`Javascript Error: ${err.message}<br>This usually means there's a typo in your chart specification. See the javascript console for the full traceback.`));\n",
       "    }\n",
       "\n",
       "    if(typeof define === \"function\" && define.amd) {\n",
       "      requirejs.config({paths});\n",
       "      require([\"vega-embed\"], displayChart, err => showError(`Error loading script: ${err.message}`));\n",
       "    } else {\n",
       "      maybeLoadScript(\"vega\", \"5\")\n",
       "        .then(() => maybeLoadScript(\"vega-lite\", \"5.17.0\"))\n",
       "        .then(() => maybeLoadScript(\"vega-embed\", \"6\"))\n",
       "        .catch(showError)\n",
       "        .then(() => displayChart(vegaEmbed));\n",
       "    }\n",
       "  })({\"$schema\": \"https://vega.github.io/schema/vega/v5.json\", \"data\": [{\"name\": \"source_0\"}, {\"name\": \"data_0\", \"values\": [{\"ADMISSION_TYPE\": \"EMERGENCY\", \"__count\": 43429, \"__count_end\": 51502.0, \"__count_start\": 8073.0, \"bin_maxbins_10_LOS\": 0.0, \"bin_maxbins_10_LOS_end\": 20.0}, {\"ADMISSION_TYPE\": \"ELECTIVE\", \"__count\": 7283, \"__count_end\": 58785.0, \"__count_start\": 51502.0, \"bin_maxbins_10_LOS\": 0.0, \"bin_maxbins_10_LOS_end\": 20.0}, {\"ADMISSION_TYPE\": \"NEWBORN\", \"__count\": 6732, \"__count_end\": 8073.0, \"__count_start\": 1341.0, \"bin_maxbins_10_LOS\": 0.0, \"bin_maxbins_10_LOS_end\": 20.0}, {\"ADMISSION_TYPE\": \"URGENT\", \"__count\": 1341, \"__count_end\": 1341.0, \"__count_start\": 0.0, \"bin_maxbins_10_LOS\": 0.0, \"bin_maxbins_10_LOS_end\": 20.0}, {\"ADMISSION_TYPE\": \"EMERGENCY\", \"__count\": 1128, \"__count_end\": 1729.0, \"__count_start\": 601.0, \"bin_maxbins_10_LOS\": 20.0, \"bin_maxbins_10_LOS_end\": 40.0}, {\"ADMISSION_TYPE\": \"EMERGENCY\", \"__count\": 171, \"__count_end\": 457.0, \"__count_start\": 286.0, \"bin_maxbins_10_LOS\": 40.0, \"bin_maxbins_10_LOS_end\": 60.0}, {\"ADMISSION_TYPE\": \"NEWBORN\", \"__count\": 272, \"__count_end\": 286.0, \"__count_start\": 14.0, \"bin_maxbins_10_LOS\": 40.0, \"bin_maxbins_10_LOS_end\": 60.0}, {\"ADMISSION_TYPE\": \"NEWBORN\", \"__count\": 100, \"__count_end\": 101.0, \"__count_start\": 1.0, \"bin_maxbins_10_LOS\": 80.0, \"bin_maxbins_10_LOS_end\": 100.0}, {\"ADMISSION_TYPE\": \"NEWBORN\", \"__count\": 543, \"__count_end\": 601.0, \"__count_start\": 58.0, \"bin_maxbins_10_LOS\": 20.0, \"bin_maxbins_10_LOS_end\": 40.0}, {\"ADMISSION_TYPE\": \"NEWBORN\", \"__count\": 140, \"__count_end\": 143.0, \"__count_start\": 3.0, \"bin_maxbins_10_LOS\": 60.0, \"bin_maxbins_10_LOS_end\": 80.0}, {\"ADMISSION_TYPE\": \"URGENT\", \"__count\": 58, \"__count_end\": 58.0, \"__count_start\": 0.0, \"bin_maxbins_10_LOS\": 20.0, \"bin_maxbins_10_LOS_end\": 40.0}, {\"ADMISSION_TYPE\": \"ELECTIVE\", \"__count\": 133, \"__count_end\": 1862.0, \"__count_start\": 1729.0, \"bin_maxbins_10_LOS\": 20.0, \"bin_maxbins_10_LOS_end\": 40.0}, {\"ADMISSION_TYPE\": \"URGENT\", \"__count\": 14, \"__count_end\": 14.0, \"__count_start\": 0.0, \"bin_maxbins_10_LOS\": 40.0, \"bin_maxbins_10_LOS_end\": 60.0}, {\"ADMISSION_TYPE\": \"NEWBORN\", \"__count\": 47, \"__count_end\": 47.0, \"__count_start\": 0.0, \"bin_maxbins_10_LOS\": 100.0, \"bin_maxbins_10_LOS_end\": 120.0}, {\"ADMISSION_TYPE\": \"EMERGENCY\", \"__count\": 8, \"__count_end\": 109.0, \"__count_start\": 101.0, \"bin_maxbins_10_LOS\": 80.0, \"bin_maxbins_10_LOS_end\": 100.0}, {\"ADMISSION_TYPE\": \"NEWBORN\", \"__count\": 10, \"__count_end\": 10.0, \"__count_start\": 0.0, \"bin_maxbins_10_LOS\": 140.0, \"bin_maxbins_10_LOS_end\": 160.0}, {\"ADMISSION_TYPE\": \"EMERGENCY\", \"__count\": 34, \"__count_end\": 177.0, \"__count_start\": 143.0, \"bin_maxbins_10_LOS\": 60.0, \"bin_maxbins_10_LOS_end\": 80.0}, {\"ADMISSION_TYPE\": \"ELECTIVE\", \"__count\": 27, \"__count_end\": 484.0, \"__count_start\": 457.0, \"bin_maxbins_10_LOS\": 40.0, \"bin_maxbins_10_LOS_end\": 60.0}, {\"ADMISSION_TYPE\": \"NEWBORN\", \"__count\": 25, \"__count_end\": 25.0, \"__count_start\": 0.0, \"bin_maxbins_10_LOS\": 120.0, \"bin_maxbins_10_LOS_end\": 140.0}, {\"ADMISSION_TYPE\": \"URGENT\", \"__count\": 3, \"__count_end\": 3.0, \"__count_start\": 0.0, \"bin_maxbins_10_LOS\": 60.0, \"bin_maxbins_10_LOS_end\": 80.0}, {\"ADMISSION_TYPE\": \"ELECTIVE\", \"__count\": 4, \"__count_end\": 113.0, \"__count_start\": 109.0, \"bin_maxbins_10_LOS\": 80.0, \"bin_maxbins_10_LOS_end\": 100.0}, {\"ADMISSION_TYPE\": \"EMERGENCY\", \"__count\": 8, \"__count_end\": 55.0, \"__count_start\": 47.0, \"bin_maxbins_10_LOS\": 100.0, \"bin_maxbins_10_LOS_end\": 120.0}, {\"ADMISSION_TYPE\": \"URGENT\", \"__count\": 1, \"__count_end\": 1.0, \"__count_start\": 0.0, \"bin_maxbins_10_LOS\": 80.0, \"bin_maxbins_10_LOS_end\": 100.0}, {\"ADMISSION_TYPE\": \"EMERGENCY\", \"__count\": 1, \"__count_end\": 11.0, \"__count_start\": 10.0, \"bin_maxbins_10_LOS\": 140.0, \"bin_maxbins_10_LOS_end\": 160.0}, {\"ADMISSION_TYPE\": \"NEWBORN\", \"__count\": 2, \"__count_end\": 2.0, \"__count_start\": 0.0, \"bin_maxbins_10_LOS\": 160.0, \"bin_maxbins_10_LOS_end\": 180.0}, {\"ADMISSION_TYPE\": \"ELECTIVE\", \"__count\": 1, \"__count_end\": 4.0, \"__count_start\": 3.0, \"bin_maxbins_10_LOS\": 160.0, \"bin_maxbins_10_LOS_end\": 180.0}, {\"ADMISSION_TYPE\": \"ELECTIVE\", \"__count\": 5, \"__count_end\": 182.0, \"__count_start\": 177.0, \"bin_maxbins_10_LOS\": 60.0, \"bin_maxbins_10_LOS_end\": 80.0}, {\"ADMISSION_TYPE\": \"EMERGENCY\", \"__count\": 1, \"__count_end\": 26.0, \"__count_start\": 25.0, \"bin_maxbins_10_LOS\": 120.0, \"bin_maxbins_10_LOS_end\": 140.0}, {\"ADMISSION_TYPE\": \"EMERGENCY\", \"__count\": 1, \"__count_end\": 3.0, \"__count_start\": 2.0, \"bin_maxbins_10_LOS\": 160.0, \"bin_maxbins_10_LOS_end\": 180.0}]}, {\"name\": \"data_1\", \"values\": [{\"ADMISSION_TYPE\": \"EMERGENCY\", \"GENDER\": \"F\", \"__count\": 19782, \"__count_end\": 44782.0, \"__count_start\": 25000.0}, {\"ADMISSION_TYPE\": \"ELECTIVE\", \"GENDER\": \"M\", \"__count\": 4432, \"__count_end\": 4432.0, \"__count_start\": 0.0}, {\"ADMISSION_TYPE\": \"EMERGENCY\", \"GENDER\": \"M\", \"__count\": 25000, \"__count_end\": 25000.0, \"__count_start\": 0.0}, {\"ADMISSION_TYPE\": \"NEWBORN\", \"GENDER\": \"F\", \"__count\": 3623, \"__count_end\": 7878.0, \"__count_start\": 4255.0}, {\"ADMISSION_TYPE\": \"URGENT\", \"GENDER\": \"M\", \"__count\": 782, \"__count_end\": 782.0, \"__count_start\": 0.0}, {\"ADMISSION_TYPE\": \"ELECTIVE\", \"GENDER\": \"F\", \"__count\": 3021, \"__count_end\": 7453.0, \"__count_start\": 4432.0}, {\"ADMISSION_TYPE\": \"NEWBORN\", \"GENDER\": \"M\", \"__count\": 4255, \"__count_end\": 4255.0, \"__count_start\": 0.0}, {\"ADMISSION_TYPE\": \"URGENT\", \"GENDER\": \"F\", \"__count\": 637, \"__count_end\": 1419.0, \"__count_start\": 782.0}]}, {\"name\": \"data_0_color_domain_ADMISSION_TYPE_0\", \"values\": [{\"ADMISSION_TYPE\": \"EMERGENCY\"}, {\"ADMISSION_TYPE\": \"ELECTIVE\"}, {\"ADMISSION_TYPE\": \"NEWBORN\"}, {\"ADMISSION_TYPE\": \"URGENT\"}]}, {\"name\": \"data_1_color_domain_GENDER_1\", \"values\": [{\"GENDER\": \"F\"}, {\"GENDER\": \"M\"}]}, {\"name\": \"data_1_concat_1_x_domain_ADMISSION_TYPE\", \"values\": [{\"ADMISSION_TYPE\": \"EMERGENCY\"}, {\"ADMISSION_TYPE\": \"ELECTIVE\"}, {\"ADMISSION_TYPE\": \"NEWBORN\"}, {\"ADMISSION_TYPE\": \"URGENT\"}]}], \"signals\": [{\"name\": \"concat_0_bin_maxbins_10_LOS_bins\", \"value\": {\"fields\": [\"LOS\"], \"fname\": \"bin_LOS\", \"start\": 0.0, \"step\": 20.0, \"stop\": 180.0}}, {\"name\": \"concat_0_width\", \"value\": 600}, {\"name\": \"concat_0_height\", \"value\": 400}, {\"name\": \"concat_1_width\", \"value\": 400}, {\"name\": \"concat_1_height\", \"value\": 300}], \"marks\": [{\"type\": \"group\", \"name\": \"concat_0_group\", \"encode\": {\"update\": {\"height\": {\"signal\": \"concat_0_height\"}, \"width\": {\"signal\": \"concat_0_width\"}}}, \"marks\": [{\"type\": \"rect\", \"name\": \"concat_0_marks\", \"from\": {\"data\": \"data_0\"}, \"encode\": {\"update\": {\"x2\": {\"field\": \"bin_maxbins_10_LOS\", \"scale\": \"concat_0_x\", \"offset\": {\"signal\": \"0.5 + (abs(scale(\\\"concat_0_x\\\", datum[\\\"bin_maxbins_10_LOS_end\\\"]) - scale(\\\"concat_0_x\\\", datum[\\\"bin_maxbins_10_LOS\\\"])) < 0.25 ? -0.5 * (0.25 - (abs(scale(\\\"concat_0_x\\\", datum[\\\"bin_maxbins_10_LOS_end\\\"]) - scale(\\\"concat_0_x\\\", datum[\\\"bin_maxbins_10_LOS\\\"])))) : 0.5)\"}}, \"fill\": {\"field\": \"ADMISSION_TYPE\", \"scale\": \"color\"}, \"x\": {\"field\": \"bin_maxbins_10_LOS_end\", \"scale\": \"concat_0_x\", \"offset\": {\"signal\": \"0.5 + (abs(scale(\\\"concat_0_x\\\", datum[\\\"bin_maxbins_10_LOS_end\\\"]) - scale(\\\"concat_0_x\\\", datum[\\\"bin_maxbins_10_LOS\\\"])) < 0.25 ? 0.5 * (0.25 - (abs(scale(\\\"concat_0_x\\\", datum[\\\"bin_maxbins_10_LOS_end\\\"]) - scale(\\\"concat_0_x\\\", datum[\\\"bin_maxbins_10_LOS\\\"])))) : -0.5)\"}}, \"y2\": {\"field\": \"__count_start\", \"scale\": \"concat_0_y\"}, \"tooltip\": {\"signal\": \"{\\\"Count of Records\\\": format(datum[\\\"__count\\\"], \\\"\\\")}\"}, \"y\": {\"field\": \"__count_end\", \"scale\": \"concat_0_y\"}}}, \"style\": [\"bar\"]}], \"axes\": [{\"scale\": \"concat_0_y\", \"orient\": \"left\", \"tickCount\": {\"signal\": \"ceil(concat_0_height/40)\"}, \"labels\": false, \"domain\": false, \"grid\": true, \"minExtent\": 0, \"aria\": false, \"maxExtent\": 0, \"ticks\": false, \"zindex\": 0, \"gridScale\": \"concat_0_x\"}, {\"scale\": \"concat_0_x\", \"labelFlush\": true, \"labelOverlap\": true, \"tickCount\": {\"signal\": \"ceil(concat_0_width/10)\"}, \"zindex\": 0, \"title\": \"Length of Stay (days)\", \"orient\": \"bottom\", \"grid\": false}, {\"scale\": \"concat_0_y\", \"orient\": \"left\", \"grid\": false, \"title\": \"Count of Records\", \"tickCount\": {\"signal\": \"ceil(concat_0_height/40)\"}, \"zindex\": 0, \"labelOverlap\": true}], \"title\": {\"text\": \"Distribution of Length of Stay by Admission Type\", \"frame\": \"group\"}, \"style\": \"cell\"}, {\"type\": \"group\", \"name\": \"concat_1_group\", \"encode\": {\"update\": {\"height\": {\"signal\": \"concat_1_height\"}, \"width\": {\"signal\": \"concat_1_width\"}}}, \"marks\": [{\"type\": \"rect\", \"name\": \"concat_1_marks\", \"from\": {\"data\": \"data_1\"}, \"encode\": {\"update\": {\"y\": {\"field\": \"__count_end\", \"scale\": \"concat_1_y\"}, \"x\": {\"field\": \"ADMISSION_TYPE\", \"scale\": \"concat_1_x\"}, \"tooltip\": {\"signal\": \"{\\\"Count of Records\\\": format(datum[\\\"__count\\\"], \\\"\\\")}\"}, \"width\": {\"signal\": \"max(0.25, bandwidth('concat_1_x'))\"}, \"y2\": {\"field\": \"__count_start\", \"scale\": \"concat_1_y\"}, \"fill\": {\"field\": \"GENDER\", \"scale\": \"color\"}}}, \"style\": [\"bar\"]}], \"axes\": [{\"scale\": \"concat_1_y\", \"grid\": true, \"domain\": false, \"labels\": false, \"gridScale\": \"concat_1_x\", \"maxExtent\": 0, \"ticks\": false, \"orient\": \"left\", \"tickCount\": {\"signal\": \"ceil(concat_1_height/40)\"}, \"zindex\": 0, \"aria\": false, \"minExtent\": 0}, {\"scale\": \"concat_1_x\", \"grid\": false, \"title\": \"Admission Type\", \"labelBaseline\": \"middle\", \"labelAngle\": 270, \"zindex\": 0, \"orient\": \"bottom\", \"labelAlign\": \"right\"}, {\"scale\": \"concat_1_y\", \"tickCount\": {\"signal\": \"ceil(concat_1_height/40)\"}, \"orient\": \"left\", \"labelOverlap\": true, \"grid\": false, \"title\": \"Count\", \"zindex\": 0}], \"title\": {\"text\": \"Admission Type by Gender\", \"frame\": \"group\"}, \"style\": \"cell\"}], \"scales\": [{\"name\": \"color\", \"type\": \"ordinal\", \"domain\": {\"fields\": [{\"data\": \"data_0_color_domain_ADMISSION_TYPE_0\", \"field\": \"ADMISSION_TYPE\"}, {\"data\": \"data_1_color_domain_GENDER_1\", \"field\": \"GENDER\"}], \"sort\": true}, \"range\": \"category\"}, {\"name\": \"concat_0_x\", \"type\": \"linear\", \"domain\": {\"signal\": \"[concat_0_bin_maxbins_10_LOS_bins.start, concat_0_bin_maxbins_10_LOS_bins.stop]\"}, \"range\": [0, {\"signal\": \"concat_0_width\"}], \"bins\": {\"signal\": \"concat_0_bin_maxbins_10_LOS_bins\"}, \"zero\": false}, {\"name\": \"concat_0_y\", \"type\": \"linear\", \"domain\": {\"data\": \"data_0\", \"fields\": [\"__count_start\", \"__count_end\"]}, \"range\": [{\"signal\": \"concat_0_height\"}, 0], \"nice\": true, \"zero\": true}, {\"name\": \"concat_1_x\", \"type\": \"band\", \"domain\": {\"data\": \"data_1_concat_1_x_domain_ADMISSION_TYPE\", \"field\": \"ADMISSION_TYPE\", \"sort\": true}, \"range\": [0, {\"signal\": \"concat_1_width\"}], \"paddingInner\": 0.1, \"paddingOuter\": 0.05}, {\"name\": \"concat_1_y\", \"type\": \"linear\", \"domain\": {\"data\": \"data_1\", \"fields\": [\"__count_start\", \"__count_end\"]}, \"range\": [{\"signal\": \"concat_1_height\"}, 0], \"zero\": true, \"nice\": true}], \"legends\": [{\"title\": \"Admission Type, Gender\", \"fill\": \"color\", \"symbolType\": \"square\"}], \"padding\": 5, \"layout\": {\"padding\": 20, \"columns\": 1, \"bounds\": \"full\", \"align\": \"each\"}, \"background\": \"white\"}, {\"mode\": \"vega\"});\n",
       "</script>"
      ],
      "text/plain": [
       "alt.VConcatChart(...)"
      ]
     },
     "execution_count": 186,
     "metadata": {},
     "output_type": "execute_result"
    }
   ],
   "source": [
    "import altair as alt\n",
    "import pandas as pd\n",
    "\n",
    "# Enable VegaFusion\n",
    "alt.data_transformers.enable(\"vegafusion\")\n",
    "\n",
    "# Load the parquet files into DataFrames\n",
    "df_admissions = pd.read_parquet('admissions.parquet')\n",
    "df_patients = pd.read_parquet('patients.parquet')\n",
    "df_icustays = pd.read_parquet('icustays.parquet')\n",
    "\n",
    "# Join the DataFrames\n",
    "df = pd.merge(df_admissions, df_patients, on='SUBJECT_ID')\n",
    "df = pd.merge(df, df_icustays, on=['SUBJECT_ID', 'HADM_ID'])\n",
    "\n",
    "# Create a histogram of length of stay\n",
    "los_hist = alt.Chart(df).mark_bar().encode(\n",
    "    alt.X(\"LOS:Q\", bin=True, title='Length of Stay (days)'),\n",
    "    y='count()',\n",
    "    color=alt.Color('ADMISSION_TYPE:N', title='Admission Type'),\n",
    "    tooltip=['count()']\n",
    ").properties(\n",
    "    width=600,\n",
    "    height=400,\n",
    "    title='Distribution of Length of Stay by Admission Type'\n",
    ")\n",
    "\n",
    "# Create a bar chart of admission type by gender\n",
    "adm_gender_bar = alt.Chart(df).mark_bar().encode(\n",
    "    x=alt.X('ADMISSION_TYPE:N', title='Admission Type'),\n",
    "    y=alt.Y('count()', title='Count'),\n",
    "    color=alt.Color('GENDER:N', title='Gender'),\n",
    "    tooltip=['count()']\n",
    ").properties(\n",
    "    width=400,\n",
    "    height=300,\n",
    "    title='Admission Type by Gender'\n",
    ")\n",
    "\n",
    "# Combine the charts\n",
    "dashboard = alt.vconcat(los_hist, adm_gender_bar)\n",
    "\n",
    "# Display the dashboard\n",
    "dashboard"
   ]
  }
 ],
 "metadata": {
  "kernelspec": {
   "display_name": "Python 3 (ipykernel)",
   "language": "python",
   "name": "python3"
  },
  "language_info": {
   "codemirror_mode": {
    "name": "ipython",
    "version": 3
   },
   "file_extension": ".py",
   "mimetype": "text/x-python",
   "name": "python",
   "nbconvert_exporter": "python",
   "pygments_lexer": "ipython3",
   "version": "3.9.6"
  }
 },
 "nbformat": 4,
 "nbformat_minor": 4
}
