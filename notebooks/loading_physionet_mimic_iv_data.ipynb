{
 "cells": [
  {
   "cell_type": "markdown",
   "metadata": {},
   "source": [
    "# Loading MIMIC IV data for downstream tasks and analysis in biomedical informatics, clinical research, and health AI\n",
    "\n",
    "Steps:\n",
    "\n",
    "1. Download https://physionet.org/content/mimiciii/1.4/ and https://physionet.org/content/mimiciv/2.2/ by creating a Physionet account, completing the training, and signing the data use agremeent (which includes provisions such as `The LICENSEE agrees to contribute code associated with publications arising from this data to a repository that is open to the research community.`)\n",
    "\n",
    "2. Parse the header of each file and use the header information as context for a large language model to write the SQL scripts in DuckDB dialect. \n",
    "3. Make another LLM call and use the SQL query prototyped in this notebook as the basis for a dbt model, one per file.  "
   ]
  },
  {
   "cell_type": "markdown",
   "metadata": {},
   "source": [
    "## Extract downloaded archives"
   ]
  },
  {
   "cell_type": "code",
   "execution_count": 5,
   "metadata": {},
   "outputs": [
    {
     "name": "stdout",
     "output_type": "stream",
     "text": [
      "CHANGELOG.txt   LICENSE.txt     SHA256SUMS.txt  \u001b[34mhosp\u001b[m\u001b[m/           \u001b[34micu\u001b[m\u001b[m/\n"
     ]
    }
   ],
   "source": [
    "!ls ~/data/mimic/mimic-iv-2.2/"
   ]
  },
  {
   "cell_type": "code",
   "execution_count": 6,
   "metadata": {},
   "outputs": [],
   "source": [
    "%%capture folder_structure\n",
    "!tree ~/data/mimic/mimic-iv-2.2/"
   ]
  },
  {
   "cell_type": "markdown",
   "metadata": {},
   "source": [
    "# First load MIMIC-IV data"
   ]
  },
  {
   "cell_type": "code",
   "execution_count": 5,
   "metadata": {},
   "outputs": [],
   "source": [
    "%%capture mimic_iv_structure\n",
    "import seedir as sd\n",
    "mimic_iv_path = '~/data/mimic/mimic-iv-2.2/'\n",
    "sd.seedir(mimic_iv_path, style='lines', depthlimit=2, exclude_folders=['.git', '.ipynb_checkpoints'])"
   ]
  },
  {
   "cell_type": "code",
   "execution_count": 6,
   "metadata": {},
   "outputs": [
    {
     "name": "stdout",
     "output_type": "stream",
     "text": [
      "mimic-iv-2.2/\n",
      "├─diagnoses_icd.parquet\n",
      "├─chartevents.parquet\n",
      "├─ingredientevents.parquet\n",
      "├─d_labitems.parquet\n",
      "├─admissions.parquet\n",
      "├─provider.parquet\n",
      "├─transfers.parquet\n",
      "├─icu_icustays.parquet\n",
      "├─datetimeevents.parquet\n",
      "├─patients.parquet\n",
      "├─procedures_icd.parquet\n",
      "├─omr.parquet\n",
      "├─emar.parquet\n",
      "├─services.parquet\n",
      "├─d_hcpcs.parquet\n",
      "├─microbiologyevents.parquet\n",
      "├─emar_detail.parquet\n",
      "├─hcpcsevents.parquet\n",
      "├─d_items.parquet\n",
      "├─labevents.parquet\n",
      "├─hosp_poe.parquet\n",
      "├─pharmacy.parquet\n",
      "├─hosp/\n",
      "│ ├─poe.csv.gz\n",
      "│ ├─d_hcpcs.csv.gz\n",
      "│ ├─poe_detail.csv.gz\n",
      "│ ├─patients.csv.gz\n",
      "│ ├─diagnoses_icd.csv.gz\n",
      "│ ├─emar_detail.csv.gz\n",
      "│ ├─provider.csv.gz\n",
      "│ ├─prescriptions.csv.gz\n",
      "│ ├─drgcodes.csv.gz\n",
      "│ ├─d_icd_diagnoses.csv.gz\n",
      "│ ├─d_labitems.csv.gz\n",
      "│ ├─transfers.csv.gz\n",
      "│ ├─admissions.csv.gz\n",
      "│ ├─labevents.csv.gz\n",
      "│ ├─pharmacy.csv.gz\n",
      "│ ├─procedures_icd.csv.gz\n",
      "│ ├─hcpcsevents.csv.gz\n",
      "│ ├─services.csv.gz\n",
      "│ ├─d_icd_procedures.csv.gz\n",
      "│ ├─omr.csv.gz\n",
      "│ ├─emar.csv.gz\n",
      "│ └─microbiologyevents.csv.gz\n",
      "├─inputevents.parquet\n",
      "├─drgcodes.parquet\n",
      "├─procedureevents.parquet\n",
      "├─prescriptions.parquet\n",
      "├─CHANGELOG.txt\n",
      "├─d_icd_procedures.parquet\n",
      "├─.tmp/\n",
      "│ ├─duckdb_temp_storage-1.tmp\n",
      "│ ├─duckdb_temp_storage-0.tmp\n",
      "│ ├─duckdb_temp_storage-2.tmp\n",
      "│ ├─duckdb_temp_storage-3.tmp\n",
      "│ ├─duckdb_temp_storage-6.tmp\n",
      "│ ├─duckdb_temp_storage-4.tmp\n",
      "│ └─duckdb_temp_storage-5.tmp\n",
      "├─LICENSE.txt\n",
      "├─outputevents.parquet\n",
      "├─d_icd_diagnoses.parquet\n",
      "├─caregiver.parquet\n",
      "├─SHA256SUMS.txt\n",
      "├─poe_detail.parquet\n",
      "└─icu/\n",
      "  ├─datetimeevents.csv.gz\n",
      "  ├─caregiver.csv.gz\n",
      "  ├─ingredientevents.csv.gz\n",
      "  ├─inputevents.csv.gz\n",
      "  ├─procedureevents.csv.gz\n",
      "  ├─d_items.csv.gz\n",
      "  ├─chartevents.csv.gz\n",
      "  ├─icustays.csv.gz\n",
      "  └─outputevents.csv.gz\n",
      "\n"
     ]
    }
   ],
   "source": [
    "print(mimic_iv_structure.stdout)"
   ]
  },
  {
   "cell_type": "code",
   "execution_count": 10,
   "metadata": {},
   "outputs": [],
   "source": [
    "%%capture code_folder_structure\n",
    "sd.seedir('~/projects/electronic-health-records-analysis', style='lines', itemlimit=10, depthlimit=2, exclude_folders=['.git', '.ipynb_checkpoints'])"
   ]
  },
  {
   "cell_type": "code",
   "execution_count": 11,
   "metadata": {},
   "outputs": [
    {
     "name": "stdout",
     "output_type": "stream",
     "text": [
      "electronic-health-records-analysis/\n",
      "├─.DS_Store\n",
      "├─LICENSE\n",
      "├─requirements.txt\n",
      "├─data_processing/\n",
      "│ ├─snapshots/\n",
      "│ ├─tests/\n",
      "│ ├─models/\n",
      "│ ├─README.md\n",
      "│ ├─macros/\n",
      "│ ├─.gitignore\n",
      "│ ├─seeds/\n",
      "│ ├─analyses/\n",
      "│ └─dbt_project.yml\n",
      "├─README.md\n",
      "├─logs/\n",
      "│ └─dbt.log\n",
      "├─.gitignore\n",
      "├─.venv/\n",
      "│ ├─bin/\n",
      "│ ├─include/\n",
      "│ ├─etc/\n",
      "│ ├─pyvenv.cfg\n",
      "│ ├─lib/\n",
      "│ └─share/\n",
      "├─notebooks/\n",
      "│ ├─loading_physionet_mimic_iv_data.ipynb\n",
      "│ └─loading_physionet_mimic_iii_data.ipynb\n",
      "└─requirements.in\n",
      "\n"
     ]
    }
   ],
   "source": [
    "print(code_folder_structure.stdout)"
   ]
  },
  {
   "cell_type": "markdown",
   "metadata": {},
   "source": [
    "## Get header of each file and use it as context for a large language model to write the SQL scripts in DuckDB dialect to load the MIMIC data into a database that can be saved to a parquet file\n",
    "\n",
    "You may need to follow this readme first: https://colab.research.google.com/github/jaanli/language-model-notebooks/blob/main/notebooks/getting-started.ipynb"
   ]
  },
  {
   "cell_type": "code",
   "execution_count": 1,
   "metadata": {},
   "outputs": [
    {
     "name": "stderr",
     "output_type": "stream",
     "text": [
      "/Users/me/projects/electronic-health-records-analysis/.venv/lib/python3.9/site-packages/sql/traits.py:20: FutureWarning: named_parameters: boolean values are now deprecated. Value True will be treated as \"enabled\". \n",
      "Please use a valid option: \"warn\", \"enabled\", or \"disabled\". \n",
      "For more information, see the docs: https://jupysql.ploomber.io/en/latest/api/configuration.html#named-parameters\n",
      "  warnings.warn(\n"
     ]
    }
   ],
   "source": [
    "# Load duckdb, which lets us efficiently load large files\n",
    "import duckdb\n",
    "\n",
    "# Load pandas, which lets us manipulate dataframes\n",
    "import pandas as pd\n",
    "\n",
    "# Import jupysql Jupyter extension to create SQL cells\n",
    "%load_ext sql\n",
    "\n",
    "# Set configrations on jupysql to directly output data to Pandas and to simplify the output that is printed to the notebook.\n",
    "%config SqlMagic.autopandas = True\n",
    "\n",
    "%config SqlMagic.feedback = False\n",
    "%config SqlMagic.displaycon = False\n",
    "\n",
    "# Allow named parameters (python variables) in SQL cells\n",
    "%config SqlMagic.named_parameters=True\n",
    "\n",
    "# Connect jupysql to DuckDB using a SQLAlchemy-style connection string. Either connect to an in memory DuckDB, or a file backed db.\n",
    "%sql duckdb:///:memory:"
   ]
  },
  {
   "cell_type": "code",
   "execution_count": 2,
   "metadata": {},
   "outputs": [],
   "source": [
    "%load_ext jupyter_ai"
   ]
  },
  {
   "cell_type": "code",
   "execution_count": 3,
   "metadata": {},
   "outputs": [],
   "source": [
    "%load_ext dotenv"
   ]
  },
  {
   "cell_type": "code",
   "execution_count": 4,
   "metadata": {},
   "outputs": [],
   "source": [
    "%dotenv"
   ]
  },
  {
   "cell_type": "code",
   "execution_count": 5,
   "metadata": {},
   "outputs": [],
   "source": [
    "url = \"https://raw.githubusercontent.com/MIT-LCP/mimic-code/main/mimic-iv/buildmimic/mysql/load.sql\""
   ]
  },
  {
   "cell_type": "code",
   "execution_count": 6,
   "metadata": {},
   "outputs": [],
   "source": [
    "%%capture path_to_mimic\n",
    "\n",
    "!readlink -f ~/data/mimic/mimic-iv-2.2/"
   ]
  },
  {
   "cell_type": "code",
   "execution_count": 7,
   "metadata": {},
   "outputs": [
    {
     "data": {
      "text/plain": [
       "'/Users/me/data/mimic/mimic-iv-2.2\\r\\n'"
      ]
     },
     "execution_count": 7,
     "metadata": {},
     "output_type": "execute_result"
    }
   ],
   "source": [
    "path_to_mimic.stdout"
   ]
  },
  {
   "cell_type": "code",
   "execution_count": 21,
   "metadata": {},
   "outputs": [],
   "source": [
    "%%capture example_contents\n",
    "\n",
    "!curl {url}"
   ]
  },
  {
   "cell_type": "code",
   "execution_count": 22,
   "metadata": {},
   "outputs": [],
   "source": [
    "%%capture example_name\n",
    "\n",
    "!basename {url}"
   ]
  },
  {
   "cell_type": "code",
   "execution_count": 23,
   "metadata": {},
   "outputs": [
    {
     "name": "stdout",
     "output_type": "stream",
     "text": [
      "load.sql\n",
      "\n",
      "-- csv2mysql with arguments:\n",
      "--   -o\n",
      "--   1-load-no-keys.sql\n",
      "--   -e\n",
      "--   \n",
      "--   -u\n",
      "--   -z\n",
      "--\n"
     ]
    }
   ],
   "source": [
    "print(example_name)\n",
    "print(example_contents.stdout[:100])"
   ]
  },
  {
   "cell_type": "code",
   "execution_count": 24,
   "metadata": {},
   "outputs": [
    {
     "name": "stdout",
     "output_type": "stream",
     "text": [
      "/Users/me/projects/electronic-health-records-analysis/notebooks\n"
     ]
    }
   ],
   "source": [
    "!pwd"
   ]
  },
  {
   "cell_type": "code",
   "execution_count": 7,
   "metadata": {},
   "outputs": [],
   "source": [
    "!cd {mimic_iv_path}"
   ]
  },
  {
   "cell_type": "code",
   "execution_count": 8,
   "metadata": {},
   "outputs": [],
   "source": [
    "import os\n",
    "os.chdir(os.path.expanduser(mimic_iv_path))"
   ]
  },
  {
   "cell_type": "code",
   "execution_count": 9,
   "metadata": {},
   "outputs": [
    {
     "name": "stdout",
     "output_type": "stream",
     "text": [
      "/Users/me/data/mimic/mimic-iv-2.2\n"
     ]
    }
   ],
   "source": [
    "!pwd"
   ]
  },
  {
   "cell_type": "code",
   "execution_count": 43,
   "metadata": {},
   "outputs": [],
   "source": [
    "%%capture row_level_protected_health_information\n",
    "%%bash\n",
    "\n",
    "for file in /Users/me/data/mimic/mimic-iv-2.2/hosp/*.csv.gz /Users/me/data/mimic/mimic-iv-2.2/icu/*.csv.gz; do\n",
    "    echo \"$file\"\n",
    "    echo \"----------\"\n",
    "    duckdb -markdown -c \"SELECT * FROM read_csv_auto('$file') LIMIT 10;\"\n",
    "    echo \"==========\"\n",
    "done"
   ]
  },
  {
   "cell_type": "code",
   "execution_count": 44,
   "metadata": {},
   "outputs": [
    {
     "name": "stdout",
     "output_type": "stream",
     "text": [
      "/Users/me/data/mimic/mimic-iv-2.2/hosp/admissions.csv.gz\n",
      "| subject_id | hadm_id  |      admittime      |      dischtime      | deathtime |  admission_type   | admit_provider_id |   admission_location   | discharge_location | insurance | language | marital_status | race  |      edregtime      |      edouttime      | hospital_expire_flag |\n",
      "/Users/me/data/mimic/mimic-iv-2.2/hosp/d_hcpcs.csv.gz\n",
      "| code  | category | long_description | short_description  |\n",
      "/Users/me/data/mimic/mimic-iv-2.2/hosp/d_icd_diagnoses.csv.gz\n",
      "| icd_code | icd_version |              long_title               |\n",
      "/Users/me/data/mimic/mimic-iv-2.2/hosp/d_icd_procedures.csv.gz\n",
      "| icd_code | icd_version |                         long_title                          |\n",
      "/Users/me/data/mimic/mimic-iv-2.2/hosp/d_labitems.csv.gz\n",
      "| itemid |                label                | fluid | category  |\n",
      "/Users/me/data/mimic/mimic-iv-2.2/hosp/diagnoses_icd.csv.gz\n",
      "| subject_id | hadm_id  | seq_num | icd_code | icd_version |\n",
      "/Users/me/data/mimic/mimic-iv-2.2/hosp/drgcodes.csv.gz\n",
      "| subject_id | hadm_id  | drg_type | drg_code |                       description                        | drg_severity | drg_mortality |\n",
      "/Users/me/data/mimic/mimic-iv-2.2/hosp/emar.csv.gz\n",
      "| subject_id | hadm_id  |   emar_id   | emar_seq |   poe_id    | pharmacy_id | enter_provider_id |      charttime      |            medication             |  event_txt   |    scheduletime     |      storetime      |\n",
      "/Users/me/data/mimic/mimic-iv-2.2/hosp/emar_detail.csv.gz\n",
      "==========\n",
      "/Users/me/data/mimic/mimic-iv-2.2/hosp/hcpcsevents.csv.gz\n",
      "| subject_id | hadm_id  | chartdate  | hcpcs_cd | seq_num |       short_description       |\n",
      "/Users/me/data/mimic/mimic-iv-2.2/hosp/labevents.csv.gz\n",
      "| labevent_id | subject_id | hadm_id | specimen_id | itemid | order_provider_id |      charttime      |      storetime      | value | valuenum | valueuom | ref_range_lower | ref_range_upper |   flag   | priority |                         comments                          |\n",
      "/Users/me/data/mimic/mimic-iv-2.2/hosp/microbiologyevents.csv.gz\n",
      "| microevent_id | subject_id | hadm_id | micro_specimen_id | order_provider_id |      chartdate      |      charttime      | spec_itemid | spec_type_desc | test_seq |      storedate      |      storetime      | test_itemid |            test_name            | org_itemid | org_name | isolate_num | quantity | ab_itemid | ab_name | dilution_text | dilution_comparison | dilution_value | interpretation |                                                                                                                                                                                                                                                                                                                                                                  comments                                                                                                                                                                                                                                                                                                                                                                   |\n",
      "/Users/me/data/mimic/mimic-iv-2.2/hosp/omr.csv.gz\n",
      "| subject_id | chartdate  | seq_num |   result_name   | result_value |\n",
      "/Users/me/data/mimic/mimic-iv-2.2/hosp/patients.csv.gz\n",
      "| subject_id | gender | anchor_age | anchor_year | anchor_year_group |    dod     |\n",
      "/Users/me/data/mimic/mimic-iv-2.2/hosp/pharmacy.csv.gz\n",
      "| subject_id | hadm_id  | pharmacy_id |   poe_id    |      starttime      |      stoptime       |            medication             | proc_type |               status               |      entertime      |    verifiedtime     | route | frequency | disp_sched | infusion_type | sliding_scale | lockout_interval | basal_rate | one_hr_max | doses_per_24_hrs | duration | duration_interval | expiration_value | expiration_unit | expirationdate |   dispensation   | fill_quantity |\n",
      "/Users/me/data/mimic/mimic-iv-2.2/hosp/poe.csv.gz\n",
      "|    poe_id    | poe_seq | subject_id | hadm_id  |      ordertime      | order_type  | order_subtype  | transaction_type | discontinue_of_poe_id | discontinued_by_poe_id | order_provider_id | order_status |\n",
      "/Users/me/data/mimic/mimic-iv-2.2/hosp/poe_detail.csv.gz\n",
      "|    poe_id    | poe_seq | subject_id |     field_name     |    field_value     |\n",
      "/Users/me/data/mimic/mimic-iv-2.2/hosp/prescriptions.csv.gz\n",
      "| subject_id | hadm_id  | pharmacy_id |   poe_id    | poe_seq | order_provider_id |      starttime      |      stoptime       | drug_type |               drug                | formulary_drug_cd |  gsn   |     ndc     |       prod_strength       | form_rx | dose_val_rx | dose_unit_rx | form_val_disp | form_unit_disp | doses_per_24_hrs | route |\n",
      "/Users/me/data/mimic/mimic-iv-2.2/hosp/procedures_icd.csv.gz\n",
      "| subject_id | hadm_id  | seq_num | chartdate  | icd_code | icd_version |\n",
      "/Users/me/data/mimic/mimic-iv-2.2/hosp/provider.csv.gz\n",
      "| provider_id |\n",
      "/Users/me/data/mimic/mimic-iv-2.2/hosp/services.csv.gz\n",
      "| subject_id | hadm_id  |    transfertime     | prev_service | curr_service |\n",
      "/Users/me/data/mimic/mimic-iv-2.2/hosp/transfers.csv.gz\n",
      "| subject_id | hadm_id  | transfer_id | eventtype |       careunit       |       intime        |       outtime       |\n",
      "/Users/me/data/mimic/mimic-iv-2.2/icu/caregiver.csv.gz\n",
      "| caregiver_id |\n",
      "/Users/me/data/mimic/mimic-iv-2.2/icu/chartevents.csv.gz\n",
      "| subject_id | hadm_id  | stay_id  | caregiver_id |      charttime      |      storetime      | itemid | value | valuenum | valueuom | warning |\n",
      "/Users/me/data/mimic/mimic-iv-2.2/icu/d_items.csv.gz\n",
      "| itemid |                label                |    abbreviation    |    linksto     |      category       | unitname |  param_type   | lownormalvalue | highnormalvalue |\n",
      "/Users/me/data/mimic/mimic-iv-2.2/icu/datetimeevents.csv.gz\n",
      "| subject_id | hadm_id  | stay_id  | caregiver_id |      charttime      |      storetime      | itemid |        value        | valueuom | warning |\n",
      "/Users/me/data/mimic/mimic-iv-2.2/icu/icustays.csv.gz\n",
      "| subject_id | hadm_id  | stay_id  |                  first_careunit                  |                  last_careunit                   |       intime        |       outtime       |        los         |\n",
      "/Users/me/data/mimic/mimic-iv-2.2/icu/ingredientevents.csv.gz\n",
      "| subject_id | hadm_id  | stay_id  | caregiver_id |      starttime      |       endtime       |      storetime      | itemid |       amount       | amountuom | rate  | rateuom | orderid | linkorderid | statusdescription | originalamount | originalrate |\n",
      "/Users/me/data/mimic/mimic-iv-2.2/icu/inputevents.csv.gz\n",
      "| subject_id | hadm_id  | stay_id  | caregiver_id |      starttime      |       endtime       |      storetime      | itemid |       amount       | amountuom | rate  | rateuom | orderid | linkorderid |   ordercategoryname    | secondaryordercategoryname | ordercomponenttypedescription | ordercategorydescription | patientweight | totalamount | totalamountuom | isopenbag | continueinnextdept | statusdescription | originalamount | originalrate |\n",
      "/Users/me/data/mimic/mimic-iv-2.2/icu/outputevents.csv.gz\n",
      "| subject_id | hadm_id  | stay_id  | caregiver_id |      charttime      |      storetime      | itemid | value  | valueuom |\n",
      "/Users/me/data/mimic/mimic-iv-2.2/icu/procedureevents.csv.gz\n",
      "| subject_id | hadm_id  | stay_id  | caregiver_id |      starttime      |       endtime       |        storetime        | itemid |        value        | valueuom |        location         | locationcategory | orderid | linkorderid | ordercategoryname | ordercategorydescription | patientweight | isopenbag | continueinnextdept | statusdescription | originalamount | originalrate |\n"
     ]
    }
   ],
   "source": [
    "headers = row_level_protected_health_information.stdout.split('\\n')\n",
    "for i, row in enumerate(headers):\n",
    "    if i > 0 and '.csv.gz' in headers[i - 1]:\n",
    "        print(headers[i-1])\n",
    "        print(headers[i+1])"
   ]
  },
  {
   "cell_type": "code",
   "execution_count": 45,
   "metadata": {},
   "outputs": [],
   "source": [
    "%%capture duckdb_docs_raw\n",
    "\n",
    "!curl -s \"https://duckdb.org/docs/data/csv/overview.html\" | sed -e 's/<[^>]*>//g; /^$/d' | tr -s '\\n'\n",
    "!curl -s \"https://duckdb.org/docs/sql/functions/dateformat.html\" | sed -e 's/<[^>]*>//g; /^$/d' | tr -s '\\n'"
   ]
  },
  {
   "cell_type": "code",
   "execution_count": 46,
   "metadata": {},
   "outputs": [],
   "source": [
    "import re\n",
    "duckdb_docs = re.escape(duckdb_docs_raw.stdout.replace('\\t', '').replace('\\n', '').replace(':', '').replace('{', '').replace('}', ''))"
   ]
  },
  {
   "cell_type": "code",
   "execution_count": 48,
   "metadata": {},
   "outputs": [],
   "source": [
    "parent_prompt = f\"\"\"\n",
    "Please find the context for this task here: \n",
    "\n",
    "```\n",
    "{mimic_iv_structure.stdout}\n",
    "```\n",
    "\n",
    "This lists the directory contents using the seedir python package, of the directory at this path: `{mimic_iv_path}`.\n",
    "\n",
    "Here are the headers of every file, derived from the command `for file in *.csv.gz; do echo \"$file\"; echo \"----------\"; duckdb -markdown -c \"SELECT * FROM read_csv_auto('$file') LIMIT 10;\"; echo \"==========\"; done`: \n",
    "\n",
    "```\n",
    "{row_level_protected_health_information.stdout}\n",
    "```\n",
    "\n",
    "Additionally, here is an example file, {example_name} - in MYSQL, not DuckDB dialect - which contains a SQL transform to load the raw data from the files above into a database, using the following script:\n",
    "\n",
    "```\n",
    "{example_contents.stdout}\n",
    "```\n",
    "\n",
    "Remember:\n",
    "\n",
    "We are running this notebook from the same directory as that shown above, from within the `notebooks` directory in Jupyter Lab. All of your code should be prefixed with the `%%sql` magic (the duckdb and jupysql libraries are already loaded!) so that it can be run after this first execution and code writing stage :) \n",
    "\n",
    "Also remember that this is the code folder structure: \n",
    "\n",
    "{code_folder_structure.stdout}\n",
    "\n",
    "Also remember that these are the latest DuckDB documentation for the read_csv function that you must use: \n",
    "\n",
    "```\n",
    "{duckdb_docs}\n",
    "```\n",
    "\n",
    "For each set of MIMIC files (and versions), get header of each file and use it as context for a large language model to write the SQL scripts in DuckDB dialect to load the MIMIC data into a database that can be saved to a parquet file.\n",
    "\n",
    "Proceed step-by-step, focused on not changing the underlying names and original data dictionary at all. Make sure to cross-link data appropriately using the previously given file as reference.\n",
    "\n",
    "Remember to always use the `read_csv` functions wrapped around the file name, like so: `SELECT * FROM read_csv('filename.csv.gz')` as but one example. \n",
    "\n",
    "Copy the resulting database into a parquet file compressed with ZSTD compression.\n",
    "\n",
    "Please always remember to prefix the output with `%%sql` for the JupySQL cell magic :)\n",
    "\"\"\""
   ]
  },
  {
   "cell_type": "code",
   "execution_count": 49,
   "metadata": {},
   "outputs": [
    {
     "name": "stdout",
     "output_type": "stream",
     "text": [
      "\n",
      "Please find the context for this task here: \n",
      "\n",
      "```\n",
      "mimic-iv-2.2/\n",
      "├─hosp/\n",
      "│ ├─poe.csv.gz\n",
      "│ ├─d_hcpcs.csv.gz\n",
      "│ ├─poe_detail.csv.gz\n",
      "│ ├─patients.csv.gz\n",
      "│ ├─diagnoses_icd.csv.gz\n",
      "│ ├─emar_detail.csv.gz\n",
      "│ ├─provider.csv.gz\n",
      "│ ├─prescriptions.csv.gz\n",
      "│ ├─drgcodes.csv.gz\n",
      "│ ├─d_icd_diagnoses.csv.gz\n",
      "│ ├─d_labitems.csv.gz\n",
      "│ ├─transfers.csv.gz\n",
      "│ ├─admissions.csv.gz\n",
      "│ ├─labevents.csv.gz\n",
      "│ ├─pharmacy.csv.gz\n",
      "│ ├─procedures_icd.csv.gz\n",
      "│ ├─hcpcsevents.csv.gz\n",
      "│ ├─services.csv.gz\n",
      "│ ├─d_icd_procedures.csv.gz\n",
      "│ ├─omr.csv.gz\n",
      "│ ├─emar.csv.gz\n",
      "│ └─microbiologyevents.csv.gz\n",
      "├─CHANGELOG.txt\n",
      "├─LICENSE.txt\n",
      "├─SHA256SUMS.txt\n",
      "└─icu/\n",
      "  ├─datetimeevents.csv.gz\n",
      "  ├─caregiver.csv.gz\n",
      "  ├─ingredientevents.csv.gz\n",
      "  ├─inputevents.csv.gz\n",
      "  ├─procedureevents.csv.gz\n",
      "  ├─d_items.csv.gz\n",
      "  ├─chartevents.csv.gz\n",
      "  ├─icustays.csv.gz\n",
      "  └─outputevents.csv.gz\n",
      "\n",
      "```\n",
      "\n",
      "This lists the directory contents using the seedir python package, of the directory at this path: `~/data/mimic/mimic-iv-2.2/`.\n",
      "\n",
      "Here are the headers of every file, derived fro\n"
     ]
    }
   ],
   "source": [
    "print(parent_prompt[:1000])"
   ]
  },
  {
   "cell_type": "code",
   "execution_count": 52,
   "metadata": {},
   "outputs": [],
   "source": [
    "%%capture directory\n",
    "!ls  -lh hosp/* icu/*"
   ]
  },
  {
   "cell_type": "code",
   "execution_count": 71,
   "metadata": {},
   "outputs": [
    {
     "name": "stdout",
     "output_type": "stream",
     "text": [
      "-rw-r--r--@ 1 me  staff    15M Jan  5  2023 hosp/admissions.csv.gz\n",
      "-rw-r--r--@ 1 me  staff   417K Jan  5  2023 hosp/d_hcpcs.csv.gz\n",
      "-rw-r--r--@ 1 me  staff   839K Jan  5  2023 hosp/d_icd_diagnoses.csv.gz\n",
      "-rw-r--r--@ 1 me  staff   565K Jan  5  2023 hosp/d_icd_procedures.csv.gz\n",
      "-rw-r--r--@ 1 me  staff    13K Jan  5  2023 hosp/d_labitems.csv.gz\n",
      "-rw-r--r--@ 1 me  staff    24M Jan  5  2023 hosp/diagnoses_icd.csv.gz\n",
      "-rw-r--r--@ 1 me  staff   7.1M Jan  5  2023 hosp/drgcodes.csv.gz\n",
      "-rw-r--r--@ 1 me  staff   485M Jan  5  2023 hosp/emar.csv.gz\n",
      "-rw-r--r--@ 1 me  staff   449M Jan  5  2023 hosp/emar_detail.csv.gz\n",
      "-rw-r--r--@ 1 me  staff   1.7M Jan  5  2023 hosp/hcpcsevents.csv.gz\n",
      "-rw-r--r--@ 1 me  staff   1.8G Jan  5  2023 hosp/labevents.csv.gz\n",
      "-rw-r--r--@ 1 me  staff    92M Jan  5  2023 hosp/microbiologyevents.csv.gz\n",
      "-rw-r--r--@ 1 me  staff    34M Jan  5  2023 hosp/omr.csv.gz\n",
      "-rw-r--r--@ 1 me  staff   2.2M Jan  5  2023 hosp/patients.csv.gz\n",
      "-rw-r--r--@ 1 me  staff   380M Jan  5  2023 hosp/pharmacy.csv.gz\n",
      "-rw-r--r--@ 1 me  staff   475M Jan  5  2023 hosp/poe.csv.gz\n",
      "-rw-r--r--@ 1 me  staff    24M Jan  5  2023 hosp/poe_detail.csv.gz\n",
      "-rw-r--r--@ 1 me  staff   438M Jan  5  2023 hosp/prescriptions.csv.gz\n",
      "-rw-r--r--@ 1 me  staff   5.7M Jan  5  2023 hosp/procedures_icd.csv.gz\n",
      "-rw-r--r--@ 1 me  staff   120K Jan  5  2023 hosp/provider.csv.gz\n",
      "-rw-r--r--@ 1 me  staff   6.5M Jan  5  2023 hosp/services.csv.gz\n",
      "-rw-r--r--@ 1 me  staff    34M Jan  5  2023 hosp/transfers.csv.gz\n",
      "-rw-r--r--@ 1 me  staff    35K Jan  5  2023 icu/caregiver.csv.gz\n",
      "-rw-r--r--@ 1 me  staff   2.3G Jan  5  2023 icu/chartevents.csv.gz\n",
      "-rw-r--r--@ 1 me  staff    56K Jan  5  2023 icu/d_items.csv.gz\n",
      "-rw-r--r--@ 1 me  staff    44M Jan  5  2023 icu/datetimeevents.csv.gz\n",
      "-rw-r--r--@ 1 me  staff   2.5M Jan  5  2023 icu/icustays.csv.gz\n",
      "-rw-r--r--@ 1 me  staff   240M Jan  5  2023 icu/ingredientevents.csv.gz\n",
      "-rw-r--r--@ 1 me  staff   309M Jan  5  2023 icu/inputevents.csv.gz\n",
      "-rw-r--r--@ 1 me  staff    37M Jan  5  2023 icu/outputevents.csv.gz\n",
      "-rw-r--r--@ 1 me  staff    20M Jan  5  2023 icu/procedureevents.csv.gz\n",
      "\n"
     ]
    }
   ],
   "source": [
    "print(directory)"
   ]
  },
  {
   "cell_type": "markdown",
   "metadata": {},
   "source": [
    "## Blocker: need to copy and paste file names into the `%%ai` cell magic enabled by the `jupyter-ai` python package in order to execute the prompt separately for every file in the current working directory"
   ]
  },
  {
   "cell_type": "code",
   "execution_count": 54,
   "metadata": {},
   "outputs": [
    {
     "data": {
      "text/html": [
       "AI generated code inserted below &#11015;&#65039;"
      ],
      "text/plain": [
       "<IPython.core.display.HTML object>"
      ]
     },
     "execution_count": 54,
     "metadata": {
      "text/html": {
       "jupyter_ai": {
        "model_id": "claude-3-opus-20240229",
        "provider_id": "anthropic-chat"
       }
      }
     },
     "output_type": "execute_result"
    }
   ],
   "source": [
    "%%ai anthropic-chat:claude-3-opus-20240229 --format code\n",
    "\n",
    "{parent_prompt}\n",
    "\n",
    "Only do this for this file:\n",
    "\n",
    "```\n",
    "-rw-r--r--@ 1 me  staff    15M Jan  5  2023 hosp/admissions.csv.gz\n",
    "```"
   ]
  },
  {
   "cell_type": "code",
   "execution_count": 55,
   "metadata": {},
   "outputs": [
    {
     "data": {
      "text/html": [
       "<div>\n",
       "<style scoped>\n",
       "    .dataframe tbody tr th:only-of-type {\n",
       "        vertical-align: middle;\n",
       "    }\n",
       "\n",
       "    .dataframe tbody tr th {\n",
       "        vertical-align: top;\n",
       "    }\n",
       "\n",
       "    .dataframe thead th {\n",
       "        text-align: right;\n",
       "    }\n",
       "</style>\n",
       "<table border=\"1\" class=\"dataframe\">\n",
       "  <thead>\n",
       "    <tr style=\"text-align: right;\">\n",
       "      <th></th>\n",
       "      <th>Success</th>\n",
       "    </tr>\n",
       "  </thead>\n",
       "  <tbody>\n",
       "  </tbody>\n",
       "</table>\n",
       "</div>"
      ],
      "text/plain": [
       "Empty DataFrame\n",
       "Columns: [Success]\n",
       "Index: []"
      ]
     },
     "execution_count": 55,
     "metadata": {},
     "output_type": "execute_result"
    }
   ],
   "source": [
    "%%sql\n",
    "\n",
    "CREATE TABLE admissions AS \n",
    "SELECT * FROM read_csv('hosp/admissions.csv.gz', header=True, compression='gzip');\n",
    "\n",
    "COPY admissions TO 'admissions.parquet' (FORMAT PARQUET, CODEC ZSTD);"
   ]
  },
  {
   "cell_type": "code",
   "execution_count": 56,
   "metadata": {},
   "outputs": [
    {
     "data": {
      "text/html": [
       "AI generated code inserted below &#11015;&#65039;"
      ],
      "text/plain": [
       "<IPython.core.display.HTML object>"
      ]
     },
     "execution_count": 56,
     "metadata": {
      "text/html": {
       "jupyter_ai": {
        "model_id": "claude-3-opus-20240229",
        "provider_id": "anthropic-chat"
       }
      }
     },
     "output_type": "execute_result"
    }
   ],
   "source": [
    "%%ai anthropic-chat:claude-3-opus-20240229 --format code\n",
    "\n",
    "{parent_prompt}\n",
    "\n",
    "Only do this for this file:\n",
    "\n",
    "```\n",
    "-rw-r--r--@ 1 me  staff   417K Jan  5  2023 hosp/d_hcpcs.csv.gz\n",
    "```"
   ]
  },
  {
   "cell_type": "code",
   "execution_count": 57,
   "metadata": {},
   "outputs": [
    {
     "data": {
      "text/html": [
       "<div>\n",
       "<style scoped>\n",
       "    .dataframe tbody tr th:only-of-type {\n",
       "        vertical-align: middle;\n",
       "    }\n",
       "\n",
       "    .dataframe tbody tr th {\n",
       "        vertical-align: top;\n",
       "    }\n",
       "\n",
       "    .dataframe thead th {\n",
       "        text-align: right;\n",
       "    }\n",
       "</style>\n",
       "<table border=\"1\" class=\"dataframe\">\n",
       "  <thead>\n",
       "    <tr style=\"text-align: right;\">\n",
       "      <th></th>\n",
       "      <th>Success</th>\n",
       "    </tr>\n",
       "  </thead>\n",
       "  <tbody>\n",
       "  </tbody>\n",
       "</table>\n",
       "</div>"
      ],
      "text/plain": [
       "Empty DataFrame\n",
       "Columns: [Success]\n",
       "Index: []"
      ]
     },
     "execution_count": 57,
     "metadata": {},
     "output_type": "execute_result"
    }
   ],
   "source": [
    "%%sql\n",
    "CREATE TABLE d_hcpcs AS \n",
    "SELECT * FROM read_csv('hosp/d_hcpcs.csv.gz');\n",
    "\n",
    "COPY d_hcpcs TO 'hosp/d_hcpcs.parquet' (FORMAT 'parquet', CODEC 'ZSTD');"
   ]
  },
  {
   "cell_type": "code",
   "execution_count": 58,
   "metadata": {},
   "outputs": [
    {
     "data": {
      "text/html": [
       "AI generated code inserted below &#11015;&#65039;"
      ],
      "text/plain": [
       "<IPython.core.display.HTML object>"
      ]
     },
     "execution_count": 58,
     "metadata": {
      "text/html": {
       "jupyter_ai": {
        "model_id": "claude-3-opus-20240229",
        "provider_id": "anthropic-chat"
       }
      }
     },
     "output_type": "execute_result"
    }
   ],
   "source": [
    "%%ai anthropic-chat:claude-3-opus-20240229 --format code\n",
    "\n",
    "{parent_prompt}\n",
    "\n",
    "Only do this for this file:\n",
    "\n",
    "```\n",
    "-rw-r--r--@ 1 me  staff   839K Jan  5  2023 hosp/d_icd_diagnoses.csv.gz\n",
    "```"
   ]
  },
  {
   "cell_type": "code",
   "execution_count": 59,
   "metadata": {},
   "outputs": [
    {
     "data": {
      "text/html": [
       "<div>\n",
       "<style scoped>\n",
       "    .dataframe tbody tr th:only-of-type {\n",
       "        vertical-align: middle;\n",
       "    }\n",
       "\n",
       "    .dataframe tbody tr th {\n",
       "        vertical-align: top;\n",
       "    }\n",
       "\n",
       "    .dataframe thead th {\n",
       "        text-align: right;\n",
       "    }\n",
       "</style>\n",
       "<table border=\"1\" class=\"dataframe\">\n",
       "  <thead>\n",
       "    <tr style=\"text-align: right;\">\n",
       "      <th></th>\n",
       "      <th>Success</th>\n",
       "    </tr>\n",
       "  </thead>\n",
       "  <tbody>\n",
       "  </tbody>\n",
       "</table>\n",
       "</div>"
      ],
      "text/plain": [
       "Empty DataFrame\n",
       "Columns: [Success]\n",
       "Index: []"
      ]
     },
     "execution_count": 59,
     "metadata": {},
     "output_type": "execute_result"
    }
   ],
   "source": [
    "%%sql\n",
    "COPY (\n",
    "  SELECT\n",
    "    icd_code,\n",
    "    icd_version,\n",
    "    long_title\n",
    "  FROM read_csv_auto('hosp/d_icd_diagnoses.csv.gz', header=True, all_varchar=True)\n",
    ") TO 'hosp/d_icd_diagnoses.parquet' (FORMAT 'parquet', CODEC 'ZSTD');"
   ]
  },
  {
   "cell_type": "code",
   "execution_count": 60,
   "metadata": {},
   "outputs": [
    {
     "data": {
      "text/html": [
       "AI generated code inserted below &#11015;&#65039;"
      ],
      "text/plain": [
       "<IPython.core.display.HTML object>"
      ]
     },
     "execution_count": 60,
     "metadata": {
      "text/html": {
       "jupyter_ai": {
        "model_id": "claude-3-opus-20240229",
        "provider_id": "anthropic-chat"
       }
      }
     },
     "output_type": "execute_result"
    }
   ],
   "source": [
    "%%ai anthropic-chat:claude-3-opus-20240229 --format code\n",
    "\n",
    "{parent_prompt}\n",
    "\n",
    "Only do this for this file:\n",
    "\n",
    "```\n",
    "-rw-r--r--@ 1 me  staff   565K Jan  5  2023 hosp/d_icd_procedures.csv.gz\n",
    "```"
   ]
  },
  {
   "cell_type": "code",
   "execution_count": 61,
   "metadata": {},
   "outputs": [
    {
     "data": {
      "text/html": [
       "<div>\n",
       "<style scoped>\n",
       "    .dataframe tbody tr th:only-of-type {\n",
       "        vertical-align: middle;\n",
       "    }\n",
       "\n",
       "    .dataframe tbody tr th {\n",
       "        vertical-align: top;\n",
       "    }\n",
       "\n",
       "    .dataframe thead th {\n",
       "        text-align: right;\n",
       "    }\n",
       "</style>\n",
       "<table border=\"1\" class=\"dataframe\">\n",
       "  <thead>\n",
       "    <tr style=\"text-align: right;\">\n",
       "      <th></th>\n",
       "      <th>Success</th>\n",
       "    </tr>\n",
       "  </thead>\n",
       "  <tbody>\n",
       "  </tbody>\n",
       "</table>\n",
       "</div>"
      ],
      "text/plain": [
       "Empty DataFrame\n",
       "Columns: [Success]\n",
       "Index: []"
      ]
     },
     "execution_count": 61,
     "metadata": {},
     "output_type": "execute_result"
    }
   ],
   "source": [
    "%%sql\n",
    "\n",
    "CREATE OR REPLACE TABLE d_icd_procedures AS \n",
    "SELECT * \n",
    "FROM read_csv_auto('hosp/d_icd_procedures.csv.gz', header=True, sep=',');\n",
    "\n",
    "COPY d_icd_procedures TO 'hosp/d_icd_procedures.parquet' (FORMAT PARQUET, CODEC ZSTD);"
   ]
  },
  {
   "cell_type": "code",
   "execution_count": 62,
   "metadata": {},
   "outputs": [
    {
     "data": {
      "text/html": [
       "AI generated code inserted below &#11015;&#65039;"
      ],
      "text/plain": [
       "<IPython.core.display.HTML object>"
      ]
     },
     "execution_count": 62,
     "metadata": {
      "text/html": {
       "jupyter_ai": {
        "model_id": "claude-3-opus-20240229",
        "provider_id": "anthropic-chat"
       }
      }
     },
     "output_type": "execute_result"
    }
   ],
   "source": [
    "%%ai anthropic-chat:claude-3-opus-20240229 --format code\n",
    "\n",
    "{parent_prompt}\n",
    "\n",
    "Only do this for this file:\n",
    "\n",
    "```\n",
    "-rw-r--r--@ 1 me  staff    13K Jan  5  2023 hosp/d_labitems.csv.gz\n",
    "```"
   ]
  },
  {
   "cell_type": "code",
   "execution_count": 67,
   "metadata": {},
   "outputs": [
    {
     "data": {
      "text/html": [
       "<div>\n",
       "<style scoped>\n",
       "    .dataframe tbody tr th:only-of-type {\n",
       "        vertical-align: middle;\n",
       "    }\n",
       "\n",
       "    .dataframe tbody tr th {\n",
       "        vertical-align: top;\n",
       "    }\n",
       "\n",
       "    .dataframe thead th {\n",
       "        text-align: right;\n",
       "    }\n",
       "</style>\n",
       "<table border=\"1\" class=\"dataframe\">\n",
       "  <thead>\n",
       "    <tr style=\"text-align: right;\">\n",
       "      <th></th>\n",
       "      <th>Success</th>\n",
       "    </tr>\n",
       "  </thead>\n",
       "  <tbody>\n",
       "  </tbody>\n",
       "</table>\n",
       "</div>"
      ],
      "text/plain": [
       "Empty DataFrame\n",
       "Columns: [Success]\n",
       "Index: []"
      ]
     },
     "execution_count": 67,
     "metadata": {},
     "output_type": "execute_result"
    }
   ],
   "source": [
    "%%sql\n",
    "\n",
    "CREATE TABLE d_labitems AS \n",
    "SELECT * \n",
    "FROM read_csv('hosp/d_labitems.csv.gz', \n",
    "    columns={itemid: 'INTEGER', label: 'VARCHAR', fluid: 'VARCHAR', category: 'VARCHAR'});\n",
    "\n",
    "COPY d_labitems TO 'hosp/d_labitems.parquet' (FORMAT 'parquet', CODEC 'ZSTD');"
   ]
  },
  {
   "cell_type": "code",
   "execution_count": 68,
   "metadata": {},
   "outputs": [
    {
     "data": {
      "text/html": [
       "AI generated code inserted below &#11015;&#65039;"
      ],
      "text/plain": [
       "<IPython.core.display.HTML object>"
      ]
     },
     "execution_count": 68,
     "metadata": {
      "text/html": {
       "jupyter_ai": {
        "model_id": "claude-3-opus-20240229",
        "provider_id": "anthropic-chat"
       }
      }
     },
     "output_type": "execute_result"
    }
   ],
   "source": [
    "%%ai anthropic-chat:claude-3-opus-20240229 --format code\n",
    "\n",
    "{parent_prompt}\n",
    "\n",
    "Only do this for this file:\n",
    "\n",
    "```\n",
    "-rw-r--r--@ 1 me  staff    24M Jan  5  2023 hosp/diagnoses_icd.csv.gz\n",
    "```"
   ]
  },
  {
   "cell_type": "code",
   "execution_count": 69,
   "metadata": {},
   "outputs": [
    {
     "data": {
      "text/html": [
       "<div>\n",
       "<style scoped>\n",
       "    .dataframe tbody tr th:only-of-type {\n",
       "        vertical-align: middle;\n",
       "    }\n",
       "\n",
       "    .dataframe tbody tr th {\n",
       "        vertical-align: top;\n",
       "    }\n",
       "\n",
       "    .dataframe thead th {\n",
       "        text-align: right;\n",
       "    }\n",
       "</style>\n",
       "<table border=\"1\" class=\"dataframe\">\n",
       "  <thead>\n",
       "    <tr style=\"text-align: right;\">\n",
       "      <th></th>\n",
       "      <th>Success</th>\n",
       "    </tr>\n",
       "  </thead>\n",
       "  <tbody>\n",
       "  </tbody>\n",
       "</table>\n",
       "</div>"
      ],
      "text/plain": [
       "Empty DataFrame\n",
       "Columns: [Success]\n",
       "Index: []"
      ]
     },
     "execution_count": 69,
     "metadata": {},
     "output_type": "execute_result"
    }
   ],
   "source": [
    "%%sql\n",
    "\n",
    "CREATE TABLE diagnoses_icd AS \n",
    "SELECT * FROM read_csv_auto('hosp/diagnoses_icd.csv.gz', header=True, sep=',', columns={'subject_id': 'INT', 'hadm_id': 'INT', 'seq_num': 'INT', 'icd_code': 'VARCHAR', 'icd_version': 'INT'});\n",
    "\n",
    "COPY diagnoses_icd TO 'diagnoses_icd.parquet' (FORMAT PARQUET, CODEC ZSTD);"
   ]
  },
  {
   "cell_type": "code",
   "execution_count": 70,
   "metadata": {},
   "outputs": [
    {
     "data": {
      "text/html": [
       "AI generated code inserted below &#11015;&#65039;"
      ],
      "text/plain": [
       "<IPython.core.display.HTML object>"
      ]
     },
     "execution_count": 70,
     "metadata": {
      "text/html": {
       "jupyter_ai": {
        "model_id": "claude-3-opus-20240229",
        "provider_id": "anthropic-chat"
       }
      }
     },
     "output_type": "execute_result"
    }
   ],
   "source": [
    "%%ai anthropic-chat:claude-3-opus-20240229 --format code\n",
    "\n",
    "{parent_prompt}\n",
    "\n",
    "Only do this for this file:\n",
    "\n",
    "```\n",
    "-rw-r--r--@ 1 me  staff   7.1M Jan  5  2023 hosp/drgcodes.csv.gz\n",
    "```"
   ]
  },
  {
   "cell_type": "code",
   "execution_count": 72,
   "metadata": {},
   "outputs": [
    {
     "data": {
      "text/html": [
       "<div>\n",
       "<style scoped>\n",
       "    .dataframe tbody tr th:only-of-type {\n",
       "        vertical-align: middle;\n",
       "    }\n",
       "\n",
       "    .dataframe tbody tr th {\n",
       "        vertical-align: top;\n",
       "    }\n",
       "\n",
       "    .dataframe thead th {\n",
       "        text-align: right;\n",
       "    }\n",
       "</style>\n",
       "<table border=\"1\" class=\"dataframe\">\n",
       "  <thead>\n",
       "    <tr style=\"text-align: right;\">\n",
       "      <th></th>\n",
       "      <th>Success</th>\n",
       "    </tr>\n",
       "  </thead>\n",
       "  <tbody>\n",
       "  </tbody>\n",
       "</table>\n",
       "</div>"
      ],
      "text/plain": [
       "Empty DataFrame\n",
       "Columns: [Success]\n",
       "Index: []"
      ]
     },
     "execution_count": 72,
     "metadata": {},
     "output_type": "execute_result"
    }
   ],
   "source": [
    "%%sql\n",
    "\n",
    "CREATE TABLE drgcodes AS\n",
    "SELECT * FROM read_csv('hosp/drgcodes.csv.gz', header=True, compression='gzip');\n",
    "\n",
    "COPY drgcodes TO 'drgcodes.parquet' (FORMAT 'parquet', CODEC 'ZSTD');"
   ]
  },
  {
   "cell_type": "code",
   "execution_count": 74,
   "metadata": {},
   "outputs": [
    {
     "data": {
      "text/html": [
       "AI generated code inserted below &#11015;&#65039;"
      ],
      "text/plain": [
       "<IPython.core.display.HTML object>"
      ]
     },
     "execution_count": 74,
     "metadata": {
      "text/html": {
       "jupyter_ai": {
        "model_id": "claude-3-opus-20240229",
        "provider_id": "anthropic-chat"
       }
      }
     },
     "output_type": "execute_result"
    }
   ],
   "source": [
    "%%ai anthropic-chat:claude-3-opus-20240229 --format code\n",
    "\n",
    "{parent_prompt}\n",
    "\n",
    "Only do this for this file:\n",
    "\n",
    "```\n",
    "-rw-r--r--@ 1 me  staff   485M Jan  5  2023 hosp/emar.csv.gz\n",
    "```"
   ]
  },
  {
   "cell_type": "code",
   "execution_count": 75,
   "metadata": {},
   "outputs": [
    {
     "data": {
      "application/vnd.jupyter.widget-view+json": {
       "model_id": "aed6879502974387bd595b2edd1e0ea3",
       "version_major": 2,
       "version_minor": 0
      },
      "text/plain": [
       "FloatProgress(value=0.0, layout=Layout(width='auto'), style=ProgressStyle(bar_color='black'))"
      ]
     },
     "metadata": {},
     "output_type": "display_data"
    },
    {
     "data": {
      "application/vnd.jupyter.widget-view+json": {
       "model_id": "4c0294118fef49678871bf086153ae3e",
       "version_major": 2,
       "version_minor": 0
      },
      "text/plain": [
       "FloatProgress(value=0.0, layout=Layout(width='auto'), style=ProgressStyle(bar_color='black'))"
      ]
     },
     "metadata": {},
     "output_type": "display_data"
    },
    {
     "data": {
      "text/html": [
       "<div>\n",
       "<style scoped>\n",
       "    .dataframe tbody tr th:only-of-type {\n",
       "        vertical-align: middle;\n",
       "    }\n",
       "\n",
       "    .dataframe tbody tr th {\n",
       "        vertical-align: top;\n",
       "    }\n",
       "\n",
       "    .dataframe thead th {\n",
       "        text-align: right;\n",
       "    }\n",
       "</style>\n",
       "<table border=\"1\" class=\"dataframe\">\n",
       "  <thead>\n",
       "    <tr style=\"text-align: right;\">\n",
       "      <th></th>\n",
       "      <th>Success</th>\n",
       "    </tr>\n",
       "  </thead>\n",
       "  <tbody>\n",
       "  </tbody>\n",
       "</table>\n",
       "</div>"
      ],
      "text/plain": [
       "Empty DataFrame\n",
       "Columns: [Success]\n",
       "Index: []"
      ]
     },
     "execution_count": 75,
     "metadata": {},
     "output_type": "execute_result"
    }
   ],
   "source": [
    "%%sql\n",
    "\n",
    "CREATE TABLE emar AS \n",
    "SELECT *\n",
    "FROM read_csv_auto('hosp/emar.csv.gz', header=True, all_varchar=True);\n",
    "\n",
    "COPY (\n",
    "    SELECT * \n",
    "    FROM emar\n",
    ") TO 'emar.parquet' (FORMAT 'parquet', CODEC 'ZSTD');"
   ]
  },
  {
   "cell_type": "code",
   "execution_count": 76,
   "metadata": {},
   "outputs": [
    {
     "data": {
      "text/html": [
       "AI generated code inserted below &#11015;&#65039;"
      ],
      "text/plain": [
       "<IPython.core.display.HTML object>"
      ]
     },
     "execution_count": 76,
     "metadata": {
      "text/html": {
       "jupyter_ai": {
        "model_id": "claude-3-opus-20240229",
        "provider_id": "anthropic-chat"
       }
      }
     },
     "output_type": "execute_result"
    }
   ],
   "source": [
    "%%ai anthropic-chat:claude-3-opus-20240229 --format code\n",
    "\n",
    "{parent_prompt}\n",
    "\n",
    "Only do this for this file:\n",
    "\n",
    "```\n",
    "-rw-r--r--@ 1 me  staff   449M Jan  5  2023 hosp/emar_detail.csv.gz\n",
    "```"
   ]
  },
  {
   "cell_type": "code",
   "execution_count": 78,
   "metadata": {},
   "outputs": [
    {
     "data": {
      "application/vnd.jupyter.widget-view+json": {
       "model_id": "0235ba7c44ef4bfb9e95eddc41b3b064",
       "version_major": 2,
       "version_minor": 0
      },
      "text/plain": [
       "FloatProgress(value=0.0, layout=Layout(width='auto'), style=ProgressStyle(bar_color='black'))"
      ]
     },
     "metadata": {},
     "output_type": "display_data"
    },
    {
     "data": {
      "application/vnd.jupyter.widget-view+json": {
       "model_id": "2bf3c61c33c24053a909fe81165d1959",
       "version_major": 2,
       "version_minor": 0
      },
      "text/plain": [
       "FloatProgress(value=0.0, layout=Layout(width='auto'), style=ProgressStyle(bar_color='black'))"
      ]
     },
     "metadata": {},
     "output_type": "display_data"
    },
    {
     "data": {
      "text/html": [
       "<div>\n",
       "<style scoped>\n",
       "    .dataframe tbody tr th:only-of-type {\n",
       "        vertical-align: middle;\n",
       "    }\n",
       "\n",
       "    .dataframe tbody tr th {\n",
       "        vertical-align: top;\n",
       "    }\n",
       "\n",
       "    .dataframe thead th {\n",
       "        text-align: right;\n",
       "    }\n",
       "</style>\n",
       "<table border=\"1\" class=\"dataframe\">\n",
       "  <thead>\n",
       "    <tr style=\"text-align: right;\">\n",
       "      <th></th>\n",
       "      <th>Success</th>\n",
       "    </tr>\n",
       "  </thead>\n",
       "  <tbody>\n",
       "  </tbody>\n",
       "</table>\n",
       "</div>"
      ],
      "text/plain": [
       "Empty DataFrame\n",
       "Columns: [Success]\n",
       "Index: []"
      ]
     },
     "execution_count": 78,
     "metadata": {},
     "output_type": "execute_result"
    }
   ],
   "source": [
    "%%sql\n",
    "\n",
    "CREATE TABLE emar_detail AS \n",
    "SELECT * \n",
    "FROM read_csv_auto('hosp/emar_detail.csv.gz', all_varchar=True);\n",
    "\n",
    "COPY emar_detail TO 'emar_detail.parquet' (FORMAT 'parquet', CODEC 'ZSTD');"
   ]
  },
  {
   "cell_type": "code",
   "execution_count": 80,
   "metadata": {},
   "outputs": [
    {
     "data": {
      "text/html": [
       "AI generated code inserted below &#11015;&#65039;"
      ],
      "text/plain": [
       "<IPython.core.display.HTML object>"
      ]
     },
     "execution_count": 80,
     "metadata": {
      "text/html": {
       "jupyter_ai": {
        "model_id": "claude-3-opus-20240229",
        "provider_id": "anthropic-chat"
       }
      }
     },
     "output_type": "execute_result"
    }
   ],
   "source": [
    "%%ai anthropic-chat:claude-3-opus-20240229 --format code\n",
    "\n",
    "{parent_prompt}\n",
    "\n",
    "Only do this for this file:\n",
    "\n",
    "```\n",
    "-rw-r--r--@ 1 me  staff   1.7M Jan  5  2023 hosp/hcpcsevents.csv.gz\n",
    "```"
   ]
  },
  {
   "cell_type": "code",
   "execution_count": 81,
   "metadata": {},
   "outputs": [
    {
     "data": {
      "text/html": [
       "<div>\n",
       "<style scoped>\n",
       "    .dataframe tbody tr th:only-of-type {\n",
       "        vertical-align: middle;\n",
       "    }\n",
       "\n",
       "    .dataframe tbody tr th {\n",
       "        vertical-align: top;\n",
       "    }\n",
       "\n",
       "    .dataframe thead th {\n",
       "        text-align: right;\n",
       "    }\n",
       "</style>\n",
       "<table border=\"1\" class=\"dataframe\">\n",
       "  <thead>\n",
       "    <tr style=\"text-align: right;\">\n",
       "      <th></th>\n",
       "      <th>Success</th>\n",
       "    </tr>\n",
       "  </thead>\n",
       "  <tbody>\n",
       "  </tbody>\n",
       "</table>\n",
       "</div>"
      ],
      "text/plain": [
       "Empty DataFrame\n",
       "Columns: [Success]\n",
       "Index: []"
      ]
     },
     "execution_count": 81,
     "metadata": {},
     "output_type": "execute_result"
    }
   ],
   "source": [
    "%%sql\n",
    "\n",
    "CREATE TABLE hcpcsevents AS \n",
    "SELECT * FROM read_csv('hosp/hcpcsevents.csv.gz', header=True, compression='gzip');\n",
    "\n",
    "COPY hcpcsevents TO 'hcpcsevents.parquet' (FORMAT 'parquet', CODEC 'ZSTD');"
   ]
  },
  {
   "cell_type": "code",
   "execution_count": null,
   "metadata": {},
   "outputs": [],
   "source": [
    "%%sql\n",
    "\n",
    "CREATE TABLE hcpcsevents AS \n",
    "SELECT * \n",
    "FROM read_csv('hosp/hcpcsevents.csv.gz', header=True, compression='gzip');\n",
    "\n",
    "COPY hcpcsevents TO 'hcpcsevents.parquet' (FORMAT 'parquet', CODEC 'ZSTD');"
   ]
  },
  {
   "cell_type": "code",
   "execution_count": 82,
   "metadata": {},
   "outputs": [
    {
     "data": {
      "text/html": [
       "AI generated code inserted below &#11015;&#65039;"
      ],
      "text/plain": [
       "<IPython.core.display.HTML object>"
      ]
     },
     "execution_count": 82,
     "metadata": {
      "text/html": {
       "jupyter_ai": {
        "model_id": "claude-3-opus-20240229",
        "provider_id": "anthropic-chat"
       }
      }
     },
     "output_type": "execute_result"
    }
   ],
   "source": [
    "%%ai anthropic-chat:claude-3-opus-20240229 --format code\n",
    "\n",
    "{parent_prompt}\n",
    "\n",
    "Only do this for this file:\n",
    "\n",
    "```\n",
    "-rw-r--r--@ 1 me  staff   1.8G Jan  5  2023 hosp/labevents.csv.gz\n",
    "```"
   ]
  },
  {
   "cell_type": "code",
   "execution_count": 83,
   "metadata": {},
   "outputs": [
    {
     "data": {
      "application/vnd.jupyter.widget-view+json": {
       "model_id": "b3c7a151d68048769ce43c9cdd0cb6c0",
       "version_major": 2,
       "version_minor": 0
      },
      "text/plain": [
       "FloatProgress(value=0.0, layout=Layout(width='auto'), style=ProgressStyle(bar_color='black'))"
      ]
     },
     "metadata": {},
     "output_type": "display_data"
    },
    {
     "data": {
      "application/vnd.jupyter.widget-view+json": {
       "model_id": "de9038946dff41aa81787bd665f2d7a2",
       "version_major": 2,
       "version_minor": 0
      },
      "text/plain": [
       "FloatProgress(value=0.0, layout=Layout(width='auto'), style=ProgressStyle(bar_color='black'))"
      ]
     },
     "metadata": {},
     "output_type": "display_data"
    },
    {
     "data": {
      "text/html": [
       "<div>\n",
       "<style scoped>\n",
       "    .dataframe tbody tr th:only-of-type {\n",
       "        vertical-align: middle;\n",
       "    }\n",
       "\n",
       "    .dataframe tbody tr th {\n",
       "        vertical-align: top;\n",
       "    }\n",
       "\n",
       "    .dataframe thead th {\n",
       "        text-align: right;\n",
       "    }\n",
       "</style>\n",
       "<table border=\"1\" class=\"dataframe\">\n",
       "  <thead>\n",
       "    <tr style=\"text-align: right;\">\n",
       "      <th></th>\n",
       "      <th>Success</th>\n",
       "    </tr>\n",
       "  </thead>\n",
       "  <tbody>\n",
       "  </tbody>\n",
       "</table>\n",
       "</div>"
      ],
      "text/plain": [
       "Empty DataFrame\n",
       "Columns: [Success]\n",
       "Index: []"
      ]
     },
     "execution_count": 83,
     "metadata": {},
     "output_type": "execute_result"
    }
   ],
   "source": [
    "%%sql\n",
    "\n",
    "CREATE TABLE labevents AS \n",
    "SELECT *\n",
    "FROM read_csv_auto('hosp/labevents.csv.gz', ALL_VARCHAR=0, HEADER=1, SEP=',', FILENAME=1);\n",
    "\n",
    "COPY labevents TO 'labevents.parquet' (FORMAT PARQUET, CODEC ZSTD);"
   ]
  },
  {
   "cell_type": "code",
   "execution_count": 85,
   "metadata": {},
   "outputs": [
    {
     "data": {
      "text/html": [
       "AI generated code inserted below &#11015;&#65039;"
      ],
      "text/plain": [
       "<IPython.core.display.HTML object>"
      ]
     },
     "execution_count": 85,
     "metadata": {
      "text/html": {
       "jupyter_ai": {
        "model_id": "claude-3-opus-20240229",
        "provider_id": "anthropic-chat"
       }
      }
     },
     "output_type": "execute_result"
    }
   ],
   "source": [
    "%%ai anthropic-chat:claude-3-opus-20240229 --format code\n",
    "\n",
    "{parent_prompt}\n",
    "\n",
    "Only do this for this file:\n",
    "\n",
    "```\n",
    "-rw-r--r--@ 1 me  staff    92M Jan  5  2023 hosp/microbiologyevents.csv.gz\n",
    "```"
   ]
  },
  {
   "cell_type": "code",
   "execution_count": 87,
   "metadata": {},
   "outputs": [
    {
     "data": {
      "text/html": [
       "<div>\n",
       "<style scoped>\n",
       "    .dataframe tbody tr th:only-of-type {\n",
       "        vertical-align: middle;\n",
       "    }\n",
       "\n",
       "    .dataframe tbody tr th {\n",
       "        vertical-align: top;\n",
       "    }\n",
       "\n",
       "    .dataframe thead th {\n",
       "        text-align: right;\n",
       "    }\n",
       "</style>\n",
       "<table border=\"1\" class=\"dataframe\">\n",
       "  <thead>\n",
       "    <tr style=\"text-align: right;\">\n",
       "      <th></th>\n",
       "      <th>Success</th>\n",
       "    </tr>\n",
       "  </thead>\n",
       "  <tbody>\n",
       "  </tbody>\n",
       "</table>\n",
       "</div>"
      ],
      "text/plain": [
       "Empty DataFrame\n",
       "Columns: [Success]\n",
       "Index: []"
      ]
     },
     "execution_count": 87,
     "metadata": {},
     "output_type": "execute_result"
    }
   ],
   "source": [
    "%%sql\n",
    "\n",
    "CREATE TABLE microbiologyevents AS \n",
    "SELECT * \n",
    "FROM read_csv_auto('hosp/microbiologyevents.csv.gz');\n",
    "\n",
    "COPY microbiologyevents TO 'microbiologyevents.parquet' (FORMAT PARQUET, CODEC ZSTD);"
   ]
  },
  {
   "cell_type": "code",
   "execution_count": null,
   "metadata": {},
   "outputs": [],
   "source": [
    "%%sql\n",
    "\n",
    "CREATE TABLE microbiologyevents AS \n",
    "SELECT * FROM read_csv_auto('mimic-iv-2.2/hosp/microbiologyevents.csv.gz');\n",
    "\n",
    "COPY microbiologyevents TO 'microbiologyevents.parquet' (FORMAT 'parquet', CODEC 'ZSTD');"
   ]
  },
  {
   "cell_type": "code",
   "execution_count": 88,
   "metadata": {},
   "outputs": [
    {
     "data": {
      "text/html": [
       "AI generated code inserted below &#11015;&#65039;"
      ],
      "text/plain": [
       "<IPython.core.display.HTML object>"
      ]
     },
     "execution_count": 88,
     "metadata": {
      "text/html": {
       "jupyter_ai": {
        "model_id": "claude-3-opus-20240229",
        "provider_id": "anthropic-chat"
       }
      }
     },
     "output_type": "execute_result"
    }
   ],
   "source": [
    "%%ai anthropic-chat:claude-3-opus-20240229 --format code\n",
    "\n",
    "{parent_prompt}\n",
    "\n",
    "Only do this for this file:\n",
    "\n",
    "```\n",
    "-rw-r--r--@ 1 me  staff    34M Jan  5  2023 hosp/omr.csv.gz\n",
    "```"
   ]
  },
  {
   "cell_type": "code",
   "execution_count": 90,
   "metadata": {},
   "outputs": [
    {
     "data": {
      "text/html": [
       "<div>\n",
       "<style scoped>\n",
       "    .dataframe tbody tr th:only-of-type {\n",
       "        vertical-align: middle;\n",
       "    }\n",
       "\n",
       "    .dataframe tbody tr th {\n",
       "        vertical-align: top;\n",
       "    }\n",
       "\n",
       "    .dataframe thead th {\n",
       "        text-align: right;\n",
       "    }\n",
       "</style>\n",
       "<table border=\"1\" class=\"dataframe\">\n",
       "  <thead>\n",
       "    <tr style=\"text-align: right;\">\n",
       "      <th></th>\n",
       "      <th>Success</th>\n",
       "    </tr>\n",
       "  </thead>\n",
       "  <tbody>\n",
       "  </tbody>\n",
       "</table>\n",
       "</div>"
      ],
      "text/plain": [
       "Empty DataFrame\n",
       "Columns: [Success]\n",
       "Index: []"
      ]
     },
     "execution_count": 90,
     "metadata": {},
     "output_type": "execute_result"
    }
   ],
   "source": [
    "%%sql\n",
    "\n",
    "CREATE TABLE omr AS\n",
    "SELECT * \n",
    "FROM read_csv_auto('hosp/omr.csv.gz');\n",
    "\n",
    "COPY omr TO 'omr.parquet' (FORMAT PARQUET, CODEC ZSTD);"
   ]
  },
  {
   "cell_type": "code",
   "execution_count": 91,
   "metadata": {},
   "outputs": [
    {
     "data": {
      "text/html": [
       "AI generated code inserted below &#11015;&#65039;"
      ],
      "text/plain": [
       "<IPython.core.display.HTML object>"
      ]
     },
     "execution_count": 91,
     "metadata": {
      "text/html": {
       "jupyter_ai": {
        "model_id": "claude-3-opus-20240229",
        "provider_id": "anthropic-chat"
       }
      }
     },
     "output_type": "execute_result"
    }
   ],
   "source": [
    "%%ai anthropic-chat:claude-3-opus-20240229 --format code\n",
    "\n",
    "{parent_prompt}\n",
    "\n",
    "Only do this for this file:\n",
    "\n",
    "```\n",
    "-rw-r--r--@ 1 me  staff   2.2M Jan  5  2023 hosp/patients.csv.gz\n",
    "```"
   ]
  },
  {
   "cell_type": "code",
   "execution_count": 92,
   "metadata": {},
   "outputs": [
    {
     "data": {
      "text/html": [
       "<div>\n",
       "<style scoped>\n",
       "    .dataframe tbody tr th:only-of-type {\n",
       "        vertical-align: middle;\n",
       "    }\n",
       "\n",
       "    .dataframe tbody tr th {\n",
       "        vertical-align: top;\n",
       "    }\n",
       "\n",
       "    .dataframe thead th {\n",
       "        text-align: right;\n",
       "    }\n",
       "</style>\n",
       "<table border=\"1\" class=\"dataframe\">\n",
       "  <thead>\n",
       "    <tr style=\"text-align: right;\">\n",
       "      <th></th>\n",
       "      <th>Success</th>\n",
       "    </tr>\n",
       "  </thead>\n",
       "  <tbody>\n",
       "  </tbody>\n",
       "</table>\n",
       "</div>"
      ],
      "text/plain": [
       "Empty DataFrame\n",
       "Columns: [Success]\n",
       "Index: []"
      ]
     },
     "execution_count": 92,
     "metadata": {},
     "output_type": "execute_result"
    }
   ],
   "source": [
    "%%sql\n",
    "CREATE TABLE patients AS\n",
    "SELECT *\n",
    "FROM read_csv_auto('hosp/patients.csv.gz');\n",
    "\n",
    "COPY patients TO 'patients.parquet' (FORMAT PARQUET, CODEC ZSTD);"
   ]
  },
  {
   "cell_type": "code",
   "execution_count": 93,
   "metadata": {},
   "outputs": [
    {
     "data": {
      "text/html": [
       "AI generated code inserted below &#11015;&#65039;"
      ],
      "text/plain": [
       "<IPython.core.display.HTML object>"
      ]
     },
     "execution_count": 93,
     "metadata": {
      "text/html": {
       "jupyter_ai": {
        "model_id": "claude-3-opus-20240229",
        "provider_id": "anthropic-chat"
       }
      }
     },
     "output_type": "execute_result"
    }
   ],
   "source": [
    "%%ai anthropic-chat:claude-3-opus-20240229 --format code\n",
    "\n",
    "{parent_prompt}\n",
    "\n",
    "Only do this for this file:\n",
    "\n",
    "```\n",
    "-rw-r--r--@ 1 me  staff   380M Jan  5  2023 hosp/pharmacy.csv.gz\n",
    "```"
   ]
  },
  {
   "cell_type": "code",
   "execution_count": 95,
   "metadata": {},
   "outputs": [
    {
     "data": {
      "application/vnd.jupyter.widget-view+json": {
       "model_id": "404384ec17d14726b5352b28b9345f09",
       "version_major": 2,
       "version_minor": 0
      },
      "text/plain": [
       "FloatProgress(value=0.0, layout=Layout(width='auto'), style=ProgressStyle(bar_color='black'))"
      ]
     },
     "metadata": {},
     "output_type": "display_data"
    },
    {
     "data": {
      "application/vnd.jupyter.widget-view+json": {
       "model_id": "9585eed2ce504779bda58ba30f0a72a0",
       "version_major": 2,
       "version_minor": 0
      },
      "text/plain": [
       "FloatProgress(value=0.0, layout=Layout(width='auto'), style=ProgressStyle(bar_color='black'))"
      ]
     },
     "metadata": {},
     "output_type": "display_data"
    },
    {
     "data": {
      "text/html": [
       "<div>\n",
       "<style scoped>\n",
       "    .dataframe tbody tr th:only-of-type {\n",
       "        vertical-align: middle;\n",
       "    }\n",
       "\n",
       "    .dataframe tbody tr th {\n",
       "        vertical-align: top;\n",
       "    }\n",
       "\n",
       "    .dataframe thead th {\n",
       "        text-align: right;\n",
       "    }\n",
       "</style>\n",
       "<table border=\"1\" class=\"dataframe\">\n",
       "  <thead>\n",
       "    <tr style=\"text-align: right;\">\n",
       "      <th></th>\n",
       "      <th>Success</th>\n",
       "    </tr>\n",
       "  </thead>\n",
       "  <tbody>\n",
       "  </tbody>\n",
       "</table>\n",
       "</div>"
      ],
      "text/plain": [
       "Empty DataFrame\n",
       "Columns: [Success]\n",
       "Index: []"
      ]
     },
     "execution_count": 95,
     "metadata": {},
     "output_type": "execute_result"
    }
   ],
   "source": [
    "%%sql\n",
    "\n",
    "CREATE TABLE pharmacy AS \n",
    "SELECT *\n",
    "FROM read_csv_auto('hosp/pharmacy.csv.gz', all_varchar=True);\n",
    "\n",
    "COPY pharmacy TO 'pharmacy.parquet' (FORMAT PARQUET, CODEC 'ZSTD');"
   ]
  },
  {
   "cell_type": "code",
   "execution_count": 96,
   "metadata": {},
   "outputs": [
    {
     "data": {
      "text/html": [
       "AI generated code inserted below &#11015;&#65039;"
      ],
      "text/plain": [
       "<IPython.core.display.HTML object>"
      ]
     },
     "execution_count": 96,
     "metadata": {
      "text/html": {
       "jupyter_ai": {
        "model_id": "claude-3-opus-20240229",
        "provider_id": "anthropic-chat"
       }
      }
     },
     "output_type": "execute_result"
    }
   ],
   "source": [
    "%%ai anthropic-chat:claude-3-opus-20240229 --format code\n",
    "\n",
    "{parent_prompt}\n",
    "\n",
    "Only do this for this file:\n",
    "\n",
    "```\n",
    "-rw-r--r--@ 1 me  staff   475M Jan  5  2023 hosp/poe.csv.gz\n",
    "```"
   ]
  },
  {
   "cell_type": "code",
   "execution_count": 97,
   "metadata": {},
   "outputs": [
    {
     "data": {
      "application/vnd.jupyter.widget-view+json": {
       "model_id": "d0cf30bb21ae4e30999543e331fcdd75",
       "version_major": 2,
       "version_minor": 0
      },
      "text/plain": [
       "FloatProgress(value=0.0, layout=Layout(width='auto'), style=ProgressStyle(bar_color='black'))"
      ]
     },
     "metadata": {},
     "output_type": "display_data"
    },
    {
     "data": {
      "application/vnd.jupyter.widget-view+json": {
       "model_id": "b585e5c5b8784c61a9eaa8ea41bc72ce",
       "version_major": 2,
       "version_minor": 0
      },
      "text/plain": [
       "FloatProgress(value=0.0, layout=Layout(width='auto'), style=ProgressStyle(bar_color='black'))"
      ]
     },
     "metadata": {},
     "output_type": "display_data"
    },
    {
     "data": {
      "text/html": [
       "<div>\n",
       "<style scoped>\n",
       "    .dataframe tbody tr th:only-of-type {\n",
       "        vertical-align: middle;\n",
       "    }\n",
       "\n",
       "    .dataframe tbody tr th {\n",
       "        vertical-align: top;\n",
       "    }\n",
       "\n",
       "    .dataframe thead th {\n",
       "        text-align: right;\n",
       "    }\n",
       "</style>\n",
       "<table border=\"1\" class=\"dataframe\">\n",
       "  <thead>\n",
       "    <tr style=\"text-align: right;\">\n",
       "      <th></th>\n",
       "      <th>Success</th>\n",
       "    </tr>\n",
       "  </thead>\n",
       "  <tbody>\n",
       "  </tbody>\n",
       "</table>\n",
       "</div>"
      ],
      "text/plain": [
       "Empty DataFrame\n",
       "Columns: [Success]\n",
       "Index: []"
      ]
     },
     "execution_count": 97,
     "metadata": {},
     "output_type": "execute_result"
    }
   ],
   "source": [
    "%%sql\n",
    "CREATE TABLE hosp_poe AS \n",
    "SELECT * FROM read_csv_auto('hosp/poe.csv.gz');\n",
    "\n",
    "COPY hosp_poe TO 'hosp_poe.parquet' (FORMAT PARQUET, CODEC ZSTD);"
   ]
  },
  {
   "cell_type": "code",
   "execution_count": 98,
   "metadata": {},
   "outputs": [
    {
     "data": {
      "text/html": [
       "AI generated code inserted below &#11015;&#65039;"
      ],
      "text/plain": [
       "<IPython.core.display.HTML object>"
      ]
     },
     "execution_count": 98,
     "metadata": {
      "text/html": {
       "jupyter_ai": {
        "model_id": "claude-3-opus-20240229",
        "provider_id": "anthropic-chat"
       }
      }
     },
     "output_type": "execute_result"
    }
   ],
   "source": [
    "%%ai anthropic-chat:claude-3-opus-20240229 --format code\n",
    "\n",
    "{parent_prompt}\n",
    "\n",
    "Only do this for this file:\n",
    "\n",
    "```\n",
    "-rw-r--r--@ 1 me  staff    24M Jan  5  2023 hosp/poe_detail.csv.gz\n",
    "```"
   ]
  },
  {
   "cell_type": "code",
   "execution_count": 101,
   "metadata": {},
   "outputs": [
    {
     "data": {
      "text/html": [
       "<div>\n",
       "<style scoped>\n",
       "    .dataframe tbody tr th:only-of-type {\n",
       "        vertical-align: middle;\n",
       "    }\n",
       "\n",
       "    .dataframe tbody tr th {\n",
       "        vertical-align: top;\n",
       "    }\n",
       "\n",
       "    .dataframe thead th {\n",
       "        text-align: right;\n",
       "    }\n",
       "</style>\n",
       "<table border=\"1\" class=\"dataframe\">\n",
       "  <thead>\n",
       "    <tr style=\"text-align: right;\">\n",
       "      <th></th>\n",
       "      <th>Success</th>\n",
       "    </tr>\n",
       "  </thead>\n",
       "  <tbody>\n",
       "  </tbody>\n",
       "</table>\n",
       "</div>"
      ],
      "text/plain": [
       "Empty DataFrame\n",
       "Columns: [Success]\n",
       "Index: []"
      ]
     },
     "execution_count": 101,
     "metadata": {},
     "output_type": "execute_result"
    }
   ],
   "source": [
    "%%sql\n",
    "\n",
    "CREATE TABLE poe_detail AS \n",
    "SELECT * FROM read_csv(\n",
    "  'hosp/poe_detail.csv.gz',\n",
    "  delim=',',\n",
    "  quote='\"',\n",
    "  escape='\"',\n",
    "  header=True,\n",
    "  all_varchar=False,\n",
    "  parallel=True,\n",
    "  compression='gzip'\n",
    ");\n",
    "\n",
    "COPY poe_detail TO 'poe_detail.parquet' (FORMAT PARQUET, CODEC ZSTD);"
   ]
  },
  {
   "cell_type": "code",
   "execution_count": 103,
   "metadata": {},
   "outputs": [
    {
     "data": {
      "text/html": [
       "AI generated code inserted below &#11015;&#65039;"
      ],
      "text/plain": [
       "<IPython.core.display.HTML object>"
      ]
     },
     "execution_count": 103,
     "metadata": {
      "text/html": {
       "jupyter_ai": {
        "model_id": "claude-3-opus-20240229",
        "provider_id": "anthropic-chat"
       }
      }
     },
     "output_type": "execute_result"
    }
   ],
   "source": [
    "%%ai anthropic-chat:claude-3-opus-20240229 --format code\n",
    "\n",
    "{parent_prompt}\n",
    "\n",
    "Only do this for this file:\n",
    "\n",
    "```\n",
    "-rw-r--r--@ 1 me  staff   438M Jan  5  2023 hosp/prescriptions.csv.gz\n",
    "```"
   ]
  },
  {
   "cell_type": "code",
   "execution_count": 107,
   "metadata": {},
   "outputs": [
    {
     "data": {
      "application/vnd.jupyter.widget-view+json": {
       "model_id": "ee5e05a8e3b847c28cc759f25f6c68f4",
       "version_major": 2,
       "version_minor": 0
      },
      "text/plain": [
       "FloatProgress(value=0.0, layout=Layout(width='auto'), style=ProgressStyle(bar_color='black'))"
      ]
     },
     "metadata": {},
     "output_type": "display_data"
    },
    {
     "data": {
      "application/vnd.jupyter.widget-view+json": {
       "model_id": "546bfb8cf5364ea092811bc9528f2043",
       "version_major": 2,
       "version_minor": 0
      },
      "text/plain": [
       "FloatProgress(value=0.0, layout=Layout(width='auto'), style=ProgressStyle(bar_color='black'))"
      ]
     },
     "metadata": {},
     "output_type": "display_data"
    },
    {
     "data": {
      "text/html": [
       "<div>\n",
       "<style scoped>\n",
       "    .dataframe tbody tr th:only-of-type {\n",
       "        vertical-align: middle;\n",
       "    }\n",
       "\n",
       "    .dataframe tbody tr th {\n",
       "        vertical-align: top;\n",
       "    }\n",
       "\n",
       "    .dataframe thead th {\n",
       "        text-align: right;\n",
       "    }\n",
       "</style>\n",
       "<table border=\"1\" class=\"dataframe\">\n",
       "  <thead>\n",
       "    <tr style=\"text-align: right;\">\n",
       "      <th></th>\n",
       "      <th>Success</th>\n",
       "    </tr>\n",
       "  </thead>\n",
       "  <tbody>\n",
       "  </tbody>\n",
       "</table>\n",
       "</div>"
      ],
      "text/plain": [
       "Empty DataFrame\n",
       "Columns: [Success]\n",
       "Index: []"
      ]
     },
     "execution_count": 107,
     "metadata": {},
     "output_type": "execute_result"
    }
   ],
   "source": [
    "%%sql\n",
    "\n",
    "CREATE TABLE prescriptions AS \n",
    "SELECT *\n",
    "FROM read_csv_auto('hosp/prescriptions.csv.gz');\n",
    "\n",
    "COPY prescriptions TO 'prescriptions.parquet' (FORMAT PARQUET, CODEC ZSTD);"
   ]
  },
  {
   "cell_type": "code",
   "execution_count": 113,
   "metadata": {},
   "outputs": [
    {
     "data": {
      "text/html": [
       "AI generated code inserted below &#11015;&#65039;"
      ],
      "text/plain": [
       "<IPython.core.display.HTML object>"
      ]
     },
     "execution_count": 113,
     "metadata": {
      "text/html": {
       "jupyter_ai": {
        "model_id": "claude-3-opus-20240229",
        "provider_id": "anthropic-chat"
       }
      }
     },
     "output_type": "execute_result"
    }
   ],
   "source": [
    "%%ai anthropic-chat:claude-3-opus-20240229 --format code\n",
    "\n",
    "{parent_prompt}\n",
    "\n",
    "Only do this for this file:\n",
    "\n",
    "```\n",
    "-rw-r--r--@ 1 me  staff   5.7M Jan  5  2023 hosp/procedures_icd.csv.gz\n",
    "```"
   ]
  },
  {
   "cell_type": "code",
   "execution_count": 111,
   "metadata": {},
   "outputs": [
    {
     "data": {
      "text/html": [
       "<div>\n",
       "<style scoped>\n",
       "    .dataframe tbody tr th:only-of-type {\n",
       "        vertical-align: middle;\n",
       "    }\n",
       "\n",
       "    .dataframe tbody tr th {\n",
       "        vertical-align: top;\n",
       "    }\n",
       "\n",
       "    .dataframe thead th {\n",
       "        text-align: right;\n",
       "    }\n",
       "</style>\n",
       "<table border=\"1\" class=\"dataframe\">\n",
       "  <thead>\n",
       "    <tr style=\"text-align: right;\">\n",
       "      <th></th>\n",
       "      <th>Success</th>\n",
       "    </tr>\n",
       "  </thead>\n",
       "  <tbody>\n",
       "  </tbody>\n",
       "</table>\n",
       "</div>"
      ],
      "text/plain": [
       "Empty DataFrame\n",
       "Columns: [Success]\n",
       "Index: []"
      ]
     },
     "execution_count": 111,
     "metadata": {},
     "output_type": "execute_result"
    }
   ],
   "source": [
    "%%sql\n",
    "\n",
    "CREATE TABLE procedures_icd AS \n",
    "SELECT *\n",
    "FROM read_csv_auto('hosp/procedures_icd.csv.gz');\n",
    "\n",
    "COPY procedures_icd TO 'procedures_icd.parquet' (FORMAT PARQUET, CODEC ZSTD);"
   ]
  },
  {
   "cell_type": "code",
   "execution_count": 112,
   "metadata": {},
   "outputs": [
    {
     "data": {
      "text/html": [
       "AI generated code inserted below &#11015;&#65039;"
      ],
      "text/plain": [
       "<IPython.core.display.HTML object>"
      ]
     },
     "execution_count": 112,
     "metadata": {
      "text/html": {
       "jupyter_ai": {
        "model_id": "claude-3-opus-20240229",
        "provider_id": "anthropic-chat"
       }
      }
     },
     "output_type": "execute_result"
    }
   ],
   "source": [
    "%%ai anthropic-chat:claude-3-opus-20240229 --format code\n",
    "\n",
    "{parent_prompt}\n",
    "\n",
    "Only do this for this file:\n",
    "\n",
    "```\n",
    "-rw-r--r--@ 1 me  staff   120K Jan  5  2023 hosp/provider.csv.gz\n",
    "```"
   ]
  },
  {
   "cell_type": "code",
   "execution_count": 114,
   "metadata": {},
   "outputs": [
    {
     "data": {
      "text/html": [
       "<div>\n",
       "<style scoped>\n",
       "    .dataframe tbody tr th:only-of-type {\n",
       "        vertical-align: middle;\n",
       "    }\n",
       "\n",
       "    .dataframe tbody tr th {\n",
       "        vertical-align: top;\n",
       "    }\n",
       "\n",
       "    .dataframe thead th {\n",
       "        text-align: right;\n",
       "    }\n",
       "</style>\n",
       "<table border=\"1\" class=\"dataframe\">\n",
       "  <thead>\n",
       "    <tr style=\"text-align: right;\">\n",
       "      <th></th>\n",
       "      <th>Success</th>\n",
       "    </tr>\n",
       "  </thead>\n",
       "  <tbody>\n",
       "  </tbody>\n",
       "</table>\n",
       "</div>"
      ],
      "text/plain": [
       "Empty DataFrame\n",
       "Columns: [Success]\n",
       "Index: []"
      ]
     },
     "execution_count": 114,
     "metadata": {},
     "output_type": "execute_result"
    }
   ],
   "source": [
    "%%sql\n",
    "\n",
    "CREATE TABLE provider AS\n",
    "SELECT * \n",
    "FROM read_csv_auto('hosp/provider.csv.gz', header=True, compression='gzip');\n",
    "\n",
    "COPY (SELECT * FROM provider) TO 'provider.parquet' (FORMAT 'parquet', CODEC 'ZSTD');"
   ]
  },
  {
   "cell_type": "code",
   "execution_count": 115,
   "metadata": {},
   "outputs": [
    {
     "data": {
      "text/html": [
       "AI generated code inserted below &#11015;&#65039;"
      ],
      "text/plain": [
       "<IPython.core.display.HTML object>"
      ]
     },
     "execution_count": 115,
     "metadata": {
      "text/html": {
       "jupyter_ai": {
        "model_id": "claude-3-opus-20240229",
        "provider_id": "anthropic-chat"
       }
      }
     },
     "output_type": "execute_result"
    }
   ],
   "source": [
    "%%ai anthropic-chat:claude-3-opus-20240229 --format code\n",
    "\n",
    "{parent_prompt}\n",
    "\n",
    "Only do this for this file:\n",
    "\n",
    "```\n",
    "-rw-r--r--@ 1 me  staff   6.5M Jan  5  2023 hosp/services.csv.gz\n",
    "```"
   ]
  },
  {
   "cell_type": "code",
   "execution_count": 116,
   "metadata": {},
   "outputs": [
    {
     "data": {
      "text/html": [
       "<div>\n",
       "<style scoped>\n",
       "    .dataframe tbody tr th:only-of-type {\n",
       "        vertical-align: middle;\n",
       "    }\n",
       "\n",
       "    .dataframe tbody tr th {\n",
       "        vertical-align: top;\n",
       "    }\n",
       "\n",
       "    .dataframe thead th {\n",
       "        text-align: right;\n",
       "    }\n",
       "</style>\n",
       "<table border=\"1\" class=\"dataframe\">\n",
       "  <thead>\n",
       "    <tr style=\"text-align: right;\">\n",
       "      <th></th>\n",
       "      <th>Success</th>\n",
       "    </tr>\n",
       "  </thead>\n",
       "  <tbody>\n",
       "  </tbody>\n",
       "</table>\n",
       "</div>"
      ],
      "text/plain": [
       "Empty DataFrame\n",
       "Columns: [Success]\n",
       "Index: []"
      ]
     },
     "execution_count": 116,
     "metadata": {},
     "output_type": "execute_result"
    }
   ],
   "source": [
    "%%sql\n",
    "\n",
    "CREATE TABLE services AS \n",
    "SELECT *\n",
    "FROM read_csv_auto('hosp/services.csv.gz');\n",
    "\n",
    "COPY services TO 'services.parquet' (FORMAT PARQUET, CODEC ZSTD);"
   ]
  },
  {
   "cell_type": "code",
   "execution_count": 117,
   "metadata": {},
   "outputs": [
    {
     "data": {
      "text/html": [
       "AI generated code inserted below &#11015;&#65039;"
      ],
      "text/plain": [
       "<IPython.core.display.HTML object>"
      ]
     },
     "execution_count": 117,
     "metadata": {
      "text/html": {
       "jupyter_ai": {
        "model_id": "claude-3-opus-20240229",
        "provider_id": "anthropic-chat"
       }
      }
     },
     "output_type": "execute_result"
    }
   ],
   "source": [
    "%%ai anthropic-chat:claude-3-opus-20240229 --format code\n",
    "\n",
    "{parent_prompt}\n",
    "\n",
    "Only do this for this file:\n",
    "\n",
    "```\n",
    "-rw-r--r--@ 1 me  staff    34M Jan  5  2023 hosp/transfers.csv.gz\n",
    "```"
   ]
  },
  {
   "cell_type": "code",
   "execution_count": 119,
   "metadata": {},
   "outputs": [
    {
     "data": {
      "text/html": [
       "<div>\n",
       "<style scoped>\n",
       "    .dataframe tbody tr th:only-of-type {\n",
       "        vertical-align: middle;\n",
       "    }\n",
       "\n",
       "    .dataframe tbody tr th {\n",
       "        vertical-align: top;\n",
       "    }\n",
       "\n",
       "    .dataframe thead th {\n",
       "        text-align: right;\n",
       "    }\n",
       "</style>\n",
       "<table border=\"1\" class=\"dataframe\">\n",
       "  <thead>\n",
       "    <tr style=\"text-align: right;\">\n",
       "      <th></th>\n",
       "      <th>Success</th>\n",
       "    </tr>\n",
       "  </thead>\n",
       "  <tbody>\n",
       "  </tbody>\n",
       "</table>\n",
       "</div>"
      ],
      "text/plain": [
       "Empty DataFrame\n",
       "Columns: [Success]\n",
       "Index: []"
      ]
     },
     "execution_count": 119,
     "metadata": {},
     "output_type": "execute_result"
    }
   ],
   "source": [
    "%%sql\n",
    "\n",
    "CREATE TABLE transfers AS\n",
    "SELECT * \n",
    "FROM read_csv_auto('hosp/transfers.csv.gz');\n",
    "\n",
    "COPY (\n",
    "    SELECT *\n",
    "    FROM transfers\n",
    ") TO 'transfers.parquet' (FORMAT 'parquet', CODEC 'ZSTD');"
   ]
  },
  {
   "cell_type": "code",
   "execution_count": 120,
   "metadata": {},
   "outputs": [
    {
     "data": {
      "text/html": [
       "AI generated code inserted below &#11015;&#65039;"
      ],
      "text/plain": [
       "<IPython.core.display.HTML object>"
      ]
     },
     "execution_count": 120,
     "metadata": {
      "text/html": {
       "jupyter_ai": {
        "model_id": "claude-3-opus-20240229",
        "provider_id": "anthropic-chat"
       }
      }
     },
     "output_type": "execute_result"
    }
   ],
   "source": [
    "%%ai anthropic-chat:claude-3-opus-20240229 --format code\n",
    "\n",
    "{parent_prompt}\n",
    "\n",
    "Only do this for this file:\n",
    "\n",
    "```\n",
    "-rw-r--r--@ 1 me  staff    35K Jan  5  2023 icu/caregiver.csv.gz\n",
    "```"
   ]
  },
  {
   "cell_type": "code",
   "execution_count": 121,
   "metadata": {},
   "outputs": [
    {
     "data": {
      "text/html": [
       "<div>\n",
       "<style scoped>\n",
       "    .dataframe tbody tr th:only-of-type {\n",
       "        vertical-align: middle;\n",
       "    }\n",
       "\n",
       "    .dataframe tbody tr th {\n",
       "        vertical-align: top;\n",
       "    }\n",
       "\n",
       "    .dataframe thead th {\n",
       "        text-align: right;\n",
       "    }\n",
       "</style>\n",
       "<table border=\"1\" class=\"dataframe\">\n",
       "  <thead>\n",
       "    <tr style=\"text-align: right;\">\n",
       "      <th></th>\n",
       "      <th>Success</th>\n",
       "    </tr>\n",
       "  </thead>\n",
       "  <tbody>\n",
       "  </tbody>\n",
       "</table>\n",
       "</div>"
      ],
      "text/plain": [
       "Empty DataFrame\n",
       "Columns: [Success]\n",
       "Index: []"
      ]
     },
     "execution_count": 121,
     "metadata": {},
     "output_type": "execute_result"
    }
   ],
   "source": [
    "%%sql\n",
    "\n",
    "CREATE TABLE caregiver AS \n",
    "SELECT * \n",
    "FROM read_csv('icu/caregiver.csv.gz', header=True, compression='gzip');\n",
    "\n",
    "COPY caregiver TO 'caregiver.parquet' (FORMAT 'parquet', CODEC 'ZSTD');"
   ]
  },
  {
   "cell_type": "code",
   "execution_count": 122,
   "metadata": {},
   "outputs": [
    {
     "data": {
      "text/html": [
       "AI generated code inserted below &#11015;&#65039;"
      ],
      "text/plain": [
       "<IPython.core.display.HTML object>"
      ]
     },
     "execution_count": 122,
     "metadata": {
      "text/html": {
       "jupyter_ai": {
        "model_id": "claude-3-opus-20240229",
        "provider_id": "anthropic-chat"
       }
      }
     },
     "output_type": "execute_result"
    }
   ],
   "source": [
    "%%ai anthropic-chat:claude-3-opus-20240229 --format code\n",
    "\n",
    "{parent_prompt}\n",
    "\n",
    "Only do this for this file:\n",
    "\n",
    "```\n",
    "-rw-r--r--@ 1 me  staff   2.3G Jan  5  2023 icu/chartevents.csv.gz\n",
    "```"
   ]
  },
  {
   "cell_type": "code",
   "execution_count": 127,
   "metadata": {},
   "outputs": [
    {
     "data": {
      "application/vnd.jupyter.widget-view+json": {
       "model_id": "1e99e80a3aff4b65a036e9ebbc0df683",
       "version_major": 2,
       "version_minor": 0
      },
      "text/plain": [
       "FloatProgress(value=0.0, layout=Layout(width='auto'), style=ProgressStyle(bar_color='black'))"
      ]
     },
     "metadata": {},
     "output_type": "display_data"
    },
    {
     "data": {
      "application/vnd.jupyter.widget-view+json": {
       "model_id": "0a55a1f8b486403691b6e3b1967802bf",
       "version_major": 2,
       "version_minor": 0
      },
      "text/plain": [
       "FloatProgress(value=0.0, layout=Layout(width='auto'), style=ProgressStyle(bar_color='black'))"
      ]
     },
     "metadata": {},
     "output_type": "display_data"
    },
    {
     "data": {
      "text/html": [
       "<div>\n",
       "<style scoped>\n",
       "    .dataframe tbody tr th:only-of-type {\n",
       "        vertical-align: middle;\n",
       "    }\n",
       "\n",
       "    .dataframe tbody tr th {\n",
       "        vertical-align: top;\n",
       "    }\n",
       "\n",
       "    .dataframe thead th {\n",
       "        text-align: right;\n",
       "    }\n",
       "</style>\n",
       "<table border=\"1\" class=\"dataframe\">\n",
       "  <thead>\n",
       "    <tr style=\"text-align: right;\">\n",
       "      <th></th>\n",
       "      <th>Success</th>\n",
       "    </tr>\n",
       "  </thead>\n",
       "  <tbody>\n",
       "  </tbody>\n",
       "</table>\n",
       "</div>"
      ],
      "text/plain": [
       "Empty DataFrame\n",
       "Columns: [Success]\n",
       "Index: []"
      ]
     },
     "execution_count": 127,
     "metadata": {},
     "output_type": "execute_result"
    }
   ],
   "source": [
    "%%sql\n",
    "CREATE TABLE chartevents AS \n",
    "SELECT *\n",
    "FROM read_csv_auto('icu/chartevents.csv.gz', \n",
    "    header=True,\n",
    "    compression='gzip',\n",
    "    dateformat='%Y-%m-%d %H:%M:%S',\n",
    "    timestampformat='%Y-%m-%d %H:%M:%S'\n",
    ");\n",
    "\n",
    "COPY chartevents TO 'chartevents.parquet' (FORMAT 'parquet', CODEC 'ZSTD');"
   ]
  },
  {
   "cell_type": "code",
   "execution_count": 128,
   "metadata": {},
   "outputs": [
    {
     "data": {
      "text/html": [
       "AI generated code inserted below &#11015;&#65039;"
      ],
      "text/plain": [
       "<IPython.core.display.HTML object>"
      ]
     },
     "execution_count": 128,
     "metadata": {
      "text/html": {
       "jupyter_ai": {
        "model_id": "claude-3-opus-20240229",
        "provider_id": "anthropic-chat"
       }
      }
     },
     "output_type": "execute_result"
    }
   ],
   "source": [
    "%%ai anthropic-chat:claude-3-opus-20240229 --format code\n",
    "\n",
    "{parent_prompt}\n",
    "\n",
    "Only do this for this file:\n",
    "\n",
    "```\n",
    "-rw-r--r--@ 1 me  staff    56K Jan  5  2023 icu/d_items.csv.gz\n",
    "```"
   ]
  },
  {
   "cell_type": "code",
   "execution_count": 129,
   "metadata": {},
   "outputs": [
    {
     "data": {
      "text/html": [
       "<div>\n",
       "<style scoped>\n",
       "    .dataframe tbody tr th:only-of-type {\n",
       "        vertical-align: middle;\n",
       "    }\n",
       "\n",
       "    .dataframe tbody tr th {\n",
       "        vertical-align: top;\n",
       "    }\n",
       "\n",
       "    .dataframe thead th {\n",
       "        text-align: right;\n",
       "    }\n",
       "</style>\n",
       "<table border=\"1\" class=\"dataframe\">\n",
       "  <thead>\n",
       "    <tr style=\"text-align: right;\">\n",
       "      <th></th>\n",
       "      <th>Success</th>\n",
       "    </tr>\n",
       "  </thead>\n",
       "  <tbody>\n",
       "  </tbody>\n",
       "</table>\n",
       "</div>"
      ],
      "text/plain": [
       "Empty DataFrame\n",
       "Columns: [Success]\n",
       "Index: []"
      ]
     },
     "execution_count": 129,
     "metadata": {},
     "output_type": "execute_result"
    }
   ],
   "source": [
    "%%sql\n",
    "\n",
    "CREATE TABLE d_items AS \n",
    "SELECT * \n",
    "FROM read_csv_auto('icu/d_items.csv.gz');\n",
    "\n",
    "COPY d_items TO 'icu/d_items.parquet' (FORMAT PARQUET, CODEC ZSTD);"
   ]
  },
  {
   "cell_type": "code",
   "execution_count": 130,
   "metadata": {},
   "outputs": [
    {
     "data": {
      "text/html": [
       "AI generated code inserted below &#11015;&#65039;"
      ],
      "text/plain": [
       "<IPython.core.display.HTML object>"
      ]
     },
     "execution_count": 130,
     "metadata": {
      "text/html": {
       "jupyter_ai": {
        "model_id": "claude-3-opus-20240229",
        "provider_id": "anthropic-chat"
       }
      }
     },
     "output_type": "execute_result"
    }
   ],
   "source": [
    "%%ai anthropic-chat:claude-3-opus-20240229 --format code\n",
    "\n",
    "{parent_prompt}\n",
    "\n",
    "Only do this for this file:\n",
    "\n",
    "```\n",
    "-rw-r--r--@ 1 me  staff    44M Jan  5  2023 icu/datetimeevents.csv.gz\n",
    "```"
   ]
  },
  {
   "cell_type": "code",
   "execution_count": 131,
   "metadata": {},
   "outputs": [
    {
     "data": {
      "text/html": [
       "<div>\n",
       "<style scoped>\n",
       "    .dataframe tbody tr th:only-of-type {\n",
       "        vertical-align: middle;\n",
       "    }\n",
       "\n",
       "    .dataframe tbody tr th {\n",
       "        vertical-align: top;\n",
       "    }\n",
       "\n",
       "    .dataframe thead th {\n",
       "        text-align: right;\n",
       "    }\n",
       "</style>\n",
       "<table border=\"1\" class=\"dataframe\">\n",
       "  <thead>\n",
       "    <tr style=\"text-align: right;\">\n",
       "      <th></th>\n",
       "      <th>Success</th>\n",
       "    </tr>\n",
       "  </thead>\n",
       "  <tbody>\n",
       "  </tbody>\n",
       "</table>\n",
       "</div>"
      ],
      "text/plain": [
       "Empty DataFrame\n",
       "Columns: [Success]\n",
       "Index: []"
      ]
     },
     "execution_count": 131,
     "metadata": {},
     "output_type": "execute_result"
    }
   ],
   "source": [
    "%%sql\n",
    "\n",
    "CREATE OR REPLACE TABLE datetimeevents AS \n",
    "SELECT * \n",
    "FROM read_csv('icu/datetimeevents.csv.gz', header=True, compression='gzip');\n",
    "\n",
    "COPY (\n",
    "    SELECT *\n",
    "    FROM datetimeevents\n",
    ") TO 'datetimeevents.parquet' (FORMAT 'parquet', CODEC 'ZSTD');"
   ]
  },
  {
   "cell_type": "code",
   "execution_count": 132,
   "metadata": {},
   "outputs": [
    {
     "data": {
      "text/html": [
       "AI generated code inserted below &#11015;&#65039;"
      ],
      "text/plain": [
       "<IPython.core.display.HTML object>"
      ]
     },
     "execution_count": 132,
     "metadata": {
      "text/html": {
       "jupyter_ai": {
        "model_id": "claude-3-opus-20240229",
        "provider_id": "anthropic-chat"
       }
      }
     },
     "output_type": "execute_result"
    }
   ],
   "source": [
    "%%ai anthropic-chat:claude-3-opus-20240229 --format code\n",
    "\n",
    "{parent_prompt}\n",
    "\n",
    "Only do this for this file:\n",
    "\n",
    "```\n",
    "-rw-r--r--@ 1 me  staff   2.5M Jan  5  2023 icu/icustays.csv.gz\n",
    "```"
   ]
  },
  {
   "cell_type": "code",
   "execution_count": 134,
   "metadata": {},
   "outputs": [
    {
     "data": {
      "text/html": [
       "<div>\n",
       "<style scoped>\n",
       "    .dataframe tbody tr th:only-of-type {\n",
       "        vertical-align: middle;\n",
       "    }\n",
       "\n",
       "    .dataframe tbody tr th {\n",
       "        vertical-align: top;\n",
       "    }\n",
       "\n",
       "    .dataframe thead th {\n",
       "        text-align: right;\n",
       "    }\n",
       "</style>\n",
       "<table border=\"1\" class=\"dataframe\">\n",
       "  <thead>\n",
       "    <tr style=\"text-align: right;\">\n",
       "      <th></th>\n",
       "      <th>Success</th>\n",
       "    </tr>\n",
       "  </thead>\n",
       "  <tbody>\n",
       "  </tbody>\n",
       "</table>\n",
       "</div>"
      ],
      "text/plain": [
       "Empty DataFrame\n",
       "Columns: [Success]\n",
       "Index: []"
      ]
     },
     "execution_count": 134,
     "metadata": {},
     "output_type": "execute_result"
    }
   ],
   "source": [
    "%%sql\n",
    "\n",
    "CREATE TABLE icu_icustays AS \n",
    "SELECT * \n",
    "FROM read_csv('icu/icustays.csv.gz', header=True, compression='gzip');\n",
    "\n",
    "COPY icu_icustays TO 'icu_icustays.parquet' (FORMAT PARQUET, CODEC ZSTD);"
   ]
  },
  {
   "cell_type": "code",
   "execution_count": 135,
   "metadata": {},
   "outputs": [
    {
     "data": {
      "text/html": [
       "AI generated code inserted below &#11015;&#65039;"
      ],
      "text/plain": [
       "<IPython.core.display.HTML object>"
      ]
     },
     "execution_count": 135,
     "metadata": {
      "text/html": {
       "jupyter_ai": {
        "model_id": "claude-3-opus-20240229",
        "provider_id": "anthropic-chat"
       }
      }
     },
     "output_type": "execute_result"
    }
   ],
   "source": [
    "%%ai anthropic-chat:claude-3-opus-20240229 --format code\n",
    "\n",
    "{parent_prompt}\n",
    "\n",
    "Only do this for this file:\n",
    "\n",
    "```\n",
    "-rw-r--r--@ 1 me  staff   240M Jan  5  2023 icu/ingredientevents.csv.gz\n",
    "```"
   ]
  },
  {
   "cell_type": "code",
   "execution_count": 137,
   "metadata": {},
   "outputs": [
    {
     "data": {
      "application/vnd.jupyter.widget-view+json": {
       "model_id": "1de4a10f9d5347649207b79797ca41e1",
       "version_major": 2,
       "version_minor": 0
      },
      "text/plain": [
       "FloatProgress(value=0.0, layout=Layout(width='auto'), style=ProgressStyle(bar_color='black'))"
      ]
     },
     "metadata": {},
     "output_type": "display_data"
    },
    {
     "data": {
      "application/vnd.jupyter.widget-view+json": {
       "model_id": "c8e31d8e4e154995ae845b3c3097e122",
       "version_major": 2,
       "version_minor": 0
      },
      "text/plain": [
       "FloatProgress(value=0.0, layout=Layout(width='auto'), style=ProgressStyle(bar_color='black'))"
      ]
     },
     "metadata": {},
     "output_type": "display_data"
    },
    {
     "data": {
      "text/html": [
       "<div>\n",
       "<style scoped>\n",
       "    .dataframe tbody tr th:only-of-type {\n",
       "        vertical-align: middle;\n",
       "    }\n",
       "\n",
       "    .dataframe tbody tr th {\n",
       "        vertical-align: top;\n",
       "    }\n",
       "\n",
       "    .dataframe thead th {\n",
       "        text-align: right;\n",
       "    }\n",
       "</style>\n",
       "<table border=\"1\" class=\"dataframe\">\n",
       "  <thead>\n",
       "    <tr style=\"text-align: right;\">\n",
       "      <th></th>\n",
       "      <th>Success</th>\n",
       "    </tr>\n",
       "  </thead>\n",
       "  <tbody>\n",
       "  </tbody>\n",
       "</table>\n",
       "</div>"
      ],
      "text/plain": [
       "Empty DataFrame\n",
       "Columns: [Success]\n",
       "Index: []"
      ]
     },
     "execution_count": 137,
     "metadata": {},
     "output_type": "execute_result"
    }
   ],
   "source": [
    "%%sql\n",
    "\n",
    "CREATE TABLE ingredientevents AS \n",
    "SELECT * \n",
    "FROM read_csv('icu/ingredientevents.csv.gz', \n",
    "    header=True,\n",
    "    columns={\n",
    "        'subject_id': 'INT',\n",
    "        'hadm_id': 'INT',\n",
    "        'stay_id': 'INT',\n",
    "        'caregiver_id': 'INT',\n",
    "        'starttime': 'TIMESTAMP',\n",
    "        'endtime': 'TIMESTAMP',\n",
    "        'storetime': 'TIMESTAMP',\n",
    "        'itemid': 'INT',\n",
    "        'amount': 'DOUBLE',\n",
    "        'amountuom': 'VARCHAR',\n",
    "        'rate': 'DOUBLE',\n",
    "        'rateuom': 'VARCHAR',\n",
    "        'orderid': 'INT',\n",
    "        'linkorderid': 'INT',\n",
    "        'statusdescription': 'VARCHAR',\n",
    "        'originalamount': 'DOUBLE',\n",
    "        'originalrate': 'DOUBLE'\n",
    "    },\n",
    "    auto_detect=True,\n",
    "    dateformat = '%Y-%m-%d %H:%M:%S'\n",
    ");\n",
    "\n",
    "COPY (\n",
    "    SELECT *\n",
    "    FROM ingredientevents\n",
    ")\n",
    "TO 'ingredientevents.parquet' (FORMAT 'PARQUET', CODEC 'ZSTD');"
   ]
  },
  {
   "cell_type": "code",
   "execution_count": 139,
   "metadata": {},
   "outputs": [
    {
     "data": {
      "text/html": [
       "AI generated code inserted below &#11015;&#65039;"
      ],
      "text/plain": [
       "<IPython.core.display.HTML object>"
      ]
     },
     "execution_count": 139,
     "metadata": {
      "text/html": {
       "jupyter_ai": {
        "model_id": "claude-3-opus-20240229",
        "provider_id": "anthropic-chat"
       }
      }
     },
     "output_type": "execute_result"
    }
   ],
   "source": [
    "%%ai anthropic-chat:claude-3-opus-20240229 --format code\n",
    "\n",
    "{parent_prompt}\n",
    "\n",
    "Only do this for this file:\n",
    "\n",
    "```\n",
    "-rw-r--r--@ 1 me  staff   309M Jan  5  2023 icu/inputevents.csv.gz\n",
    "```"
   ]
  },
  {
   "cell_type": "code",
   "execution_count": 140,
   "metadata": {},
   "outputs": [
    {
     "data": {
      "application/vnd.jupyter.widget-view+json": {
       "model_id": "dbf93ec6593c43cc865e03f3d2a6b003",
       "version_major": 2,
       "version_minor": 0
      },
      "text/plain": [
       "FloatProgress(value=0.0, layout=Layout(width='auto'), style=ProgressStyle(bar_color='black'))"
      ]
     },
     "metadata": {},
     "output_type": "display_data"
    },
    {
     "data": {
      "application/vnd.jupyter.widget-view+json": {
       "model_id": "5a76b513119a4808b82ba338b8c93c1e",
       "version_major": 2,
       "version_minor": 0
      },
      "text/plain": [
       "FloatProgress(value=0.0, layout=Layout(width='auto'), style=ProgressStyle(bar_color='black'))"
      ]
     },
     "metadata": {},
     "output_type": "display_data"
    },
    {
     "data": {
      "text/html": [
       "<div>\n",
       "<style scoped>\n",
       "    .dataframe tbody tr th:only-of-type {\n",
       "        vertical-align: middle;\n",
       "    }\n",
       "\n",
       "    .dataframe tbody tr th {\n",
       "        vertical-align: top;\n",
       "    }\n",
       "\n",
       "    .dataframe thead th {\n",
       "        text-align: right;\n",
       "    }\n",
       "</style>\n",
       "<table border=\"1\" class=\"dataframe\">\n",
       "  <thead>\n",
       "    <tr style=\"text-align: right;\">\n",
       "      <th></th>\n",
       "      <th>Success</th>\n",
       "    </tr>\n",
       "  </thead>\n",
       "  <tbody>\n",
       "  </tbody>\n",
       "</table>\n",
       "</div>"
      ],
      "text/plain": [
       "Empty DataFrame\n",
       "Columns: [Success]\n",
       "Index: []"
      ]
     },
     "execution_count": 140,
     "metadata": {},
     "output_type": "execute_result"
    }
   ],
   "source": [
    "%%sql\n",
    "\n",
    "CREATE TABLE inputevents AS \n",
    "SELECT * FROM read_csv_auto('icu/inputevents.csv.gz', header=True, compression='gzip');\n",
    "\n",
    "COPY inputevents TO 'inputevents.parquet' (FORMAT PARQUET, CODEC 'ZSTD');"
   ]
  },
  {
   "cell_type": "code",
   "execution_count": 141,
   "metadata": {},
   "outputs": [
    {
     "data": {
      "text/html": [
       "AI generated code inserted below &#11015;&#65039;"
      ],
      "text/plain": [
       "<IPython.core.display.HTML object>"
      ]
     },
     "execution_count": 141,
     "metadata": {
      "text/html": {
       "jupyter_ai": {
        "model_id": "claude-3-opus-20240229",
        "provider_id": "anthropic-chat"
       }
      }
     },
     "output_type": "execute_result"
    }
   ],
   "source": [
    "%%ai anthropic-chat:claude-3-opus-20240229 --format code\n",
    "\n",
    "{parent_prompt}\n",
    "\n",
    "Only do this for this file:\n",
    "\n",
    "```\n",
    "-rw-r--r--@ 1 me  staff    37M Jan  5  2023 icu/outputevents.csv.gz\n",
    "```"
   ]
  },
  {
   "cell_type": "code",
   "execution_count": 142,
   "metadata": {},
   "outputs": [
    {
     "data": {
      "text/html": [
       "<div>\n",
       "<style scoped>\n",
       "    .dataframe tbody tr th:only-of-type {\n",
       "        vertical-align: middle;\n",
       "    }\n",
       "\n",
       "    .dataframe tbody tr th {\n",
       "        vertical-align: top;\n",
       "    }\n",
       "\n",
       "    .dataframe thead th {\n",
       "        text-align: right;\n",
       "    }\n",
       "</style>\n",
       "<table border=\"1\" class=\"dataframe\">\n",
       "  <thead>\n",
       "    <tr style=\"text-align: right;\">\n",
       "      <th></th>\n",
       "      <th>Success</th>\n",
       "    </tr>\n",
       "  </thead>\n",
       "  <tbody>\n",
       "  </tbody>\n",
       "</table>\n",
       "</div>"
      ],
      "text/plain": [
       "Empty DataFrame\n",
       "Columns: [Success]\n",
       "Index: []"
      ]
     },
     "execution_count": 142,
     "metadata": {},
     "output_type": "execute_result"
    }
   ],
   "source": [
    "%%sql\n",
    "\n",
    "CREATE TABLE outputevents AS \n",
    "SELECT * FROM read_csv_auto('icu/outputevents.csv.gz');\n",
    "\n",
    "COPY outputevents TO 'outputevents.parquet' (FORMAT PARQUET, CODEC ZSTD);"
   ]
  },
  {
   "cell_type": "code",
   "execution_count": 143,
   "metadata": {},
   "outputs": [
    {
     "data": {
      "text/html": [
       "AI generated code inserted below &#11015;&#65039;"
      ],
      "text/plain": [
       "<IPython.core.display.HTML object>"
      ]
     },
     "execution_count": 143,
     "metadata": {
      "text/html": {
       "jupyter_ai": {
        "model_id": "claude-3-opus-20240229",
        "provider_id": "anthropic-chat"
       }
      }
     },
     "output_type": "execute_result"
    }
   ],
   "source": [
    "%%ai anthropic-chat:claude-3-opus-20240229 --format code\n",
    "\n",
    "{parent_prompt}\n",
    "\n",
    "Only do this for this file:\n",
    "\n",
    "```\n",
    "-rw-r--r--@ 1 me  staff    20M Jan  5  2023 icu/procedureevents.csv.gz\n",
    "```"
   ]
  },
  {
   "cell_type": "code",
   "execution_count": 144,
   "metadata": {},
   "outputs": [
    {
     "data": {
      "text/html": [
       "<div>\n",
       "<style scoped>\n",
       "    .dataframe tbody tr th:only-of-type {\n",
       "        vertical-align: middle;\n",
       "    }\n",
       "\n",
       "    .dataframe tbody tr th {\n",
       "        vertical-align: top;\n",
       "    }\n",
       "\n",
       "    .dataframe thead th {\n",
       "        text-align: right;\n",
       "    }\n",
       "</style>\n",
       "<table border=\"1\" class=\"dataframe\">\n",
       "  <thead>\n",
       "    <tr style=\"text-align: right;\">\n",
       "      <th></th>\n",
       "      <th>Success</th>\n",
       "    </tr>\n",
       "  </thead>\n",
       "  <tbody>\n",
       "  </tbody>\n",
       "</table>\n",
       "</div>"
      ],
      "text/plain": [
       "Empty DataFrame\n",
       "Columns: [Success]\n",
       "Index: []"
      ]
     },
     "execution_count": 144,
     "metadata": {},
     "output_type": "execute_result"
    }
   ],
   "source": [
    "%%sql\n",
    "\n",
    "CREATE TABLE procedureevents AS\n",
    "SELECT *\n",
    "FROM read_csv_auto('icu/procedureevents.csv.gz');\n",
    "\n",
    "COPY procedureevents TO 'procedureevents.parquet' (FORMAT 'parquet', CODEC 'ZSTD');"
   ]
  },
  {
   "cell_type": "markdown",
   "metadata": {},
   "source": [
    "## Generate the schema based on the DuckDB database files"
   ]
  },
  {
   "cell_type": "code",
   "execution_count": 145,
   "metadata": {},
   "outputs": [],
   "source": [
    "%%capture filenames\n",
    "!ls -lh *.parquet"
   ]
  },
  {
   "cell_type": "code",
   "execution_count": 150,
   "metadata": {},
   "outputs": [
    {
     "data": {
      "text/html": [
       "AI generated code inserted below &#11015;&#65039;"
      ],
      "text/plain": [
       "<IPython.core.display.HTML object>"
      ]
     },
     "execution_count": 150,
     "metadata": {
      "text/html": {
       "jupyter_ai": {
        "model_id": "claude-3-opus-20240229",
        "provider_id": "anthropic-chat"
       }
      }
     },
     "output_type": "execute_result"
    }
   ],
   "source": [
    "%%ai anthropic-chat:claude-3-opus-20240229 --format code\n",
    "\n",
    "{parent_prompt}\n",
    "\n",
    "Generate the schema using bash one liners in duckdb for every file here:\n",
    "```\n",
    "{filenames}                                                   \n",
    "```\n",
    "\n",
    "Next we will figure out how to link these files with join statements.\n",
    "\n",
    "Update: Instead of `%%sql`, the prefix for this one cell containing the bash one liner will simply be `!` to indicate shell command."
   ]
  },
  {
   "cell_type": "code",
   "execution_count": 167,
   "metadata": {},
   "outputs": [],
   "source": [
    "%%capture mimic_iv_schema\n",
    "%%bash\n",
    "for file in *.parquet; do \n",
    "    echo \"$file\"\n",
    "    echo \"----------\"\n",
    "    duckdb -c \"DESCRIBE SELECT * FROM parquet_scan('$file')\"\n",
    "    echo \"==========\"\n",
    "done"
   ]
  },
  {
   "cell_type": "code",
   "execution_count": 168,
   "metadata": {
    "scrolled": true
   },
   "outputs": [
    {
     "name": "stdout",
     "output_type": "stream",
     "text": [
      "admissions.parquet\n",
      "----------\n",
      "┌──────────────────────┬─────────────┬─────────┬─────────┬─────────┬─────────┐\n",
      "│     column_name      │ column_type │  null   │   key   │ default │  extra  │\n",
      "│       varchar        │   varchar   │ varchar │ varchar │ varchar │ varchar │\n",
      "├──────────────────────┼─────────────┼─────────┼─────────┼─────────┼─────────┤\n",
      "│ subject_id           │ BIGINT      │ YES     │         │         │         │\n",
      "│ hadm_id              │ BIGINT      │ YES     │         │         │         │\n",
      "│ admittime            │ TIMESTAMP   │ YES     │         │         │         │\n",
      "│ dischtime            │ TIMESTAMP   │ YES     │         │         │         │\n",
      "│ deathtime            │ TIMESTAMP   │ YES     │         │         │         │\n",
      "│ admission_type       │ VARCHAR     │ YES     │         │         │         │\n",
      "│ admit_provider_id    │ VARCHAR     │ YES     │         │         │         │\n",
      "│ admission_location   │ VARCHAR     │ YES     │         │         │         │\n",
      "│ discharge_location   │ VARCHAR     │ YES     │         │         │         │\n",
      "│ insurance            │ VARCHAR     │ YES     │         │         │         │\n",
      "│ language             │ VARCHAR     │ YES     │         │         │         │\n",
      "│ marital_status       │ VARCHAR     │ YES     │         │         │         │\n",
      "│ race                 │ VARCHAR     │ YES     │         │         │         │\n",
      "│ edregtime            │ TIMESTAMP   │ YES     │         │         │         │\n",
      "│ edouttime            │ TIMESTAMP   │ YES     │         │         │         │\n",
      "│ hospital_expire_flag │ BIGINT      │ YES     │         │         │         │\n",
      "├──────────────────────┴─────────────┴─────────┴─────────┴─────────┴─────────┤\n",
      "│ 16 rows                                                          6 columns │\n",
      "└────────────────────────────────────────────────────────────────────────────┘\n",
      "==========\n",
      "caregiver.parquet\n",
      "----------\n",
      "┌──────────────┬─────────────┬─────────┬─────────┬─────────┬─────────┐\n",
      "│ column_name  │ column_type │  null   │   key   │ default │  extra  │\n",
      "│   varchar    │   varchar   │ varchar │ varchar │ varchar │ varchar │\n",
      "├──────────────┼─────────────┼─────────┼─────────┼─────────┼─────────┤\n",
      "│ caregiver_id │ BIGINT      │ YES     │         │         │         │\n",
      "└──────────────┴─────────────┴─────────┴─────────┴─────────┴─────────┘\n",
      "==========\n",
      "chartevents.parquet\n",
      "----------\n",
      "┌──────────────┬─────────────┬─────────┬─────────┬─────────┬─────────┐\n",
      "│ column_name  │ column_type │  null   │   key   │ default │  extra  │\n",
      "│   varchar    │   varchar   │ varchar │ varchar │ varchar │ varchar │\n",
      "├──────────────┼─────────────┼─────────┼─────────┼─────────┼─────────┤\n",
      "│ subject_id   │ BIGINT      │ YES     │         │         │         │\n",
      "│ hadm_id      │ BIGINT      │ YES     │         │         │         │\n",
      "│ stay_id      │ BIGINT      │ YES     │         │         │         │\n",
      "│ caregiver_id │ BIGINT      │ YES     │         │         │         │\n",
      "│ charttime    │ DATE        │ YES     │         │         │         │\n",
      "│ storetime    │ DATE        │ YES     │         │         │         │\n",
      "│ itemid       │ BIGINT      │ YES     │         │         │         │\n",
      "│ value        │ VARCHAR     │ YES     │         │         │         │\n",
      "│ valuenum     │ DOUBLE      │ YES     │         │         │         │\n",
      "│ valueuom     │ VARCHAR     │ YES     │         │         │         │\n",
      "│ warning      │ BIGINT      │ YES     │         │         │         │\n",
      "├──────────────┴─────────────┴─────────┴─────────┴─────────┴─────────┤\n",
      "│ 11 rows                                                  6 columns │\n",
      "└────────────────────────────────────────────────────────────────────┘\n",
      "==========\n",
      "d_hcpcs.parquet\n",
      "----------\n",
      "┌───────────────────┬─────────────┬─────────┬─────────┬─────────┬─────────┐\n",
      "│    column_name    │ column_type │  null   │   key   │ default │  extra  │\n",
      "│      varchar      │   varchar   │ varchar │ varchar │ varchar │ varchar │\n",
      "├───────────────────┼─────────────┼─────────┼─────────┼─────────┼─────────┤\n",
      "│ code              │ VARCHAR     │ YES     │         │         │         │\n",
      "│ category          │ BIGINT      │ YES     │         │         │         │\n",
      "│ long_description  │ VARCHAR     │ YES     │         │         │         │\n",
      "│ short_description │ VARCHAR     │ YES     │         │         │         │\n",
      "└───────────────────┴─────────────┴─────────┴─────────┴─────────┴─────────┘\n",
      "==========\n",
      "d_icd_diagnoses.parquet\n",
      "----------\n",
      "┌─────────────┬─────────────┬─────────┬─────────┬─────────┬─────────┐\n",
      "│ column_name │ column_type │  null   │   key   │ default │  extra  │\n",
      "│   varchar   │   varchar   │ varchar │ varchar │ varchar │ varchar │\n",
      "├─────────────┼─────────────┼─────────┼─────────┼─────────┼─────────┤\n",
      "│ icd_code    │ VARCHAR     │ YES     │         │         │         │\n",
      "│ icd_version │ VARCHAR     │ YES     │         │         │         │\n",
      "│ long_title  │ VARCHAR     │ YES     │         │         │         │\n",
      "└─────────────┴─────────────┴─────────┴─────────┴─────────┴─────────┘\n",
      "==========\n",
      "d_icd_procedures.parquet\n",
      "----------\n",
      "┌─────────────┬─────────────┬─────────┬─────────┬─────────┬─────────┐\n",
      "│ column_name │ column_type │  null   │   key   │ default │  extra  │\n",
      "│   varchar   │   varchar   │ varchar │ varchar │ varchar │ varchar │\n",
      "├─────────────┼─────────────┼─────────┼─────────┼─────────┼─────────┤\n",
      "│ icd_code    │ VARCHAR     │ YES     │         │         │         │\n",
      "│ icd_version │ BIGINT      │ YES     │         │         │         │\n",
      "│ long_title  │ VARCHAR     │ YES     │         │         │         │\n",
      "└─────────────┴─────────────┴─────────┴─────────┴─────────┴─────────┘\n",
      "==========\n",
      "d_items.parquet\n",
      "----------\n",
      "┌─────────────────┬─────────────┬─────────┬─────────┬─────────┬─────────┐\n",
      "│   column_name   │ column_type │  null   │   key   │ default │  extra  │\n",
      "│     varchar     │   varchar   │ varchar │ varchar │ varchar │ varchar │\n",
      "├─────────────────┼─────────────┼─────────┼─────────┼─────────┼─────────┤\n",
      "│ itemid          │ BIGINT      │ YES     │         │         │         │\n",
      "│ label           │ VARCHAR     │ YES     │         │         │         │\n",
      "│ abbreviation    │ VARCHAR     │ YES     │         │         │         │\n",
      "│ linksto         │ VARCHAR     │ YES     │         │         │         │\n",
      "│ category        │ VARCHAR     │ YES     │         │         │         │\n",
      "│ unitname        │ VARCHAR     │ YES     │         │         │         │\n",
      "│ param_type      │ VARCHAR     │ YES     │         │         │         │\n",
      "│ lownormalvalue  │ BIGINT      │ YES     │         │         │         │\n",
      "│ highnormalvalue │ DOUBLE      │ YES     │         │         │         │\n",
      "└─────────────────┴─────────────┴─────────┴─────────┴─────────┴─────────┘\n",
      "==========\n",
      "d_labitems.parquet\n",
      "----------\n",
      "┌─────────────┬─────────────┬─────────┬─────────┬─────────┬─────────┐\n",
      "│ column_name │ column_type │  null   │   key   │ default │  extra  │\n",
      "│   varchar   │   varchar   │ varchar │ varchar │ varchar │ varchar │\n",
      "├─────────────┼─────────────┼─────────┼─────────┼─────────┼─────────┤\n",
      "│ itemid      │ INTEGER     │ YES     │         │         │         │\n",
      "│ label       │ VARCHAR     │ YES     │         │         │         │\n",
      "│ fluid       │ VARCHAR     │ YES     │         │         │         │\n",
      "│ category    │ VARCHAR     │ YES     │         │         │         │\n",
      "└─────────────┴─────────────┴─────────┴─────────┴─────────┴─────────┘\n",
      "==========\n",
      "datetimeevents.parquet\n",
      "----------\n",
      "┌──────────────┬─────────────┬─────────┬─────────┬─────────┬─────────┐\n",
      "│ column_name  │ column_type │  null   │   key   │ default │  extra  │\n",
      "│   varchar    │   varchar   │ varchar │ varchar │ varchar │ varchar │\n",
      "├──────────────┼─────────────┼─────────┼─────────┼─────────┼─────────┤\n",
      "│ subject_id   │ BIGINT      │ YES     │         │         │         │\n",
      "│ hadm_id      │ BIGINT      │ YES     │         │         │         │\n",
      "│ stay_id      │ BIGINT      │ YES     │         │         │         │\n",
      "│ caregiver_id │ BIGINT      │ YES     │         │         │         │\n",
      "│ charttime    │ TIMESTAMP   │ YES     │         │         │         │\n",
      "│ storetime    │ TIMESTAMP   │ YES     │         │         │         │\n",
      "│ itemid       │ BIGINT      │ YES     │         │         │         │\n",
      "│ value        │ TIMESTAMP   │ YES     │         │         │         │\n",
      "│ valueuom     │ VARCHAR     │ YES     │         │         │         │\n",
      "│ warning      │ BIGINT      │ YES     │         │         │         │\n",
      "├──────────────┴─────────────┴─────────┴─────────┴─────────┴─────────┤\n",
      "│ 10 rows                                                  6 columns │\n",
      "└────────────────────────────────────────────────────────────────────┘\n",
      "==========\n",
      "diagnoses_icd.parquet\n",
      "----------\n",
      "┌─────────────┬─────────────┬─────────┬─────────┬─────────┬─────────┐\n",
      "│ column_name │ column_type │  null   │   key   │ default │  extra  │\n",
      "│   varchar   │   varchar   │ varchar │ varchar │ varchar │ varchar │\n",
      "├─────────────┼─────────────┼─────────┼─────────┼─────────┼─────────┤\n",
      "│ subject_id  │ INTEGER     │ YES     │         │         │         │\n",
      "│ hadm_id     │ INTEGER     │ YES     │         │         │         │\n",
      "│ seq_num     │ INTEGER     │ YES     │         │         │         │\n",
      "│ icd_code    │ VARCHAR     │ YES     │         │         │         │\n",
      "│ icd_version │ INTEGER     │ YES     │         │         │         │\n",
      "└─────────────┴─────────────┴─────────┴─────────┴─────────┴─────────┘\n",
      "==========\n",
      "drgcodes.parquet\n",
      "----------\n",
      "┌───────────────┬─────────────┬─────────┬─────────┬─────────┬─────────┐\n",
      "│  column_name  │ column_type │  null   │   key   │ default │  extra  │\n",
      "│    varchar    │   varchar   │ varchar │ varchar │ varchar │ varchar │\n",
      "├───────────────┼─────────────┼─────────┼─────────┼─────────┼─────────┤\n",
      "│ subject_id    │ BIGINT      │ YES     │         │         │         │\n",
      "│ hadm_id       │ BIGINT      │ YES     │         │         │         │\n",
      "│ drg_type      │ VARCHAR     │ YES     │         │         │         │\n",
      "│ drg_code      │ VARCHAR     │ YES     │         │         │         │\n",
      "│ description   │ VARCHAR     │ YES     │         │         │         │\n",
      "│ drg_severity  │ BIGINT      │ YES     │         │         │         │\n",
      "│ drg_mortality │ BIGINT      │ YES     │         │         │         │\n",
      "└───────────────┴─────────────┴─────────┴─────────┴─────────┴─────────┘\n",
      "==========\n",
      "emar.parquet\n",
      "----------\n",
      "┌───────────────────┬─────────────┬─────────┬─────────┬─────────┬─────────┐\n",
      "│    column_name    │ column_type │  null   │   key   │ default │  extra  │\n",
      "│      varchar      │   varchar   │ varchar │ varchar │ varchar │ varchar │\n",
      "├───────────────────┼─────────────┼─────────┼─────────┼─────────┼─────────┤\n",
      "│ subject_id        │ VARCHAR     │ YES     │         │         │         │\n",
      "│ hadm_id           │ VARCHAR     │ YES     │         │         │         │\n",
      "│ emar_id           │ VARCHAR     │ YES     │         │         │         │\n",
      "│ emar_seq          │ VARCHAR     │ YES     │         │         │         │\n",
      "│ poe_id            │ VARCHAR     │ YES     │         │         │         │\n",
      "│ pharmacy_id       │ VARCHAR     │ YES     │         │         │         │\n",
      "│ enter_provider_id │ VARCHAR     │ YES     │         │         │         │\n",
      "│ charttime         │ VARCHAR     │ YES     │         │         │         │\n",
      "│ medication        │ VARCHAR     │ YES     │         │         │         │\n",
      "│ event_txt         │ VARCHAR     │ YES     │         │         │         │\n",
      "│ scheduletime      │ VARCHAR     │ YES     │         │         │         │\n",
      "│ storetime         │ VARCHAR     │ YES     │         │         │         │\n",
      "├───────────────────┴─────────────┴─────────┴─────────┴─────────┴─────────┤\n",
      "│ 12 rows                                                       6 columns │\n",
      "└─────────────────────────────────────────────────────────────────────────┘\n",
      "==========\n",
      "emar_detail.parquet\n",
      "----------\n",
      "┌──────────────────────────────────────┬─────────────┬─────────┬─────────┬─────────┬─────────┐\n",
      "│             column_name              │ column_type │  null   │   key   │ default │  extra  │\n",
      "│               varchar                │   varchar   │ varchar │ varchar │ varchar │ varchar │\n",
      "├──────────────────────────────────────┼─────────────┼─────────┼─────────┼─────────┼─────────┤\n",
      "│ subject_id                           │ VARCHAR     │ YES     │         │         │         │\n",
      "│ emar_id                              │ VARCHAR     │ YES     │         │         │         │\n",
      "│ emar_seq                             │ VARCHAR     │ YES     │         │         │         │\n",
      "│ parent_field_ordinal                 │ VARCHAR     │ YES     │         │         │         │\n",
      "│ administration_type                  │ VARCHAR     │ YES     │         │         │         │\n",
      "│ pharmacy_id                          │ VARCHAR     │ YES     │         │         │         │\n",
      "│ barcode_type                         │ VARCHAR     │ YES     │         │         │         │\n",
      "│ reason_for_no_barcode                │ VARCHAR     │ YES     │         │         │         │\n",
      "│ complete_dose_not_given              │ VARCHAR     │ YES     │         │         │         │\n",
      "│ dose_due                             │ VARCHAR     │ YES     │         │         │         │\n",
      "│ dose_due_unit                        │ VARCHAR     │ YES     │         │         │         │\n",
      "│ dose_given                           │ VARCHAR     │ YES     │         │         │         │\n",
      "│ dose_given_unit                      │ VARCHAR     │ YES     │         │         │         │\n",
      "│ will_remainder_of_dose_be_given      │ VARCHAR     │ YES     │         │         │         │\n",
      "│ product_amount_given                 │ VARCHAR     │ YES     │         │         │         │\n",
      "│ product_unit                         │ VARCHAR     │ YES     │         │         │         │\n",
      "│ product_code                         │ VARCHAR     │ YES     │         │         │         │\n",
      "│ product_description                  │ VARCHAR     │ YES     │         │         │         │\n",
      "│ product_description_other            │ VARCHAR     │ YES     │         │         │         │\n",
      "│ prior_infusion_rate                  │ VARCHAR     │ YES     │         │         │         │\n",
      "│ infusion_rate                        │ VARCHAR     │ YES     │         │         │         │\n",
      "│ infusion_rate_adjustment             │ VARCHAR     │ YES     │         │         │         │\n",
      "│ infusion_rate_adjustment_amount      │ VARCHAR     │ YES     │         │         │         │\n",
      "│ infusion_rate_unit                   │ VARCHAR     │ YES     │         │         │         │\n",
      "│ route                                │ VARCHAR     │ YES     │         │         │         │\n",
      "│ infusion_complete                    │ VARCHAR     │ YES     │         │         │         │\n",
      "│ completion_interval                  │ VARCHAR     │ YES     │         │         │         │\n",
      "│ new_iv_bag_hung                      │ VARCHAR     │ YES     │         │         │         │\n",
      "│ continued_infusion_in_other_location │ VARCHAR     │ YES     │         │         │         │\n",
      "│ restart_interval                     │ VARCHAR     │ YES     │         │         │         │\n",
      "│ side                                 │ VARCHAR     │ YES     │         │         │         │\n",
      "│ site                                 │ VARCHAR     │ YES     │         │         │         │\n",
      "│ non_formulary_visual_verification    │ VARCHAR     │ YES     │         │         │         │\n",
      "├──────────────────────────────────────┴─────────────┴─────────┴─────────┴─────────┴─────────┤\n",
      "│ 33 rows                                                                          6 columns │\n",
      "└────────────────────────────────────────────────────────────────────────────────────────────┘\n",
      "==========\n",
      "hcpcsevents.parquet\n",
      "----------\n",
      "┌───────────────────┬─────────────┬─────────┬─────────┬─────────┬─────────┐\n",
      "│    column_name    │ column_type │  null   │   key   │ default │  extra  │\n",
      "│      varchar      │   varchar   │ varchar │ varchar │ varchar │ varchar │\n",
      "├───────────────────┼─────────────┼─────────┼─────────┼─────────┼─────────┤\n",
      "│ subject_id        │ BIGINT      │ YES     │         │         │         │\n",
      "│ hadm_id           │ BIGINT      │ YES     │         │         │         │\n",
      "│ chartdate         │ DATE        │ YES     │         │         │         │\n",
      "│ hcpcs_cd          │ VARCHAR     │ YES     │         │         │         │\n",
      "│ seq_num           │ BIGINT      │ YES     │         │         │         │\n",
      "│ short_description │ VARCHAR     │ YES     │         │         │         │\n",
      "└───────────────────┴─────────────┴─────────┴─────────┴─────────┴─────────┘\n",
      "==========\n",
      "hosp_poe.parquet\n",
      "----------\n",
      "┌────────────────────────┬─────────────┬─────────┬─────────┬─────────┬─────────┐\n",
      "│      column_name       │ column_type │  null   │   key   │ default │  extra  │\n",
      "│        varchar         │   varchar   │ varchar │ varchar │ varchar │ varchar │\n",
      "├────────────────────────┼─────────────┼─────────┼─────────┼─────────┼─────────┤\n",
      "│ poe_id                 │ VARCHAR     │ YES     │         │         │         │\n",
      "│ poe_seq                │ BIGINT      │ YES     │         │         │         │\n",
      "│ subject_id             │ BIGINT      │ YES     │         │         │         │\n",
      "│ hadm_id                │ BIGINT      │ YES     │         │         │         │\n",
      "│ ordertime              │ TIMESTAMP   │ YES     │         │         │         │\n",
      "│ order_type             │ VARCHAR     │ YES     │         │         │         │\n",
      "│ order_subtype          │ VARCHAR     │ YES     │         │         │         │\n",
      "│ transaction_type       │ VARCHAR     │ YES     │         │         │         │\n",
      "│ discontinue_of_poe_id  │ VARCHAR     │ YES     │         │         │         │\n",
      "│ discontinued_by_poe_id │ VARCHAR     │ YES     │         │         │         │\n",
      "│ order_provider_id      │ VARCHAR     │ YES     │         │         │         │\n",
      "│ order_status           │ VARCHAR     │ YES     │         │         │         │\n",
      "├────────────────────────┴─────────────┴─────────┴─────────┴─────────┴─────────┤\n",
      "│ 12 rows                                                            6 columns │\n",
      "└──────────────────────────────────────────────────────────────────────────────┘\n",
      "==========\n",
      "icu_icustays.parquet\n",
      "----------\n",
      "┌────────────────┬─────────────┬─────────┬─────────┬─────────┬─────────┐\n",
      "│  column_name   │ column_type │  null   │   key   │ default │  extra  │\n",
      "│    varchar     │   varchar   │ varchar │ varchar │ varchar │ varchar │\n",
      "├────────────────┼─────────────┼─────────┼─────────┼─────────┼─────────┤\n",
      "│ subject_id     │ BIGINT      │ YES     │         │         │         │\n",
      "│ hadm_id        │ BIGINT      │ YES     │         │         │         │\n",
      "│ stay_id        │ BIGINT      │ YES     │         │         │         │\n",
      "│ first_careunit │ VARCHAR     │ YES     │         │         │         │\n",
      "│ last_careunit  │ VARCHAR     │ YES     │         │         │         │\n",
      "│ intime         │ TIMESTAMP   │ YES     │         │         │         │\n",
      "│ outtime        │ TIMESTAMP   │ YES     │         │         │         │\n",
      "│ los            │ DOUBLE      │ YES     │         │         │         │\n",
      "└────────────────┴─────────────┴─────────┴─────────┴─────────┴─────────┘\n",
      "==========\n",
      "ingredientevents.parquet\n",
      "----------\n",
      "┌───────────────────┬─────────────┬─────────┬─────────┬─────────┬─────────┐\n",
      "│    column_name    │ column_type │  null   │   key   │ default │  extra  │\n",
      "│      varchar      │   varchar   │ varchar │ varchar │ varchar │ varchar │\n",
      "├───────────────────┼─────────────┼─────────┼─────────┼─────────┼─────────┤\n",
      "│ subject_id        │ INTEGER     │ YES     │         │         │         │\n",
      "│ hadm_id           │ INTEGER     │ YES     │         │         │         │\n",
      "│ stay_id           │ INTEGER     │ YES     │         │         │         │\n",
      "│ caregiver_id      │ INTEGER     │ YES     │         │         │         │\n",
      "│ starttime         │ TIMESTAMP   │ YES     │         │         │         │\n",
      "│ endtime           │ TIMESTAMP   │ YES     │         │         │         │\n",
      "│ storetime         │ TIMESTAMP   │ YES     │         │         │         │\n",
      "│ itemid            │ INTEGER     │ YES     │         │         │         │\n",
      "│ amount            │ DOUBLE      │ YES     │         │         │         │\n",
      "│ amountuom         │ VARCHAR     │ YES     │         │         │         │\n",
      "│ rate              │ DOUBLE      │ YES     │         │         │         │\n",
      "│ rateuom           │ VARCHAR     │ YES     │         │         │         │\n",
      "│ orderid           │ INTEGER     │ YES     │         │         │         │\n",
      "│ linkorderid       │ INTEGER     │ YES     │         │         │         │\n",
      "│ statusdescription │ VARCHAR     │ YES     │         │         │         │\n",
      "│ originalamount    │ DOUBLE      │ YES     │         │         │         │\n",
      "│ originalrate      │ DOUBLE      │ YES     │         │         │         │\n",
      "├───────────────────┴─────────────┴─────────┴─────────┴─────────┴─────────┤\n",
      "│ 17 rows                                                       6 columns │\n",
      "└─────────────────────────────────────────────────────────────────────────┘\n",
      "==========\n",
      "inputevents.parquet\n",
      "----------\n",
      "┌───────────────────────────────┬─────────────┬─────────┬─────────┬─────────┬─────────┐\n",
      "│          column_name          │ column_type │  null   │   key   │ default │  extra  │\n",
      "│            varchar            │   varchar   │ varchar │ varchar │ varchar │ varchar │\n",
      "├───────────────────────────────┼─────────────┼─────────┼─────────┼─────────┼─────────┤\n",
      "│ subject_id                    │ BIGINT      │ YES     │         │         │         │\n",
      "│ hadm_id                       │ BIGINT      │ YES     │         │         │         │\n",
      "│ stay_id                       │ BIGINT      │ YES     │         │         │         │\n",
      "│ caregiver_id                  │ BIGINT      │ YES     │         │         │         │\n",
      "│ starttime                     │ TIMESTAMP   │ YES     │         │         │         │\n",
      "│ endtime                       │ TIMESTAMP   │ YES     │         │         │         │\n",
      "│ storetime                     │ TIMESTAMP   │ YES     │         │         │         │\n",
      "│ itemid                        │ BIGINT      │ YES     │         │         │         │\n",
      "│ amount                        │ DOUBLE      │ YES     │         │         │         │\n",
      "│ amountuom                     │ VARCHAR     │ YES     │         │         │         │\n",
      "│ rate                          │ DOUBLE      │ YES     │         │         │         │\n",
      "│ rateuom                       │ VARCHAR     │ YES     │         │         │         │\n",
      "│ orderid                       │ BIGINT      │ YES     │         │         │         │\n",
      "│ linkorderid                   │ BIGINT      │ YES     │         │         │         │\n",
      "│ ordercategoryname             │ VARCHAR     │ YES     │         │         │         │\n",
      "│ secondaryordercategoryname    │ VARCHAR     │ YES     │         │         │         │\n",
      "│ ordercomponenttypedescription │ VARCHAR     │ YES     │         │         │         │\n",
      "│ ordercategorydescription      │ VARCHAR     │ YES     │         │         │         │\n",
      "│ patientweight                 │ DOUBLE      │ YES     │         │         │         │\n",
      "│ totalamount                   │ DOUBLE      │ YES     │         │         │         │\n",
      "│ totalamountuom                │ VARCHAR     │ YES     │         │         │         │\n",
      "│ isopenbag                     │ BIGINT      │ YES     │         │         │         │\n",
      "│ continueinnextdept            │ BIGINT      │ YES     │         │         │         │\n",
      "│ statusdescription             │ VARCHAR     │ YES     │         │         │         │\n",
      "│ originalamount                │ DOUBLE      │ YES     │         │         │         │\n",
      "│ originalrate                  │ DOUBLE      │ YES     │         │         │         │\n",
      "├───────────────────────────────┴─────────────┴─────────┴─────────┴─────────┴─────────┤\n",
      "│ 26 rows                                                                   6 columns │\n",
      "└─────────────────────────────────────────────────────────────────────────────────────┘\n",
      "==========\n",
      "labevents.parquet\n",
      "----------\n",
      "┌───────────────────┬─────────────┬─────────┬─────────┬─────────┬─────────┐\n",
      "│    column_name    │ column_type │  null   │   key   │ default │  extra  │\n",
      "│      varchar      │   varchar   │ varchar │ varchar │ varchar │ varchar │\n",
      "├───────────────────┼─────────────┼─────────┼─────────┼─────────┼─────────┤\n",
      "│ labevent_id       │ BIGINT      │ YES     │         │         │         │\n",
      "│ subject_id        │ BIGINT      │ YES     │         │         │         │\n",
      "│ hadm_id           │ BIGINT      │ YES     │         │         │         │\n",
      "│ specimen_id       │ BIGINT      │ YES     │         │         │         │\n",
      "│ itemid            │ BIGINT      │ YES     │         │         │         │\n",
      "│ order_provider_id │ VARCHAR     │ YES     │         │         │         │\n",
      "│ charttime         │ TIMESTAMP   │ YES     │         │         │         │\n",
      "│ storetime         │ TIMESTAMP   │ YES     │         │         │         │\n",
      "│ value             │ VARCHAR     │ YES     │         │         │         │\n",
      "│ valuenum          │ DOUBLE      │ YES     │         │         │         │\n",
      "│ valueuom          │ VARCHAR     │ YES     │         │         │         │\n",
      "│ ref_range_lower   │ DOUBLE      │ YES     │         │         │         │\n",
      "│ ref_range_upper   │ DOUBLE      │ YES     │         │         │         │\n",
      "│ flag              │ VARCHAR     │ YES     │         │         │         │\n",
      "│ priority          │ VARCHAR     │ YES     │         │         │         │\n",
      "│ comments          │ VARCHAR     │ YES     │         │         │         │\n",
      "│ filename          │ VARCHAR     │ YES     │         │         │         │\n",
      "├───────────────────┴─────────────┴─────────┴─────────┴─────────┴─────────┤\n",
      "│ 17 rows                                                       6 columns │\n",
      "└─────────────────────────────────────────────────────────────────────────┘\n",
      "==========\n",
      "microbiologyevents.parquet\n",
      "----------\n",
      "┌─────────────────────┬─────────────┬─────────┬─────────┬─────────┬─────────┐\n",
      "│     column_name     │ column_type │  null   │   key   │ default │  extra  │\n",
      "│       varchar       │   varchar   │ varchar │ varchar │ varchar │ varchar │\n",
      "├─────────────────────┼─────────────┼─────────┼─────────┼─────────┼─────────┤\n",
      "│ microevent_id       │ BIGINT      │ YES     │         │         │         │\n",
      "│ subject_id          │ BIGINT      │ YES     │         │         │         │\n",
      "│ hadm_id             │ BIGINT      │ YES     │         │         │         │\n",
      "│ micro_specimen_id   │ BIGINT      │ YES     │         │         │         │\n",
      "│ order_provider_id   │ VARCHAR     │ YES     │         │         │         │\n",
      "│ chartdate           │ TIMESTAMP   │ YES     │         │         │         │\n",
      "│ charttime           │ TIMESTAMP   │ YES     │         │         │         │\n",
      "│ spec_itemid         │ BIGINT      │ YES     │         │         │         │\n",
      "│ spec_type_desc      │ VARCHAR     │ YES     │         │         │         │\n",
      "│ test_seq            │ BIGINT      │ YES     │         │         │         │\n",
      "│ storedate           │ TIMESTAMP   │ YES     │         │         │         │\n",
      "│ storetime           │ TIMESTAMP   │ YES     │         │         │         │\n",
      "│ test_itemid         │ BIGINT      │ YES     │         │         │         │\n",
      "│ test_name           │ VARCHAR     │ YES     │         │         │         │\n",
      "│ org_itemid          │ BIGINT      │ YES     │         │         │         │\n",
      "│ org_name            │ VARCHAR     │ YES     │         │         │         │\n",
      "│ isolate_num         │ BIGINT      │ YES     │         │         │         │\n",
      "│ quantity            │ VARCHAR     │ YES     │         │         │         │\n",
      "│ ab_itemid           │ BIGINT      │ YES     │         │         │         │\n",
      "│ ab_name             │ VARCHAR     │ YES     │         │         │         │\n",
      "│ dilution_text       │ VARCHAR     │ YES     │         │         │         │\n",
      "│ dilution_comparison │ VARCHAR     │ YES     │         │         │         │\n",
      "│ dilution_value      │ DOUBLE      │ YES     │         │         │         │\n",
      "│ interpretation      │ VARCHAR     │ YES     │         │         │         │\n",
      "│ comments            │ VARCHAR     │ YES     │         │         │         │\n",
      "├─────────────────────┴─────────────┴─────────┴─────────┴─────────┴─────────┤\n",
      "│ 25 rows                                                         6 columns │\n",
      "└───────────────────────────────────────────────────────────────────────────┘\n",
      "==========\n",
      "omr.parquet\n",
      "----------\n",
      "┌──────────────┬─────────────┬─────────┬─────────┬─────────┬─────────┐\n",
      "│ column_name  │ column_type │  null   │   key   │ default │  extra  │\n",
      "│   varchar    │   varchar   │ varchar │ varchar │ varchar │ varchar │\n",
      "├──────────────┼─────────────┼─────────┼─────────┼─────────┼─────────┤\n",
      "│ subject_id   │ BIGINT      │ YES     │         │         │         │\n",
      "│ chartdate    │ DATE        │ YES     │         │         │         │\n",
      "│ seq_num      │ BIGINT      │ YES     │         │         │         │\n",
      "│ result_name  │ VARCHAR     │ YES     │         │         │         │\n",
      "│ result_value │ VARCHAR     │ YES     │         │         │         │\n",
      "└──────────────┴─────────────┴─────────┴─────────┴─────────┴─────────┘\n",
      "==========\n",
      "outputevents.parquet\n",
      "----------\n",
      "┌──────────────┬─────────────┬─────────┬─────────┬─────────┬─────────┐\n",
      "│ column_name  │ column_type │  null   │   key   │ default │  extra  │\n",
      "│   varchar    │   varchar   │ varchar │ varchar │ varchar │ varchar │\n",
      "├──────────────┼─────────────┼─────────┼─────────┼─────────┼─────────┤\n",
      "│ subject_id   │ BIGINT      │ YES     │         │         │         │\n",
      "│ hadm_id      │ BIGINT      │ YES     │         │         │         │\n",
      "│ stay_id      │ BIGINT      │ YES     │         │         │         │\n",
      "│ caregiver_id │ BIGINT      │ YES     │         │         │         │\n",
      "│ charttime    │ TIMESTAMP   │ YES     │         │         │         │\n",
      "│ storetime    │ TIMESTAMP   │ YES     │         │         │         │\n",
      "│ itemid       │ BIGINT      │ YES     │         │         │         │\n",
      "│ value        │ DOUBLE      │ YES     │         │         │         │\n",
      "│ valueuom     │ VARCHAR     │ YES     │         │         │         │\n",
      "└──────────────┴─────────────┴─────────┴─────────┴─────────┴─────────┘\n",
      "==========\n",
      "patients.parquet\n",
      "----------\n",
      "┌───────────────────┬─────────────┬─────────┬─────────┬─────────┬─────────┐\n",
      "│    column_name    │ column_type │  null   │   key   │ default │  extra  │\n",
      "│      varchar      │   varchar   │ varchar │ varchar │ varchar │ varchar │\n",
      "├───────────────────┼─────────────┼─────────┼─────────┼─────────┼─────────┤\n",
      "│ subject_id        │ BIGINT      │ YES     │         │         │         │\n",
      "│ gender            │ VARCHAR     │ YES     │         │         │         │\n",
      "│ anchor_age        │ BIGINT      │ YES     │         │         │         │\n",
      "│ anchor_year       │ BIGINT      │ YES     │         │         │         │\n",
      "│ anchor_year_group │ VARCHAR     │ YES     │         │         │         │\n",
      "│ dod               │ DATE        │ YES     │         │         │         │\n",
      "└───────────────────┴─────────────┴─────────┴─────────┴─────────┴─────────┘\n",
      "==========\n",
      "pharmacy.parquet\n",
      "----------\n",
      "┌───────────────────┬─────────────┬─────────┬─────────┬─────────┬─────────┐\n",
      "│    column_name    │ column_type │  null   │   key   │ default │  extra  │\n",
      "│      varchar      │   varchar   │ varchar │ varchar │ varchar │ varchar │\n",
      "├───────────────────┼─────────────┼─────────┼─────────┼─────────┼─────────┤\n",
      "│ subject_id        │ VARCHAR     │ YES     │         │         │         │\n",
      "│ hadm_id           │ VARCHAR     │ YES     │         │         │         │\n",
      "│ pharmacy_id       │ VARCHAR     │ YES     │         │         │         │\n",
      "│ poe_id            │ VARCHAR     │ YES     │         │         │         │\n",
      "│ starttime         │ VARCHAR     │ YES     │         │         │         │\n",
      "│ stoptime          │ VARCHAR     │ YES     │         │         │         │\n",
      "│ medication        │ VARCHAR     │ YES     │         │         │         │\n",
      "│ proc_type         │ VARCHAR     │ YES     │         │         │         │\n",
      "│ status            │ VARCHAR     │ YES     │         │         │         │\n",
      "│ entertime         │ VARCHAR     │ YES     │         │         │         │\n",
      "│ verifiedtime      │ VARCHAR     │ YES     │         │         │         │\n",
      "│ route             │ VARCHAR     │ YES     │         │         │         │\n",
      "│ frequency         │ VARCHAR     │ YES     │         │         │         │\n",
      "│ disp_sched        │ VARCHAR     │ YES     │         │         │         │\n",
      "│ infusion_type     │ VARCHAR     │ YES     │         │         │         │\n",
      "│ sliding_scale     │ VARCHAR     │ YES     │         │         │         │\n",
      "│ lockout_interval  │ VARCHAR     │ YES     │         │         │         │\n",
      "│ basal_rate        │ VARCHAR     │ YES     │         │         │         │\n",
      "│ one_hr_max        │ VARCHAR     │ YES     │         │         │         │\n",
      "│ doses_per_24_hrs  │ VARCHAR     │ YES     │         │         │         │\n",
      "│ duration          │ VARCHAR     │ YES     │         │         │         │\n",
      "│ duration_interval │ VARCHAR     │ YES     │         │         │         │\n",
      "│ expiration_value  │ VARCHAR     │ YES     │         │         │         │\n",
      "│ expiration_unit   │ VARCHAR     │ YES     │         │         │         │\n",
      "│ expirationdate    │ VARCHAR     │ YES     │         │         │         │\n",
      "│ dispensation      │ VARCHAR     │ YES     │         │         │         │\n",
      "│ fill_quantity     │ VARCHAR     │ YES     │         │         │         │\n",
      "├───────────────────┴─────────────┴─────────┴─────────┴─────────┴─────────┤\n",
      "│ 27 rows                                                       6 columns │\n",
      "└─────────────────────────────────────────────────────────────────────────┘\n",
      "==========\n",
      "poe_detail.parquet\n",
      "----------\n",
      "┌─────────────┬─────────────┬─────────┬─────────┬─────────┬─────────┐\n",
      "│ column_name │ column_type │  null   │   key   │ default │  extra  │\n",
      "│   varchar   │   varchar   │ varchar │ varchar │ varchar │ varchar │\n",
      "├─────────────┼─────────────┼─────────┼─────────┼─────────┼─────────┤\n",
      "│ poe_id      │ VARCHAR     │ YES     │         │         │         │\n",
      "│ poe_seq     │ BIGINT      │ YES     │         │         │         │\n",
      "│ subject_id  │ BIGINT      │ YES     │         │         │         │\n",
      "│ field_name  │ VARCHAR     │ YES     │         │         │         │\n",
      "│ field_value │ VARCHAR     │ YES     │         │         │         │\n",
      "└─────────────┴─────────────┴─────────┴─────────┴─────────┴─────────┘\n",
      "==========\n",
      "prescriptions.parquet\n",
      "----------\n",
      "┌───────────────────┬─────────────┬─────────┬─────────┬─────────┬─────────┐\n",
      "│    column_name    │ column_type │  null   │   key   │ default │  extra  │\n",
      "│      varchar      │   varchar   │ varchar │ varchar │ varchar │ varchar │\n",
      "├───────────────────┼─────────────┼─────────┼─────────┼─────────┼─────────┤\n",
      "│ subject_id        │ BIGINT      │ YES     │         │         │         │\n",
      "│ hadm_id           │ BIGINT      │ YES     │         │         │         │\n",
      "│ pharmacy_id       │ BIGINT      │ YES     │         │         │         │\n",
      "│ poe_id            │ VARCHAR     │ YES     │         │         │         │\n",
      "│ poe_seq           │ BIGINT      │ YES     │         │         │         │\n",
      "│ order_provider_id │ VARCHAR     │ YES     │         │         │         │\n",
      "│ starttime         │ TIMESTAMP   │ YES     │         │         │         │\n",
      "│ stoptime          │ TIMESTAMP   │ YES     │         │         │         │\n",
      "│ drug_type         │ VARCHAR     │ YES     │         │         │         │\n",
      "│ drug              │ VARCHAR     │ YES     │         │         │         │\n",
      "│ formulary_drug_cd │ VARCHAR     │ YES     │         │         │         │\n",
      "│ gsn               │ VARCHAR     │ YES     │         │         │         │\n",
      "│ ndc               │ VARCHAR     │ YES     │         │         │         │\n",
      "│ prod_strength     │ VARCHAR     │ YES     │         │         │         │\n",
      "│ form_rx           │ VARCHAR     │ YES     │         │         │         │\n",
      "│ dose_val_rx       │ VARCHAR     │ YES     │         │         │         │\n",
      "│ dose_unit_rx      │ VARCHAR     │ YES     │         │         │         │\n",
      "│ form_val_disp     │ VARCHAR     │ YES     │         │         │         │\n",
      "│ form_unit_disp    │ VARCHAR     │ YES     │         │         │         │\n",
      "│ doses_per_24_hrs  │ BIGINT      │ YES     │         │         │         │\n",
      "│ route             │ VARCHAR     │ YES     │         │         │         │\n",
      "├───────────────────┴─────────────┴─────────┴─────────┴─────────┴─────────┤\n",
      "│ 21 rows                                                       6 columns │\n",
      "└─────────────────────────────────────────────────────────────────────────┘\n",
      "==========\n",
      "procedureevents.parquet\n",
      "----------\n",
      "┌──────────────────────────┬─────────────┬─────────┬─────────┬─────────┬─────────┐\n",
      "│       column_name        │ column_type │  null   │   key   │ default │  extra  │\n",
      "│         varchar          │   varchar   │ varchar │ varchar │ varchar │ varchar │\n",
      "├──────────────────────────┼─────────────┼─────────┼─────────┼─────────┼─────────┤\n",
      "│ subject_id               │ BIGINT      │ YES     │         │         │         │\n",
      "│ hadm_id                  │ BIGINT      │ YES     │         │         │         │\n",
      "│ stay_id                  │ BIGINT      │ YES     │         │         │         │\n",
      "│ caregiver_id             │ BIGINT      │ YES     │         │         │         │\n",
      "│ starttime                │ TIMESTAMP   │ YES     │         │         │         │\n",
      "│ endtime                  │ TIMESTAMP   │ YES     │         │         │         │\n",
      "│ storetime                │ TIMESTAMP   │ YES     │         │         │         │\n",
      "│ itemid                   │ BIGINT      │ YES     │         │         │         │\n",
      "│ value                    │ DOUBLE      │ YES     │         │         │         │\n",
      "│ valueuom                 │ VARCHAR     │ YES     │         │         │         │\n",
      "│ location                 │ VARCHAR     │ YES     │         │         │         │\n",
      "│ locationcategory         │ VARCHAR     │ YES     │         │         │         │\n",
      "│ orderid                  │ BIGINT      │ YES     │         │         │         │\n",
      "│ linkorderid              │ BIGINT      │ YES     │         │         │         │\n",
      "│ ordercategoryname        │ VARCHAR     │ YES     │         │         │         │\n",
      "│ ordercategorydescription │ VARCHAR     │ YES     │         │         │         │\n",
      "│ patientweight            │ DOUBLE      │ YES     │         │         │         │\n",
      "│ isopenbag                │ BIGINT      │ YES     │         │         │         │\n",
      "│ continueinnextdept       │ BIGINT      │ YES     │         │         │         │\n",
      "│ statusdescription        │ VARCHAR     │ YES     │         │         │         │\n",
      "│ originalamount           │ DOUBLE      │ YES     │         │         │         │\n",
      "│ originalrate             │ BIGINT      │ YES     │         │         │         │\n",
      "├──────────────────────────┴─────────────┴─────────┴─────────┴─────────┴─────────┤\n",
      "│ 22 rows                                                              6 columns │\n",
      "└────────────────────────────────────────────────────────────────────────────────┘\n",
      "==========\n",
      "procedures_icd.parquet\n",
      "----------\n",
      "┌─────────────┬─────────────┬─────────┬─────────┬─────────┬─────────┐\n",
      "│ column_name │ column_type │  null   │   key   │ default │  extra  │\n",
      "│   varchar   │   varchar   │ varchar │ varchar │ varchar │ varchar │\n",
      "├─────────────┼─────────────┼─────────┼─────────┼─────────┼─────────┤\n",
      "│ subject_id  │ BIGINT      │ YES     │         │         │         │\n",
      "│ hadm_id     │ BIGINT      │ YES     │         │         │         │\n",
      "│ seq_num     │ BIGINT      │ YES     │         │         │         │\n",
      "│ chartdate   │ DATE        │ YES     │         │         │         │\n",
      "│ icd_code    │ VARCHAR     │ YES     │         │         │         │\n",
      "│ icd_version │ BIGINT      │ YES     │         │         │         │\n",
      "└─────────────┴─────────────┴─────────┴─────────┴─────────┴─────────┘\n",
      "==========\n",
      "provider.parquet\n",
      "----------\n",
      "┌─────────────┬─────────────┬─────────┬─────────┬─────────┬─────────┐\n",
      "│ column_name │ column_type │  null   │   key   │ default │  extra  │\n",
      "│   varchar   │   varchar   │ varchar │ varchar │ varchar │ varchar │\n",
      "├─────────────┼─────────────┼─────────┼─────────┼─────────┼─────────┤\n",
      "│ provider_id │ VARCHAR     │ YES     │         │         │         │\n",
      "└─────────────┴─────────────┴─────────┴─────────┴─────────┴─────────┘\n",
      "==========\n",
      "services.parquet\n",
      "----------\n",
      "┌──────────────┬─────────────┬─────────┬─────────┬─────────┬─────────┐\n",
      "│ column_name  │ column_type │  null   │   key   │ default │  extra  │\n",
      "│   varchar    │   varchar   │ varchar │ varchar │ varchar │ varchar │\n",
      "├──────────────┼─────────────┼─────────┼─────────┼─────────┼─────────┤\n",
      "│ subject_id   │ BIGINT      │ YES     │         │         │         │\n",
      "│ hadm_id      │ BIGINT      │ YES     │         │         │         │\n",
      "│ transfertime │ TIMESTAMP   │ YES     │         │         │         │\n",
      "│ prev_service │ VARCHAR     │ YES     │         │         │         │\n",
      "│ curr_service │ VARCHAR     │ YES     │         │         │         │\n",
      "└──────────────┴─────────────┴─────────┴─────────┴─────────┴─────────┘\n",
      "==========\n",
      "transfers.parquet\n",
      "----------\n",
      "┌─────────────┬─────────────┬─────────┬─────────┬─────────┬─────────┐\n",
      "│ column_name │ column_type │  null   │   key   │ default │  extra  │\n",
      "│   varchar   │   varchar   │ varchar │ varchar │ varchar │ varchar │\n",
      "├─────────────┼─────────────┼─────────┼─────────┼─────────┼─────────┤\n",
      "│ subject_id  │ BIGINT      │ YES     │         │         │         │\n",
      "│ hadm_id     │ BIGINT      │ YES     │         │         │         │\n",
      "│ transfer_id │ BIGINT      │ YES     │         │         │         │\n",
      "│ eventtype   │ VARCHAR     │ YES     │         │         │         │\n",
      "│ careunit    │ VARCHAR     │ YES     │         │         │         │\n",
      "│ intime      │ TIMESTAMP   │ YES     │         │         │         │\n",
      "│ outtime     │ TIMESTAMP   │ YES     │         │         │         │\n",
      "└─────────────┴─────────────┴─────────┴─────────┴─────────┴─────────┘\n",
      "==========\n",
      "\n"
     ]
    }
   ],
   "source": [
    "print(mimic_iv_schema.stdout)"
   ]
  },
  {
   "cell_type": "markdown",
   "metadata": {},
   "source": [
    "## Generate visualizations of the MIMIC IV database / clinical data repository using python and altair"
   ]
  },
  {
   "cell_type": "code",
   "execution_count": 169,
   "metadata": {},
   "outputs": [
    {
     "data": {
      "text/html": [
       "AI generated code inserted below &#11015;&#65039;"
      ],
      "text/plain": [
       "<IPython.core.display.HTML object>"
      ]
     },
     "execution_count": 169,
     "metadata": {
      "text/html": {
       "jupyter_ai": {
        "model_id": "claude-3-opus-20240229",
        "provider_id": "anthropic-chat"
       }
      }
     },
     "output_type": "execute_result"
    }
   ],
   "source": [
    "%%ai anthropic-chat:claude-3-opus-20240229 --format code\n",
    "\n",
    "Given the schema in these files: \n",
    "\n",
    "```\n",
    "{mimic_iv_schema.stdout}\n",
    "```\n",
    "\n",
    "Proceed to create simple interactive figures using the vega-altair library in python. Use best practices for the visual display of information, such as those from Tufte.\n",
    "\n",
    "Don't forget to load the parquet file first to ensure the python variables are available for altair :) and proceed step-by-step.\n",
    "\n",
    "Your work output will be used for downstream analytics such as cohort selection and clinical trials paptient population matching and a *variety* of other use cases in biomedical informatics and life sciences.\n",
    "\n",
    "Also remember to avoid this error: \n",
    "\n",
    "```\n",
    "MaxRowsError: The number of rows in your dataset is greater than the maximum allowed (5000).\n",
    "\n",
    "Try enabling the VegaFusion data transformer which raises this limit by pre-evaluating data\n",
    "transformations in Python.\n",
    "    >> import altair as alt\n",
    "    >> alt.data_transformers.enable(\"vegafusion\")\n",
    "```\n",
    "\n",
    "Only use the following variables for the d_icd_procedures.parquet and d_icd_diagnoses.parquet tables:\n",
    "\n",
    "```\n",
    "long_title\n",
    "icd_code\n",
    "```\n",
    "\n",
    "Link the `long_title` using the `icd_code` column in these: procedures_icd.parquet and diagnoses_icd.parquet:\n",
    "\n",
    "```\n",
    "hadm_id\n",
    "icd_code\n",
    "```\n",
    "\n",
    "For the icu_icustays.parquet, only use the following columns:\n",
    "\n",
    "```\n",
    "hadm_id\n",
    "los\n",
    "```\n",
    "\n",
    "(For the hadm_id, or hospital admission identifier!)\n",
    "\n",
    "Then create a histogram.\n",
    "\n",
    "Alongside their human readable descriptions in the axes labels.\n",
    "\n",
    "Bucket the length of stay into entire days; perhaps a histogram will suffice or some other standard way of showing such a business intelligence dashboard.\n",
    "\n",
    "Alongside any others you might need to link the data in MIMIC-IV :)"
   ]
  },
  {
   "cell_type": "code",
   "execution_count": 10,
   "metadata": {},
   "outputs": [
    {
     "data": {
      "text/html": [
       "\n",
       "<style>\n",
       "  #altair-viz-3537455283ab4ff88c02a24f90bff4f1.vega-embed {\n",
       "    width: 100%;\n",
       "    display: flex;\n",
       "  }\n",
       "\n",
       "  #altair-viz-3537455283ab4ff88c02a24f90bff4f1.vega-embed details,\n",
       "  #altair-viz-3537455283ab4ff88c02a24f90bff4f1.vega-embed details summary {\n",
       "    position: relative;\n",
       "  }\n",
       "</style>\n",
       "<div id=\"altair-viz-3537455283ab4ff88c02a24f90bff4f1\"></div>\n",
       "<script type=\"text/javascript\">\n",
       "  var VEGA_DEBUG = (typeof VEGA_DEBUG == \"undefined\") ? {} : VEGA_DEBUG;\n",
       "  (function(spec, embedOpt){\n",
       "    let outputDiv = document.currentScript.previousElementSibling;\n",
       "    if (outputDiv.id !== \"altair-viz-3537455283ab4ff88c02a24f90bff4f1\") {\n",
       "      outputDiv = document.getElementById(\"altair-viz-3537455283ab4ff88c02a24f90bff4f1\");\n",
       "    }\n",
       "    const paths = {\n",
       "      \"vega\": \"https://cdn.jsdelivr.net/npm/vega@5?noext\",\n",
       "      \"vega-lib\": \"https://cdn.jsdelivr.net/npm/vega-lib?noext\",\n",
       "      \"vega-lite\": \"https://cdn.jsdelivr.net/npm/vega-lite@5.17.0?noext\",\n",
       "      \"vega-embed\": \"https://cdn.jsdelivr.net/npm/vega-embed@6?noext\",\n",
       "    };\n",
       "\n",
       "    function maybeLoadScript(lib, version) {\n",
       "      var key = `${lib.replace(\"-\", \"\")}_version`;\n",
       "      return (VEGA_DEBUG[key] == version) ?\n",
       "        Promise.resolve(paths[lib]) :\n",
       "        new Promise(function(resolve, reject) {\n",
       "          var s = document.createElement('script');\n",
       "          document.getElementsByTagName(\"head\")[0].appendChild(s);\n",
       "          s.async = true;\n",
       "          s.onload = () => {\n",
       "            VEGA_DEBUG[key] = version;\n",
       "            return resolve(paths[lib]);\n",
       "          };\n",
       "          s.onerror = () => reject(`Error loading script: ${paths[lib]}`);\n",
       "          s.src = paths[lib];\n",
       "        });\n",
       "    }\n",
       "\n",
       "    function showError(err) {\n",
       "      outputDiv.innerHTML = `<div class=\"error\" style=\"color:red;\">${err}</div>`;\n",
       "      throw err;\n",
       "    }\n",
       "\n",
       "    function displayChart(vegaEmbed) {\n",
       "      vegaEmbed(outputDiv, spec, embedOpt)\n",
       "        .catch(err => showError(`Javascript Error: ${err.message}<br>This usually means there's a typo in your chart specification. See the javascript console for the full traceback.`));\n",
       "    }\n",
       "\n",
       "    if(typeof define === \"function\" && define.amd) {\n",
       "      requirejs.config({paths});\n",
       "      require([\"vega-embed\"], displayChart, err => showError(`Error loading script: ${err.message}`));\n",
       "    } else {\n",
       "      maybeLoadScript(\"vega\", \"5\")\n",
       "        .then(() => maybeLoadScript(\"vega-lite\", \"5.17.0\"))\n",
       "        .then(() => maybeLoadScript(\"vega-embed\", \"6\"))\n",
       "        .catch(showError)\n",
       "        .then(() => displayChart(vegaEmbed));\n",
       "    }\n",
       "  })({\"$schema\": \"https://vega.github.io/schema/vega/v5.json\", \"data\": [{\"name\": \"source_0\", \"values\": [{\"__count\": 6132654, \"bin_maxbins_10_los_days\": 0.0, \"bin_maxbins_10_los_days_end\": 20.0}, {\"__count\": 464420, \"bin_maxbins_10_los_days\": 20.0, \"bin_maxbins_10_los_days_end\": 40.0}, {\"__count\": 74476, \"bin_maxbins_10_los_days\": 40.0, \"bin_maxbins_10_los_days_end\": 60.0}, {\"__count\": 6787, \"bin_maxbins_10_los_days\": 80.0, \"bin_maxbins_10_los_days_end\": 100.0}, {\"__count\": 16941, \"bin_maxbins_10_los_days\": 60.0, \"bin_maxbins_10_los_days_end\": 80.0}, {\"__count\": 2697, \"bin_maxbins_10_los_days\": 100.0, \"bin_maxbins_10_los_days_end\": 120.0}]}, {\"name\": \"source_0_y_domain___count\", \"values\": [{\"min\": 2697, \"max\": 6132654}]}], \"signals\": [{\"name\": \"bin_maxbins_10_los_days_bins\", \"value\": {\"fields\": [\"los_days\"], \"fname\": \"bin_los_days\", \"start\": 0.0, \"step\": 20.0, \"stop\": 120.0}}], \"marks\": [{\"type\": \"rect\", \"name\": \"marks\", \"from\": {\"data\": \"source_0\"}, \"encode\": {\"update\": {\"y2\": {\"value\": 0, \"scale\": \"y\"}, \"x2\": {\"field\": \"bin_maxbins_10_los_days\", \"scale\": \"x\", \"offset\": {\"signal\": \"0.5 + (abs(scale(\\\"x\\\", datum[\\\"bin_maxbins_10_los_days_end\\\"]) - scale(\\\"x\\\", datum[\\\"bin_maxbins_10_los_days\\\"])) < 0.25 ? -0.5 * (0.25 - (abs(scale(\\\"x\\\", datum[\\\"bin_maxbins_10_los_days_end\\\"]) - scale(\\\"x\\\", datum[\\\"bin_maxbins_10_los_days\\\"])))) : 0.5)\"}}, \"fill\": {\"value\": \"#4c78a8\"}, \"x\": {\"field\": \"bin_maxbins_10_los_days_end\", \"scale\": \"x\", \"offset\": {\"signal\": \"0.5 + (abs(scale(\\\"x\\\", datum[\\\"bin_maxbins_10_los_days_end\\\"]) - scale(\\\"x\\\", datum[\\\"bin_maxbins_10_los_days\\\"])) < 0.25 ? 0.5 * (0.25 - (abs(scale(\\\"x\\\", datum[\\\"bin_maxbins_10_los_days_end\\\"]) - scale(\\\"x\\\", datum[\\\"bin_maxbins_10_los_days\\\"])))) : -0.5)\"}}, \"y\": {\"field\": \"__count\", \"scale\": \"y\"}}}, \"style\": [\"bar\"]}], \"scales\": [{\"name\": \"x\", \"type\": \"linear\", \"domain\": {\"signal\": \"[bin_maxbins_10_los_days_bins.start, bin_maxbins_10_los_days_bins.stop]\"}, \"range\": [0, {\"signal\": \"width\"}], \"bins\": {\"signal\": \"bin_maxbins_10_los_days_bins\"}, \"zero\": false}, {\"name\": \"y\", \"type\": \"linear\", \"domain\": [{\"signal\": \"(data(\\\"source_0_y_domain___count\\\")[0] || {}).min\"}, {\"signal\": \"(data(\\\"source_0_y_domain___count\\\")[0] || {}).max\"}], \"range\": [{\"signal\": \"height\"}, 0], \"nice\": true, \"zero\": true}], \"axes\": [{\"scale\": \"y\", \"zindex\": 0, \"aria\": false, \"maxExtent\": 0, \"labels\": false, \"domain\": false, \"gridScale\": \"x\", \"ticks\": false, \"tickCount\": {\"signal\": \"ceil(height/40)\"}, \"minExtent\": 0, \"grid\": true, \"orient\": \"left\"}, {\"scale\": \"x\", \"labelFlush\": true, \"labelOverlap\": true, \"orient\": \"bottom\", \"title\": \"Length of Stay (days)\", \"tickCount\": {\"signal\": \"ceil(width/10)\"}, \"grid\": false, \"zindex\": 0}, {\"scale\": \"y\", \"title\": \"Count of Records\", \"orient\": \"left\", \"grid\": false, \"labelOverlap\": true, \"tickCount\": {\"signal\": \"ceil(height/40)\"}, \"zindex\": 0}], \"title\": {\"text\": \"Distribution of ICU Length of Stay\", \"frame\": \"group\"}, \"background\": \"white\", \"style\": \"cell\", \"width\": 600, \"height\": 400, \"padding\": 5}, {\"mode\": \"vega\"});\n",
       "</script>"
      ],
      "text/plain": [
       "alt.Chart(...)"
      ]
     },
     "execution_count": 10,
     "metadata": {},
     "output_type": "execute_result"
    }
   ],
   "source": [
    "import altair as alt\n",
    "import duckdb\n",
    "import pyarrow.dataset as ds\n",
    "import pyarrow as pa\n",
    "import pyarrow.parquet as pq\n",
    "import pandas as pd\n",
    "\n",
    "alt.data_transformers.enable(\"vegafusion\")\n",
    "\n",
    "# Load the parquet files into DuckDB\n",
    "duckdb.sql(\"INSTALL httpfs;\")\n",
    "duckdb.sql(\"LOAD httpfs;\")\n",
    "\n",
    "parquet_files = [\n",
    "    'procedures_icd.parquet',\n",
    "    'diagnoses_icd.parquet',\n",
    "    'd_icd_procedures.parquet',\n",
    "    'd_icd_diagnoses.parquet',\n",
    "    'icu_icustays.parquet'\n",
    "]\n",
    "\n",
    "for pfile in parquet_files:\n",
    "    duckdb.sql(f\"CREATE VIEW {pfile.split('/')[-1].split('.')[0]} AS SELECT * FROM parquet_scan('{pfile}')\")\n",
    "\n",
    "# Query the data\n",
    "df = duckdb.sql(\"\"\"\n",
    "SELECT \n",
    "    i.hadm_id,\n",
    "    ROUND(i.los) AS los_days,\n",
    "    dp.icd_code AS procedure_icd_code,\n",
    "    dp.long_title AS procedure_description,\n",
    "    dd.icd_code AS diagnosis_icd_code,  \n",
    "    dd.long_title AS diagnosis_description\n",
    "FROM icu_icustays i\n",
    "LEFT JOIN procedures_icd p ON i.hadm_id = p.hadm_id\n",
    "LEFT JOIN d_icd_procedures dp ON p.icd_code = dp.icd_code\n",
    "LEFT JOIN diagnoses_icd d ON i.hadm_id = d.hadm_id\n",
    "LEFT JOIN d_icd_diagnoses dd ON d.icd_code = dd.icd_code\n",
    "\"\"\").df()\n",
    "\n",
    "# Create the histogram\n",
    "histogram = alt.Chart(df).mark_bar().encode(\n",
    "    alt.X(\"los_days:Q\", bin=True, title=\"Length of Stay (days)\"),\n",
    "    y='count()',\n",
    "    # tooltip=['procedure_description', 'diagnosis_description']\n",
    ").properties(\n",
    "    title='Distribution of ICU Length of Stay',\n",
    "    width=600,\n",
    "    height=400\n",
    ")\n",
    "\n",
    "histogram"
   ]
  }
 ],
 "metadata": {
  "kernelspec": {
   "display_name": "Python 3 (ipykernel)",
   "language": "python",
   "name": "python3"
  },
  "language_info": {
   "codemirror_mode": {
    "name": "ipython",
    "version": 3
   },
   "file_extension": ".py",
   "mimetype": "text/x-python",
   "name": "python",
   "nbconvert_exporter": "python",
   "pygments_lexer": "ipython3",
   "version": "3.9.6"
  }
 },
 "nbformat": 4,
 "nbformat_minor": 4
}
